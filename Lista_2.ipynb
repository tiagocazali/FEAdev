{
 "cells": [
  {
   "attachments": {
    "WhatsApp%20Image%202023-09-10%20at%2011.20.28.jpeg": {
     "image/jpeg": "[encoded data removed]"
    }
   },
   "cell_type": "markdown",
   "metadata": {},
   "source": [
    "![WhatsApp%20Image%202023-09-10%20at%2011.20.28.jpeg](attachment:WhatsApp%20Image%202023-09-10%20at%2011.20.28.jpeg)\n"
   ]
  },
  {
   "cell_type": "markdown",
   "metadata": {},
   "source": [
    "# Fala devs, blz?? \n",
    "\n",
    "Esta será nossa segunda lista de exercícios para você testar seu conhecimento acerca do conteúdo do MÓDULO 3:\n",
    "\n",
    "-Condicionais\n",
    "\n",
    "\n",
    "-Loops"
   ]
  },
  {
   "cell_type": "markdown",
   "metadata": {},
   "source": [
    "## INSTRUÇÕES:\n",
    "\n",
    "A lista deve ser realizada pelo Jupyter Notebook.\n",
    "\n",
    "Nâo é necessário entregar a lista para afins de certificado dentro da plataforma, entretanto para alunos da USP que queiram participar do processo seletivo ou conseguir créditos AAC (apenas FEANOS) é necessária a entrega de TODAS as listas.\n",
    "\n",
    "A entrega das listas ou pelo menos sua excecução é recomendada a fim de exercitar todo o conhecimento adquirido do curso.\n",
    "\n",
    "O DESAFIO é para realmente te desafiar, por isso não desista de tentar e de continuar com o curso, ao longo das listas você verá que cada vez mais você terá ferramentas para completá-lo.\n",
    "\n",
    "Caso haja alguma dúvida acerca da lista participe das monitorias que serão oferecidas as quintas e sábados das 17h as 18h pelo DISCORD. Caso seu problema não seje resolvido envie uma mensagem para contato.feadev@gmail.com\n",
    "\n",
    "O gabarito será disponibilizado na plataforma após o término de periodo de envio\n",
    "\n"
   ]
  },
  {
   "cell_type": "code",
   "execution_count": null,
   "metadata": {},
   "outputs": [],
   "source": [
    "## vamos começar??"
   ]
  },
  {
   "cell_type": "markdown",
   "metadata": {},
   "source": [
    "## QUESTÃO 0"
   ]
  },
  {
   "cell_type": "markdown",
   "metadata": {},
   "source": [
    "Escreva um programa em Python que solicite ao usuário que insira um número inteiro e, em seguida, verifique se o número é par ou ímpar. Se for par, o programa deve imprimir \"O número é par.\" Caso contrário, deve imprimir \"O número é ímpar.\""
   ]
  },
  {
   "cell_type": "markdown",
   "metadata": {},
   "source": [
    "#### LEMBRE-SE\n",
    "\n",
    "**int (Número Inteiro):**\n",
    "\n",
    "O tipo de dado int representa números inteiros, ou seja, números sem casas decimais.\n",
    "\n",
    "Exemplos de inteiros incluem -3, 0, 42, 1001, etc.\n",
    "\n",
    "Você pode realizar operações aritméticas, como adição, subtração, multiplicação e divisão, com números inteiros.\n",
    "\n",
    "**float (Número de Ponto Flutuante):**\n",
    "\n",
    "O tipo de dado float representa números de ponto flutuante, que têm casas decimais.\n",
    "\n",
    "Exemplos de números de ponto flutuante incluem 3.14, -0.5, 2.71828, etc.\n",
    "\n",
    "Você pode realizar operações aritméticas com números de ponto flutuante da mesma forma que com inteiros.\n",
    "\n",
    "**Quando precisar especificar qual tipo de número você aceitará na resposta utilize:**\n",
    "\n",
    "**numero = float(input(\"Digite um número: \"))**\n",
    "\n",
    "\n",
    "**numero = int(input(\"Digite um número: \"))**\n",
    "\n",
    "\n"
   ]
  },
  {
   "cell_type": "code",
   "execution_count": null,
   "metadata": {},
   "outputs": [],
   "source": [
    "#seu código começa aqui\n",
    "\n",
    "# Solicita ao usuário que insira um número\n",
    "numero = int(input(\"Digite um numero: \"))\n",
    "\n",
    "#Verifica se o número é divisivel por dois(PAR) ou não (IMPAR)\n",
    "if numero % 2 == 0:\n",
    "    print(f\"O numero {numero} é PAR!\")\n",
    "\n",
    "else:\n",
    "    print(f\"O numero {numero} é IMPAR!\")    "
   ]
  },
  {
   "cell_type": "markdown",
   "metadata": {},
   "source": [
    "## QUESTÃO 1\n"
   ]
  },
  {
   "cell_type": "markdown",
   "metadata": {},
   "source": [
    "Você está criando um programa de boas-vindas em Python para um jogo simples. Você deseja que o programa peça ao jogador para inserir um número, e com base nesse número, o programa dará uma resposta personalizada. Se o número inserido pelo jogador for maior que 10, o programa dará as boas-vindas a um jogador experiente. Se for 10 ou menor, o programa dará as boas-vindas a um jogador iniciante. Você precisa usar uma estrutura condicional (if-else) para fazer isso.\n",
    "\n",
    "Crie um programa em Python que peça ao jogador para digitar um número inteiro. Em seguida, verifique se o número é maior que 10. Se for maior que 10, imprima \"Bem-vindo, jogador experiente!\". Se for 10 ou menor, imprima \"Bem-vindo, jogador iniciante!\". Certifique-se de usar uma estrutura condicional (if-else) para determinar a saída com base no número inserido pelo jogador.\n",
    "\n",
    "\n",
    "\n",
    "lembre-se para pedir que o jogador insira um número você deve usar *input*\n"
   ]
  },
  {
   "cell_type": "markdown",
   "metadata": {},
   "source": [
    "A função input() em Python é usada para receber entradas de texto (ou outros tipos de dados, que são tratados como texto) do usuário através do teclado. Ela permite que um programa interaja com o usuário, solicitando que ele insira informações durante a execução do programa.\n",
    "\n",
    "A sintaxe básica do input() é a seguinte:"
   ]
  },
  {
   "cell_type": "code",
   "execution_count": null,
   "metadata": {},
   "outputs": [],
   "source": [
    "numero = int(input(\"Digite um numero: \"))\n",
    "\n",
    "#Verifica se o número é maior que 10\n",
    "if numero > 10:\n",
    "    print(\"Bem vindo Jogador experiente!\")\n",
    "\n",
    "else:\n",
    "    print(\"Bem vindo Jogador iniciante!\") "
   ]
  },
  {
   "cell_type": "markdown",
   "metadata": {},
   "source": [
    "## QUESTÃO 2\n",
    "\n"
   ]
  },
  {
   "cell_type": "markdown",
   "metadata": {},
   "source": [
    " Você deseja criar um programa que ajude os eleitores a entenderem se são obrigados a votar ou se têm apenas o direito de votar com base em sua idade.  Faça um programa que ao digitar a idade, ele diga se a pessoa já pode votar, se é obrigatório ou não\n",
    "\n",
    "* Faixas de idade e output esperados:*\n",
    "  - até 16 anos: \"Não pode votar\"\n",
    "  - Entre 16 e 18 anos: \"Direito a voto, mas não obrigatório\"\n",
    "  - Entre 16 e 70: \"Voto Obrigatório\"\n",
    "  - A partir de 70: \"Direito a voto, mas não obrigatório\""
   ]
  },
  {
   "cell_type": "code",
   "execution_count": null,
   "metadata": {},
   "outputs": [],
   "source": [
    "idade = int(input(\"Qual a sua idade?\"))\n",
    "\n",
    "if idade >= 70:\n",
    "    print(\"Direito ao Voto, mas não é Obrigatório\")\n",
    "\n",
    "elif idade >= 18: \n",
    "    print(\"Voto OBRIGATÓRIO\")\n",
    "\n",
    "elif idade >= 16:\n",
    "    print(\"Direito ao Voto, mas não é Obrigatório\")\n",
    "\n",
    "else:\n",
    "    print(\"Não pode Votar. Proibido\")"
   ]
  },
  {
   "cell_type": "markdown",
   "metadata": {},
   "source": [
    "## QUESTÃO 3"
   ]
  },
  {
   "cell_type": "markdown",
   "metadata": {},
   "source": [
    "Você descobriu um sebo perto da sua casa e resolve dar uma olhada e encontra muitos títulos interessantes. Mas como você não está nadando em dinheiro, terá que fazer algumas escolhas. \n",
    "- Escreva um programa que retorne se você deverá comprar ou não o livro, considerando que:\n",
    "  - Ele precisa estar na sua wishlist (nada de comprar por impulso);\n",
    "  - O preço do sebo deve ser mais barato do que na internet."
   ]
  },
  {
   "cell_type": "markdown",
   "metadata": {},
   "source": [
    "a) Você deverá comprar Moby Dick?\n",
    "\n",
    "b) Você deverá comprar Crime e Castigo?\n",
    "\n",
    "c) Você deverá comprar a Odisseia?\n"
   ]
  },
  {
   "cell_type": "code",
   "execution_count": null,
   "metadata": {},
   "outputs": [],
   "source": [
    "wishlist = ['Moby Dick', 'Helena', 'A Origem das Espécies', 'Grande Sertão: Veredas', 'Odisseia', 'Rápido e Devagar', 'Sidarta']\n",
    "\n",
    "precos_sebo = {'Odisseia':50, 'Jane Eyre':61, 'A Divina Comédia': 56, 'Helena':10, 'Moby Dick':55, 'Crime e Castigo':20}\n",
    "precos_internet = {'Odisseia':30, 'Jane Eyre':32, 'A Divina Comédia': 22, 'Helena':26, 'Moby Dick':145, 'Crime e Castigo':80}\n",
    "\n",
    "#####SEU CODIGO COMECA AQUI#####\n",
    "\n",
    "#devo_comprar = [\"Moby DIck\", \"Crime e castigo\", \"Odisseia\"]\n",
    "\n",
    "nome_livro = input(\"Qual o nome do livro que deseja comprar? \").title()\n",
    "\n",
    "if nome_livro.title() in wishlist:\n",
    "    if precos_sebo[nome_livro] < precos_internet[nome_livro]:\n",
    "        print(\"APROVADO! Pode Comprar! Aqui no Sebo está mais barato\")\n",
    "    \n",
    "    else:\n",
    "        print(\"NÂO compre aqui! Na Internet está mais barato!\")\n",
    "\n",
    "else:\n",
    "    print(\"NÃO VAI COMPRAR NADA! Esse livro nem está na sua lista de desejos! Pare de gastar!\")"
   ]
  },
  {
   "cell_type": "markdown",
   "metadata": {},
   "source": [
    "# QUESTÃO 4"
   ]
  },
  {
   "cell_type": "markdown",
   "metadata": {},
   "source": [
    "Você está comprando uma sobremesa em uma cafeteria. O preço da sobremesa pode variar, e você tem um voucher que cobre até $20. Se a sobremesa custar mais, você precisará pagar a diferença. Se custar menos, você economizará o valor restante do voucher."
   ]
  },
  {
   "cell_type": "markdown",
   "metadata": {},
   "source": [
    "Crie um programa em Python que solicite o preço da sobremesa que você deseja comprar. Em seguida, o programa deve calcular se a operação foi vantajosa e quanto você economizou ou precisa pagar a mais.\n",
    "\n",
    "Se o preço da sobremesa for maior que 20, o programa deve imprimir \"Você precisa pagar X a mais.\" (onde X é a diferença entre o preço da sobremesa e 20).\n",
    "\n",
    "Se o preço da sobremesa for igual a 20, o programa deve imprimir \"Você não precisa pagar nada a mais.\"\n",
    "\n",
    "Se o preço da sobremesa for menor que 20, o programa deve imprimir \"Você economizou X.\" (onde X é a diferença entre 20 e o preço da sobremesa)."
   ]
  },
  {
   "cell_type": "code",
   "execution_count": null,
   "metadata": {},
   "outputs": [],
   "source": [
    "# Solicite o preço da sobremesa\n",
    "# Defina o preço máximo coberto pelo voucher\n",
    "# Calcule a diferença entre o preço da sobremesa e o valor do voucher\n",
    "# Verifi1que se você precisa pagar a mais, economizou ou não precisa pagar nada a mais\n",
    "\n",
    "\n",
    "from tomlkit import value\n",
    "\n",
    "\n",
    "voucher = 20\n",
    "valor_sobremesa = float(input(\"Qual o valor da Sobremesa: \"))\n",
    "\n",
    "if valor_sobremesa > voucher:\n",
    "    print(f\"Seu Voucher é de R${voucher} - Você precisa pagar R${valor_sobremesa - voucher} a mais.\")\n",
    "\n",
    "elif valor_sobremesa == voucher:\n",
    "    print(f\"Você não precisa pagar nada a mais.\")\n",
    "\n",
    "else:\n",
    "    print(f\"Você economizou R${voucher - valor_sobremesa}\")\n",
    "    voucher = voucher - valor_sobremesa\n",
    "    print(f\"Seu saldo do voucher agora é de R$ {voucher}\")"
   ]
  },
  {
   "cell_type": "markdown",
   "metadata": {},
   "source": [
    "## QUESTÃO 5"
   ]
  },
  {
   "cell_type": "markdown",
   "metadata": {},
   "source": [
    "a)Escreva um programa em Python que use um loop para imprimir os números de 1 a 5.\n",
    "\n",
    "A saída do programa deve ser algo como:\n",
    "\n",
    "1\n",
    "\n",
    "2\n",
    "\n",
    "3\n",
    "\n",
    "4\n",
    "\n",
    "5\n",
    " "
   ]
  },
  {
   "cell_type": "code",
   "execution_count": null,
   "metadata": {},
   "outputs": [],
   "source": [
    "#Você pode usar um loop for ou while para resolver este exercício, conforme preferir.\n",
    "\n",
    "#usando FOR\n",
    "print(\"Usando FOR\")\n",
    "for x in range(1,6):\n",
    "    print(x)\n",
    "\n",
    "#usando While\n",
    "print(\"Usando WHILE\")\n",
    "x=1\n",
    "while(x<=5):\n",
    "    print(x)\n",
    "    x += 1\n",
    "    "
   ]
  },
  {
   "cell_type": "markdown",
   "metadata": {},
   "source": [
    " b)Você ficou animado com o novo programa criado acima para imprimir os números e mostrou pra um amigo que dá aula para o fundamental 1. Ao ver a mágica acontecendo seu amigo implorou para que você construísse uma tabuada automática para ele.\n",
    "\n",
    "Escreva um código que receba o input de um número e retorne sua tabuada padrão, multiplicando até 10 e ajude o profesor a automatizar suas aulas.\n",
    "  \n",
    " OBS: deixe sua tabuada toda alinhada conforme exemplo:\n",
    " \n",
    "    n = 7\n",
    "    \n",
    "    7 x 1 = 7\n",
    "    7 x 2 = 14\n",
    "    .\n",
    "    .\n",
    "    .\n",
    "    7 X  9 = 63\n",
    "    7 X 10 = 70"
   ]
  },
  {
   "cell_type": "code",
   "execution_count": null,
   "metadata": {},
   "outputs": [],
   "source": [
    "print(\"Vamos brincar de Tabuada\")\n",
    "numero = int(input(\"Tabuada de qual numero? \"))\n",
    "\n",
    "print(f\"Tabuada do {numero}\")\n",
    "for aux in range(1,11):\n",
    "    print(f\"{numero} x {aux} = {numero * aux}\")"
   ]
  },
  {
   "cell_type": "markdown",
   "metadata": {},
   "source": [
    "## QUESTÃO 6"
   ]
  },
  {
   "cell_type": "markdown",
   "metadata": {},
   "source": [
    "**Bad Romance:** \n",
    "\n",
    "De volta a 2009. Tem umas músicas com um refrão tão gostosinho que fica martelando na nossa mente, então vamos aproveitar para analisar e exercitar nossas skills de programação. Escreva um código que conte quantas vezes a letra \"a\" aparece em duas estrofes do famoso hit de Lady Gaga:\n"
   ]
  },
  {
   "cell_type": "code",
   "execution_count": 1,
   "metadata": {},
   "outputs": [
    {
     "name": "stdout",
     "output_type": "stream",
     "text": [
      "A letra 'a' aparece 30 vezes nesse refrão!\n",
      "A letra 'a' aparece 30 vezes nesse refrão!\n",
      "30\n"
     ]
    }
   ],
   "source": [
    "bad_romance = \"\"\"Rah, rah-ah-ah-ah\n",
    "                 Roma, roma-ma\n",
    "                 Gaga, ooh-la-la\n",
    "                 Want your bad romance\n",
    "\n",
    "                 Rah, rah-ah-ah-ah\n",
    "                 Roma, roma-ma\n",
    "                 Gaga, ooh-la-la\n",
    "                 Want your bad romance\"\"\"\n",
    "                 \n",
    "#======= Usando a propria String ========\n",
    "\n",
    "\n",
    "soma=0\n",
    "for cada_letra in bad_romance:\n",
    "    if cada_letra == \"a\":\n",
    "            soma += 1\n",
    "\n",
    "print(f\"A letra 'a' aparece {soma} vezes nesse refrão!\")\n",
    "\n",
    "#===========USANDO LISTA =================\n",
    "#Separa cada palavra da frase em um elemento na lista [\"Rah,\" , \" rah-ah-ah-ah\", \"Roma,\" \" roma-ma\"]\n",
    "lista_de_palavras = bad_romance.split()\n",
    "\n",
    "soma = 0\n",
    "for cada_palavra in lista_de_palavras:\n",
    "    for cada_letra in cada_palavra:\n",
    "        if cada_letra == \"a\":\n",
    "            soma += 1\n",
    "\n",
    "print(f\"A letra 'a' aparece {soma} vezes nesse refrão!\")\n",
    "\n",
    "\n",
    "#====== USANDO METODO COUNT ===========\n",
    "print(bad_romance.count(\"a\"))\n",
    "\n"
   ]
  },
  {
   "cell_type": "markdown",
   "metadata": {},
   "source": [
    "# Questão 7"
   ]
  },
  {
   "cell_type": "markdown",
   "metadata": {},
   "source": [
    "O grande poder dos Loops é que você poder printar elementos em uma velocidade muuito maior. Utilize esse novo poder para printar os digitos de 1 a 9 da seguinte maneira:"
   ]
  },
  {
   "cell_type": "code",
   "execution_count": null,
   "metadata": {},
   "outputs": [],
   "source": [
    "\"\"\"\n",
    "1\n",
    "22\n",
    "333\n",
    "4444\n",
    "55555\n",
    "666666\n",
    "7777777\n",
    "88888888\n",
    "999999999\n",
    "\"\"\""
   ]
  },
  {
   "cell_type": "code",
   "execution_count": null,
   "metadata": {},
   "outputs": [],
   "source": [
    "for x in range(1,10):\n",
    "    print(str(x)*x)\n",
    "    #precisa usar str() para converter o numero em string, pois se não fizer isso, x*x será feito como uma conta de multiplicação"
   ]
  },
  {
   "cell_type": "markdown",
   "metadata": {},
   "source": [
    "# Questão 8"
   ]
  },
  {
   "cell_type": "markdown",
   "metadata": {},
   "source": [
    "Escreva um código que receba o input de um número e verifique se ele é primo ou não."
   ]
  },
  {
   "cell_type": "code",
   "execution_count": null,
   "metadata": {},
   "outputs": [],
   "source": [
    "# Solicite ao usuário que insira um número\n",
    "# Verifique se o número é maior que 1\n",
    "# Inicialize uma variável para contar os divisores\n",
    "# Loop para verificar se o número é primo\n",
    "# Se encontrarmos um divisor, podemos parar de verificar\n",
    "# Se não houver divisores além de 1 e o próprio número, é primo\n"
   ]
  },
  {
   "cell_type": "code",
   "execution_count": 4,
   "metadata": {},
   "outputs": [
    {
     "name": "stdout",
     "output_type": "stream",
     "text": [
      "O numero 1 NÂO é primo.\n",
      "SIM! O numero 2 é Primo!\n",
      "SIM! O numero 3 é Primo!\n",
      "TESTE - 4/2\n",
      "O numero 4 NÂO é primo!\n",
      "SIM! O numero 4 é Primo!\n",
      "TESTE - 5/2\n",
      "SIM! O numero 5 é Primo!\n",
      "TESTE - 6/2\n",
      "O numero 6 NÂO é primo!\n",
      "SIM! O numero 6 é Primo!\n",
      "TESTE - 7/2\n",
      "TESTE - 7/3\n",
      "SIM! O numero 7 é Primo!\n",
      "TESTE - 8/2\n",
      "O numero 8 NÂO é primo!\n",
      "SIM! O numero 8 é Primo!\n"
     ]
    }
   ],
   "source": [
    "#====== Versão simples ======\n",
    "\n",
    "while True:\n",
    "    num = int(input(\"Digite um numero para saber se é primo, (ou zero para sair): \" ))\n",
    "    if num == 0:\n",
    "        break\n",
    "\n",
    "    elif num <= 1:\n",
    "        print(f\"O numero {num} NÂO é primo.\")\n",
    "    \n",
    "    else:\n",
    "        tem_divisor = False\n",
    "        for x in range(2, int(num/2)+1):\n",
    "            print(f\"TESTE - {num}/{x}\")\n",
    "            if num % x == 0:\n",
    "                tem_divisor = True\n",
    "                print(f\"O numero {num} NÂO é primo!\") \n",
    "                break\n",
    "\n",
    "        if not tem_divisor:\n",
    "            print(f\"SIM! O numero {num} é Primo!\") "
   ]
  },
  {
   "cell_type": "markdown",
   "metadata": {},
   "source": [
    "# Questão 9"
   ]
  },
  {
   "cell_type": "markdown",
   "metadata": {},
   "source": [
    "Crie um programa que peça para digitar um número constantemente sem limite, até que o usário digite o número 0. Em seguida mostre a soma de todos os valores inputados, e a quantidade de números que foram inputados."
   ]
  },
  {
   "cell_type": "code",
   "execution_count": 25,
   "metadata": {},
   "outputs": [
    {
     "name": "stdout",
     "output_type": "stream",
     "text": [
      "Você digitou 4 numeros\n",
      "A some de todos é 20.0\n"
     ]
    }
   ],
   "source": [
    "soma = 0\n",
    "quant =0\n",
    "\n",
    "while True:\n",
    "    num = float(input(\"Digite um numero para Somar (ou zero para SAIR): \"))\n",
    "    if num == 0:\n",
    "        print(f\"Você digitou {quant} numeros\")\n",
    "        print(f\"A some de todos é {soma}\")\n",
    "        break\n",
    "    else:\n",
    "        soma += num\n",
    "        quant += 1"
   ]
  },
  {
   "cell_type": "markdown",
   "metadata": {},
   "source": [
    "# DESAFIO"
   ]
  },
  {
   "cell_type": "markdown",
   "metadata": {},
   "source": [
    "Escreva um programa em Python que solicite ao usuário que insira um ano (um número inteiro) e determine se o ano é bissexto ou não. O programa deve continuar pedindo ao usuário para inserir anos até que ele decida parar.\n",
    "\n",
    "Um ano bissexto é um ano que é divisível por 4, com exceção dos anos que são divisíveis por 100. No entanto, anos divisíveis por 400 também são considerados bissextos. Em outras palavras:\n",
    "\n",
    "**Anos divisíveis por 4 são bissextos (por exemplo, 2004, 2008, 2012).**\n",
    "\n",
    "**Anos divisíveis por 100 não são bissextos**\n",
    "\n",
    "Instruções:\n",
    "\n",
    "Solicite ao usuário que insira um ano.\n",
    "\n",
    "Verifique se o ano é bissexto de acordo com as regras mencionadas anteriormente.\n",
    "\n",
    "Se o ano for bissexto, imprima \"O ano [ano] é bissexto.\".\n",
    "\n",
    "Se o ano não for bissexto, imprima \"O ano [ano] não é bissexto.\".\n",
    "\n",
    "Pergunte ao usuário se ele deseja verificar outro ano.\n",
    "\n",
    "Se o usuário quiser verificar outro ano, repita o processo. Caso contrário, encerre o programa.\n"
   ]
  },
  {
   "cell_type": "markdown",
   "metadata": {},
   "source": [
    "1) Um ano bissexto é um ano que é divisível por 4, \n",
    "2) Com exceção dos anos que são divisíveis por 100. \n",
    "3) No entanto, anos divisíveis por 400 também são considerados bissextos."
   ]
  },
  {
   "cell_type": "code",
   "execution_count": 40,
   "metadata": {},
   "outputs": [
    {
     "name": "stdout",
     "output_type": "stream",
     "text": [
      "O ano 2040 É BISSEXTO!\n"
     ]
    }
   ],
   "source": [
    "#=========  outra maneira =========\n",
    "ano = int(input(\"Digite o ano: \"))\n",
    "if ano % 4 == 0:\n",
    "    if ano % 100 == 0: \n",
    "        if ano % 400 == 0:\n",
    "            print(f\"O ano {ano} É BISSEXTO!\")\n",
    "\n",
    "        else:\n",
    "           print(f\"O ano {ano} NÂO é bissexto.\") \n",
    "    else:\n",
    "        print(f\"O ano {ano} É BISSEXTO!\")\n",
    "else:\n",
    "    print(f\"O ano {ano} NÂO é bissexto.\")"
   ]
  },
  {
   "cell_type": "code",
   "execution_count": 41,
   "metadata": {},
   "outputs": [
    {
     "name": "stdout",
     "output_type": "stream",
     "text": [
      "O ano 2040 É BISSEXTO!\n"
     ]
    }
   ],
   "source": [
    "#==== Outra Maneira =======\n",
    "ano = int(input(\"Digite o ano: \"))\n",
    "\n",
    "if ano % 4 == 0 and (ano % 100 != 0 or ano % 400 == 0):\n",
    "    print(f\"O ano {ano} É BISSEXTO!\")\n",
    "else:\n",
    "    print(f\"O ano {ano} NÃO é bissexto.\")\n"
   ]
  },
  {
   "cell_type": "markdown",
   "metadata": {},
   "source": [
    "### CURIOSIDADE\n",
    "\n",
    "Para criar um calendário em Python, você pode usar a biblioteca calendar que já está incluída na biblioteca padrão da linguagem. A biblioteca **calendar** fornece várias funções e classes para trabalhar com datas e calendários. Aqui está um exemplo simples de como criar um calendário de um mês específico em Python"
   ]
  },
  {
   "cell_type": "code",
   "execution_count": 26,
   "metadata": {},
   "outputs": [
    {
     "name": "stdout",
     "output_type": "stream",
     "text": [
      "    October 2023\n",
      "Mo Tu We Th Fr Sa Su\n",
      "                   1\n",
      " 2  3  4  5  6  7  8\n",
      " 9 10 11 12 13 14 15\n",
      "16 17 18 19 20 21 22\n",
      "23 24 25 26 27 28 29\n",
      "30 31\n",
      "\n"
     ]
    }
   ],
   "source": [
    "import calendar\n",
    "\n",
    "# Defina o ano e o mês desejados\n",
    "ano = 2023\n",
    "mes = 10  # Por exemplo, outubro\n",
    "\n",
    "# Crie um objeto de calendário\n",
    "cal = calendar.month(ano, mes)\n",
    "\n",
    "# Imprima o calendário\n",
    "print(cal)\n"
   ]
  },
  {
   "cell_type": "markdown",
   "metadata": {},
   "source": [
    "Neste exemplo, importamos a biblioteca calendar, definimos o ano e o mês desejados (neste caso, outubro de 2023) e, em seguida, usamos a função calendar.month(ano, mes) para criar o calendário desse mês específico. O calendário é retornado como uma string formatada e pode ser impresso no console.\n",
    "\n",
    "Você pode personalizar ainda mais a exibição do calendário usando as várias funções e métodos oferecidos pela biblioteca calendar, como calendar.weekday() para obter o dia da semana de uma data específica, ou calendar.setfirstweekday() para definir o primeiro dia da semana no calendário."
   ]
  }
 ],
 "metadata": {
  "kernelspec": {
   "display_name": "Python 3 (ipykernel)",
   "language": "python",
   "name": "python3"
  },
  "language_info": {
   "codemirror_mode": {
    "name": "ipython",
    "version": 3
   },
   "file_extension": ".py",
   "mimetype": "text/x-python",
   "name": "python",
   "nbconvert_exporter": "python",
   "pygments_lexer": "ipython3",
   "version": "3.11.5"
  }
 },
 "nbformat": 4,
 "nbformat_minor": 2
}
