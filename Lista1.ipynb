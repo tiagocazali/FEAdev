{
 "cells": [
  {
   "cell_type": "markdown",
   "metadata": {},
   "source": [
    "### Fala devs, blz?? \n",
    "\n",
    "Esta será nossa primeira lista de exercícios para você testar seu conhecimento acerca do conteúdo do MÓDULO 2:\n",
    "\n",
    "-Meu Primeiro Programa em Python\n",
    "\n",
    "\n",
    "-Estrutura de Dados"
   ]
  },
  {
   "cell_type": "markdown",
   "metadata": {},
   "source": [
    "## INSTRUÇÕES:\n",
    "\n",
    "A lista deve ser realizada pelo Jupyter Notebook.\n",
    "\n",
    "Nâo é necessário entregar a lista para afins de certificado dentro da plataforma, entretanto para alunos da USP que queiram participar do processo seletivo ou conseguir créditos AAC (apenas FEANOS) é necessária a entrega de TODAS as listas.\n",
    "\n",
    "A entrega das listas ou pelo menos sua excecução é recomendada a fim de exercitar todo o conhecimento adquirido do curso.\n",
    "\n",
    "O DESAFIO é para realmente te desafiar, por isso não desista de tentar e de continuar com o curso, ao longo das listas você verá que cada vez mais você terá ferramentas para completá-lo.\n",
    "\n",
    "Caso haja alguma dúvida acerca da lista participe das monitorias que serão oferecidas as quintas e sábados das 17h as 18h pelo DISCORD. Caso seu problema não seje resolvido envie uma mensagem para contato.feadev@gmail.com\n",
    "\n",
    "O gabarito será disponibilizado na plataforma após o término de periodo de envio\n",
    "\n"
   ]
  },
  {
   "cell_type": "code",
   "execution_count": null,
   "metadata": {},
   "outputs": [],
   "source": [
    "## vamos começar??"
   ]
  },
  {
   "cell_type": "markdown",
   "metadata": {},
   "source": [
    "## QUESTÃO 0"
   ]
  },
  {
   "cell_type": "markdown",
   "metadata": {},
   "source": [
    "Todo programador deve saber apenas uma coisa: Pedir para o Python escrever \"Hello, Word\"\n",
    "Vamos testar se você já pode ser nomeado como um programador???"
   ]
  },
  {
   "cell_type": "code",
   "execution_count": null,
   "metadata": {},
   "outputs": [],
   "source": [
    "print(\"Hello, word!\")"
   ]
  },
  {
   "cell_type": "markdown",
   "metadata": {},
   "source": [
    "E se eu te pedir para criar um código que tenha como OUTPUT  (termo comumente usado na programação e na computação em geral para se referir à saída de um programa ou processo) o seu número favorito? Como seria?"
   ]
  },
  {
   "cell_type": "code",
   "execution_count": null,
   "metadata": {},
   "outputs": [],
   "source": [
    "numero = int(input(\"Qual seu número favorito?: \\n\"))\n",
    "print(\"Seu numero favorito é: \", numero)"
   ]
  },
  {
   "cell_type": "markdown",
   "metadata": {},
   "source": [
    "## QUESTÃO 1\n"
   ]
  },
  {
   "cell_type": "markdown",
   "metadata": {},
   "source": [
    "Você está fazendo um pedido no Starbucks e na hora da compra pedem o seu nome completo para te chamarem quando seu pedido estiver pronto. Entretanto a moça do caixa anota somente o seu primeiro nome. Só depois de ter visto que haviam muitas pessoas na fila com o mesmo nome que o seu, ela te pergunta somente o seu sobrenome.\n",
    "\n",
    "Na hora de entrega do seu pedido, como o atendente chamará por você??\n",
    "\n",
    "Agora, sua tarefa é criar um código em Python no Jupyter Notebook para combinar o seu primeiro nome e seu sobrenome e exibir o nome completo que o atendente usará para chamar você quando seu pedido estiver pronto.\n",
    "\n",
    "Seu código deve fazer o seguinte:\n",
    "\n",
    "Declare duas variáveis: primeiro_nome e sobrenome.\n",
    "Atribua um valor ao primeiro_nome representando o primeiro nome que a atendente anotou.\n",
    "Atribua um valor ao sobrenome representando o sobrenome que a atendente solicitou posteriormente.\n",
    "Use sua habilidade em Python para combinar essas duas partes e criar o nome completo.\n",
    "Exiba o nome completo no Jupyter Notebook.\n",
    "\n",
    "Desafio aceito? Agora, você está pronto para criar o código que garantirá que o atendente do Starbucks chame você corretamente quando seu pedido estiver pronto! ☕🪄"
   ]
  },
  {
   "cell_type": "code",
   "execution_count": null,
   "metadata": {},
   "outputs": [],
   "source": [
    "nome = \"Tiago\"\n",
    "sobrenome = \"Cazali\"\n",
    "nome_completo = nome + \" \" + sobrenome\n",
    "print(f\"Pedido do: {nome_completo}\")\n"
   ]
  },
  {
   "cell_type": "markdown",
   "metadata": {},
   "source": [
    "## QUESTÃO 2\n",
    "\n"
   ]
  },
  {
   "cell_type": "markdown",
   "metadata": {},
   "source": [
    "Imagine que você é um professor de Matemática para crianças do ensino fundamental e um aluno curioso te pergunta:\n",
    "\n",
    "\"Professor, quanto é 13 + 15 + 16 + 6?\"\n",
    "\n",
    "Você, é claro, não quer parecer contar nos dedos por baixo da mesa para uma pergunta tão simples. Então, você decide mostrar toda a sua sabedoria tecnológica e recorre ao Python para dar a resposta instantaneamente.\n",
    "\n",
    "Como deve ser o código para chegar ao resultado?"
   ]
  },
  {
   "cell_type": "code",
   "execution_count": null,
   "metadata": {},
   "outputs": [],
   "source": [
    "x = 13 + 15 + 16 + 6\n",
    "print(f'A resposta é: {x}')"
   ]
  },
  {
   "cell_type": "markdown",
   "metadata": {},
   "source": [
    "## QUESTÃO 3"
   ]
  },
  {
   "cell_type": "markdown",
   "metadata": {},
   "source": [
    "Você é um detetive de palavras, conhecido por desvendar enigmas usando manipulação de texto. Hoje, você enfrenta um novo mistério envolvendo uma mensagem secreta. Sua missão é decifrar essa mensagem usando operações com texto em Python.\n",
    "\n",
    "Mistério da Mensagem Secreta:\n",
    "\n",
    "Você recebeu a seguinte mensagem secreta:"
   ]
  },
  {
   "cell_type": "code",
   "execution_count": null,
   "metadata": {},
   "outputs": [],
   "source": [
    "\n",
    "#Mistério: @s4b@d0 3n0c0nd3 3st@ m3n$@g3m. P0d3r14$ d3c1fr@-l@?\n"
   ]
  },
  {
   "cell_type": "markdown",
   "metadata": {},
   "source": [
    "A mensagem parece confusa, mas você sabe que ela contém informações importantes. Aqui estão as etapas que você deve seguir para decifrar a mensagem:\n",
    "\n",
    "Crie uma variável chamada mensagem e atribua a ela a mensagem secreta fornecida acima.\n",
    "Use operações de texto em Python para limpar a mensagem, removendo todos os caracteres especiais, números e espaços em branco.\n",
    "\n",
    "Converta a mensagem resultante para letras minúsculas.\n",
    "\n",
    "Agora que a mensagem está limpa, você pode decifrá-la? A mensagem secreta pode conter uma pista importante!\n",
    "\n",
    "Crie um código em Python no Jupyter Notebook para realizar essas etapas e revelar o que está por trás desse mistério! 🕵️‍♂️🔍"
   ]
  },
  {
   "cell_type": "code",
   "execution_count": null,
   "metadata": {},
   "outputs": [],
   "source": [
    "mensagem= ' @lg0 3$c0nd3 3$t@ m3n$@g3m. P0d3r1@$ d3c1fr@-l@?'\n",
    "resposta = mensagem.replace('@', 'a').replace('3', 'e').replace('4', 'a').replace('0', 'o').replace('1', 'i').replace('$', 's')\n",
    "print(resposta)"
   ]
  },
  {
   "cell_type": "markdown",
   "metadata": {},
   "source": [
    "## QUESTÃO 4"
   ]
  },
  {
   "cell_type": "markdown",
   "metadata": {},
   "source": [
    "\n",
    "Você acaba de ingressar no curso de Python do FEA.dev e decide iniciar sua própria consultoria. Parabéns!!! Você logo recebe seu primeiro cliente, a pizzaria do bairro. Ela tem um grande objetivo em mente: desbancar a grande indústria de pizza Baralho's e Pizza Wut. Para isso, vai recorrer à tecnologia em seus processos. \n",
    "\n",
    "Sua primeira função é criar um sistema que recebe o valor de cada venda de pizza e bebida e imprima o valor final."
   ]
  },
  {
   "cell_type": "code",
   "execution_count": 8,
   "metadata": {},
   "outputs": [
    {
     "name": "stdout",
     "output_type": "stream",
     "text": [
      "Entre com seu pedido!\n",
      "\n",
      "===============\n",
      "Total de Pizzas: 6.0 e Total de Bebidas: 7.0\n",
      "TOTAL DO PEDIDO: 13.0\n"
     ]
    }
   ],
   "source": [
    "pizzas = []\n",
    "bebidas = []\n",
    "\n",
    "print(\"Entre com seu pedido!\\n\")\n",
    "while True:\n",
    "\n",
    "    temp = float(input(\"Valor da Pizza R$: \"))\n",
    "    pizzas.append(temp)\n",
    "\n",
    "    temp = float(input(\"Valor da bebida: R$: \"))\n",
    "    bebidas.append(temp)\n",
    "\n",
    "    resposta = input(\"Deseja adicionar novo pedido? s ou n\").lower()\n",
    "    if( resposta == \"n\"):\n",
    "        print(\"=\" * 15)\n",
    "        print(f\"Total de Pizzas: {sum(pizzas)} e Total de Bebidas: {sum(bebidas)}\")\n",
    "        print(f\"TOTAL DO PEDIDO: {sum(pizzas)+sum(bebidas)}\")\n",
    "        break"
   ]
  },
  {
   "cell_type": "markdown",
   "metadata": {},
   "source": [
    "## QUESTÃO 5"
   ]
  },
  {
   "cell_type": "markdown",
   "metadata": {},
   "source": [
    "\n",
    "Excelente! A clientela adorou o programa de fidelidade.\n",
    "Feito isto, chegou a hora de olhar para os processos internos. A ideia é automatizar a lista de compra da semana, antes feita no papel. "
   ]
  },
  {
   "cell_type": "markdown",
   "metadata": {},
   "source": [
    "a) O chef de cozinha resolveu aprender uma receita que utiliza a fermentação natural, de forma que a pizza fique mais próxima da tradicional italiana. Feito isso, não há mais necessidade de utilizar leite, ovos e fermento biológico para a receita. Retire-os da lista de compras e em seguida, adicione Levain e Açúcar, ingredientes da fermentação natural. Imprima a nova lista."
   ]
  },
  {
   "cell_type": "code",
   "execution_count": null,
   "metadata": {},
   "outputs": [],
   "source": [
    "compras = ['Farinha de Trigo', 'Ovos', 'Fermento Biológico', 'Leite', 'Calabresa', 'Milho', \n",
    "           'Champignon', 'Molho de Tomate', 'Frango', 'Requeijão', 'Lombo']\n",
    "\n",
    "compras.remove(\"Leite\")\n",
    "compras.remove(\"Ovos\")\n",
    "compras.pop(1) #Agora Fermento Biológico esta na segunda posição, que é o indice 1\n",
    "\n",
    "compras.append(\"Levain\")\n",
    "compras.append(\"Açucar\")\n",
    "\n",
    "print(compras)"
   ]
  },
  {
   "cell_type": "markdown",
   "metadata": {},
   "source": [
    "b) Enquanto você estava com o computador ligado, um hacker da pizzaria rival do bairro resolveu atacar sua lista de compras invertendo alguns dos itens, como se vê abaixo:"
   ]
  },
  {
   "cell_type": "markdown",
   "metadata": {},
   "source": [
    "Conserte os valores que foram adulterados e imprima a lista corrigida."
   ]
  },
  {
   "cell_type": "code",
   "execution_count": null,
   "metadata": {},
   "outputs": [],
   "source": [
    "sarpmoc = ['ogirT ed ahniraF', 'Calabresa', 'Milho', 'Champignon', 'etamoT ed ohloM', 'Frango', \n",
    "           'Requeijão', 'Lombo', 'niaveL', 'Açúcar']\n",
    "\n",
    "compras = []\n",
    "compras.append(sarpmoc[0][::-1]) # inverte a palavra - De 0 até o final indo de tras para frente (-1)\n",
    "compras.extend(sarpmoc[1:4])     # cria uma slice dos itens 1,2 e 3 da lista, que estão corretos (obs: 4 não incluso)\n",
    "compras.append(sarpmoc[4][::-1])\n",
    "compras.extend(sarpmoc[5:8])\n",
    "compras.append(sarpmoc[8][::-1])\n",
    "compras.append(sarpmoc[-1])       # adiciona o ultimo elemento da lista sarpmoc a compras\n",
    "lista_em_tuplas = tuple(compras)\n",
    "print(type(lista_em_tuplas))\n",
    "print(lista_em_tuplas)"
   ]
  },
  {
   "cell_type": "markdown",
   "metadata": {},
   "source": [
    "c) Após esse duro golpe, você percebe que é necessário guardar as informações importantes em uma estrutura de dados que seja mais segura (isto é, que não seja mutável). Converta a lista de compras para uma estrutura com estas características e imprima o tipo da variável. &nbsp; Dica: Utilize a função type() para obter o tipo da variável"
   ]
  },
  {
   "cell_type": "code",
   "execution_count": null,
   "metadata": {},
   "outputs": [],
   "source": [
    "compras = ['Farinha de Trigo', 'Calabresa', 'Milho', 'Champignon', 'Molho de Tomate', 'Frango', 'Requeijão', 'Lombo', 'Levain', 'Açúcar']\n",
    "lista_de_tupla = tuple(compras)\n",
    "print(type(lista_de_tupla))\n",
    "print(lista_de_tupla)"
   ]
  },
  {
   "cell_type": "markdown",
   "metadata": {},
   "source": [
    "## QUESTÃO 6"
   ]
  },
  {
   "cell_type": "markdown",
   "metadata": {},
   "source": [
    "\n",
    "\n",
    "Empresas modernas se importam com ESG (Environmental, Social and Governance). A pizzaria do bairro não seria diferente, e sua missão é auxiliar a empresa a reduzir as emissões de lixo em sua operação. &nbsp; \n"
   ]
  },
  {
   "cell_type": "markdown",
   "metadata": {},
   "source": [
    " O primeiro passo será tornar o panfleto digital, de forma que seja enviado pelas redes sociais e não precise ser impresso e consequentemente descartável. Para demonstrar essa funcionalidade ao dono, você deve criar um exemplo de panfleto que contenha os sabores de pizza salgadas e doces (separados), tipos de bebida e adicionais, conforme os valores a seguir:\n",
    "-  Pizzas salgadas: Calabresa, Portuguesa, Mussarela e Pepperoni;\n",
    "-  Pizzas doces: Prestígio, Chocolate e Doce de Leite;\n",
    "-  Bebidas: Guaraná, Cola, Suco de Laranja e Suco de Uva;\n",
    "-  Adicionais: Bacon, Requeijão, Milho e Azeitona\n",
    "\n",
    "Imprima o panfleto final."
   ]
  },
  {
   "cell_type": "code",
   "execution_count": null,
   "metadata": {},
   "outputs": [],
   "source": [
    "print('=' * 55)\n",
    "print(\"*****{:^45}*****\".format(\"PIZZARIA DO BAIRRO\"))\n",
    "pizzas = {\n",
    "            'Pizzas salgadas': ['Calabresa', 'Portuguesa', 'Mussarela', 'Pepperoni'], \n",
    "            'Pizzas doces': ['Prestígio', 'Chocolate', 'Doce de Leite'],\n",
    "            'Bebidas': ['Guaraná', 'Cola', 'Suco de Laranja', 'Suco de Uva'], \n",
    "            'Adicionais': ['Bacon', 'Requeijão', 'Milho', 'Azeitona']\n",
    "         }\n",
    "print('=' * 55)\n",
    "print(\"*****{:^45}*****\".format(\"PIZZA SALGADA\"))\n",
    "print(pizzas['Pizzas salgadas'])\n",
    "print('-' * 55)\n",
    "print(\"*****{:^45}*****\".format(\"PIZZA DOCE\"))\n",
    "print(pizzas['Pizzas doces'])\n",
    "print('-' * 55)\n",
    "print(\"*****{:^45}*****\".format(\"BEBIDA\"))\n",
    "print(pizzas['Bebidas'])\n",
    "print('-' * 55)\n",
    "print(\"*****{:^45}*****\".format(\"ADICIONAIS\"))\n",
    "print(pizzas['Adicionais'])\n",
    "print('-' * 55)"
   ]
  },
  {
   "cell_type": "markdown",
   "metadata": {},
   "source": [
    "### DESAFIO"
   ]
  },
  {
   "cell_type": "markdown",
   "metadata": {},
   "source": [
    "Sucesso! A pizzaria do bairro tornou-se uma multinacional que engoliu todas as concorrentes. Querendo crescer ainda mais, o dono sugere um novo recurso: criar sua própria pizza. Para isso, temos um dicionário com todos os ingredientes e seus respectivos preços. A pizzaria recebeu os seguintes pedidos:\n",
    "-  1: Massa sem glúten, molho barbecue, frango, pimentão e tomate\n",
    "-  2: Massa tradicional, molho de tomate, atum, mussarela, azeitona, cebola, pimentão, tomate e borda com queijo\n",
    "-  3: Massa integral, molho bechamel, cebola, pimentão, tomate, frango e borda com requeijão\n",
    "\n",
    "Imprima uma lista com todos os itens do pedido e seu preço final que será retornado ao cliente. Armazene o valor das vendas de forma que não seja possível alterar seus valores e imprima."
   ]
  },
  {
   "cell_type": "code",
   "execution_count": 9,
   "metadata": {},
   "outputs": [
    {
     "name": "stdout",
     "output_type": "stream",
     "text": [
      "=============================================\n",
      "PEDIDO 1\n",
      "=============================================\n",
      "O ingrediente (massa sem gluten) custa R$ 10.0\n",
      "O ingrediente (molho barbecue) custa R$ 2.0\n",
      "O ingrediente (frango) custa R$ 8.0\n",
      "O ingrediente (pimentao) custa R$ 1.5\n",
      "O ingrediente (tomate) custa R$ 1.0\n",
      "--------------------\n",
      "O Valor TOTAL do pedido ficou R$: 22.5\n",
      "\n",
      "\n",
      "=============================================\n",
      "PEDIDO 2\n",
      "=============================================\n",
      "O ingrediente (massa tradicional) custa R$ 9.0\n",
      "O ingrediente (molho de tomate) custa R$ 1.5\n",
      "O ingrediente (atum) custa R$ 5.0\n",
      "O ingrediente (mussarela) custa R$ 3.0\n",
      "O ingrediente (azeitona) custa R$ 1.5\n",
      "O ingrediente (cebola) custa R$ 1.0\n",
      "O ingrediente (pimentao) custa R$ 1.5\n",
      "O ingrediente (tomate) custa R$ 1.0\n",
      "O ingrediente (borda com queijo) custa R$ 2.0\n",
      "--------------------\n",
      "O Valor TOTAL do pedido ficou R$: 25.5\n",
      "\n",
      "\n",
      "=============================================\n",
      "PEDIDO 3\n",
      "=============================================\n",
      "O ingrediente (massa integral) custa R$ 11.0\n",
      "O ingrediente (molho bechamel) custa R$ 3.0\n",
      "O ingrediente (cebola) custa R$ 1.0\n",
      "O ingrediente (pimentao) custa R$ 1.5\n",
      "O ingrediente (tomate) custa R$ 1.0\n",
      "O ingrediente (frango) custa R$ 8.0\n",
      "O ingrediente (borda com requeijao) custa R$ 2.5\n",
      "--------------------\n",
      "O Valor TOTAL do pedido ficou R$: 28.0\n",
      "\n",
      "\n"
     ]
    }
   ],
   "source": [
    "pedido1 = ['massa sem gluten', 'molho barbecue', 'frango', 'pimentao', 'tomate']\n",
    "pedido2 = ['massa tradicional', 'molho de tomate', 'atum', 'mussarela', 'azeitona', 'cebola', 'pimentao', 'tomate', 'borda com queijo']\n",
    "pedido3 = ['massa integral', 'molho bechamel', 'cebola', 'pimentao', 'tomate', 'frango', 'borda com requeijao']\n",
    "\n",
    "lista_pedidos=[pedido1, pedido2, pedido3]\n",
    "\n",
    "preco_ingredientes = {\n",
    "        \"massa sem gluten\": 10.0,\n",
    "        \"massa tradicional\": 9.0,\n",
    "        \"massa integral\": 11.0,\n",
    "        \"molho barbecue\": 2.0,\n",
    "        \"molho de tomate\": 1.5,\n",
    "        \"molho bechamel\": 3.0,\n",
    "        \"frango\": 8.0,\n",
    "        \"atum\": 5.0,\n",
    "        \"mussarela\": 3.0,\n",
    "        \"azeitona\": 1.5,\n",
    "        \"cebola\": 1.0,\n",
    "        \"pimentao\": 1.5,\n",
    "        \"tomate\": 1.0,\n",
    "        \"borda com queijo\": 2.0,\n",
    "        \"borda com requeijao\": 2.5\n",
    "        }\n",
    "\n",
    "\n",
    "for index, cada_pedido in enumerate(lista_pedidos, start=1):\n",
    "    \n",
    "    print('=' * 45)\n",
    "    print(f\"PEDIDO {index}\")\n",
    "    print('=' * 45)\n",
    "\n",
    "    total = 0\n",
    "    for ingrediente in cada_pedido:\n",
    "        print(f'O ingrediente ({ingrediente}) custa R$ {preco_ingredientes[ingrediente]}')\n",
    "        total += preco_ingredientes[ingrediente]\n",
    "\n",
    "    print(\"-\" * 20)\n",
    "    print(f\"O Valor TOTAL do pedido ficou R$: {total}\\n\\n\")"
   ]
  }
 ],
 "metadata": {
  "kernelspec": {
   "display_name": "Python 3 (ipykernel)",
   "language": "python",
   "name": "python3"
  },
  "language_info": {
   "codemirror_mode": {
    "name": "ipython",
    "version": 3
   },
   "file_extension": ".py",
   "mimetype": "text/x-python",
   "name": "python",
   "nbconvert_exporter": "python",
   "pygments_lexer": "ipython3",
   "version": "3.11.5"
  }
 },
 "nbformat": 4,
 "nbformat_minor": 2
}
