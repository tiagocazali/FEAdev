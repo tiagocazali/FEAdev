{
 "cells": [
  {
   "cell_type": "markdown",
   "metadata": {},
   "source": [
    "# Fala devs, blz?? \n",
    "\n",
    "Esta será nossa quinta lista de exercícios para você testar seu conhecimento acerca do conteúdo do MÓDULO 3:\n",
    "\n",
    "-Pandas I"
   ]
  },
  {
   "cell_type": "markdown",
   "metadata": {},
   "source": [
    "## INSTRUÇÕES:\n",
    "\n",
    "A lista deve ser realizada pelo Jupyter Notebook.\n",
    "\n",
    "Nâo é necessário entregar a lista para afins de certificado dentro da plataforma, entretanto para alunos da USP que queiram participar do processo seletivo ou conseguir créditos AAC (apenas FEANOS) é necessária a entrega de TODAS as listas.\n",
    "\n",
    "A entrega das listas ou pelo menos sua excecução é recomendada a fim de exercitar todo o conhecimento adquirido do curso.\n",
    "\n",
    "O DESAFIO é para realmente te desafiar, por isso não desista de tentar e de continuar com o curso, ao longo das listas você verá que cada vez mais você terá ferramentas para completá-lo.\n",
    "\n",
    "Caso haja alguma dúvida acerca da lista participe das monitorias que serão oferecidas as quintas e sábados das 17h as 18h pelo DISCORD. Caso seu problema não seje resolvido envie uma mensagem para contato.feadev@gmail.com\n",
    "\n",
    "O gabarito será disponibilizado na plataforma após o término de periodo de envio\n",
    "\n"
   ]
  },
  {
   "cell_type": "code",
   "execution_count": 1,
   "metadata": {},
   "outputs": [],
   "source": [
    "## vamos começar??"
   ]
  },
  {
   "cell_type": "markdown",
   "metadata": {},
   "source": [
    "Toda nossa lista 5 abordará uma temática única de acordo com a base de dados escolhida para a realização da mesma.\n",
    "\n",
    "**PAÍSES MENOS CORRUPTOS SÃO MAIS FELIZES?**\n",
    "\n",
    "Será que a felicidade e a corrupção têm alguma relação? A resposta a essa pergunta não é tão clara quanto gostaríamos que fosse. A felicidade é o que todos desejam, enquanto a corrupção é frequentemente vista como algo que a sociedade deve combater. No entanto, a conexão direta entre esses dois conceitos é desafiadora de estabelecer.\n",
    "\n",
    "A corrupção é prejudicial, pois mina a confiança nas instituições públicas e distorce a alocação de recursos. Isso certamente não soa como um ingrediente para a felicidade. No entanto, em muitos lugares, a corrupção é endêmica, mas as pessoas ainda relatam altos níveis de felicidade. Isso nos faz questionar se a percepção de felicidade pode ser independente da corrupção.\n",
    "\n",
    "Talvez as pessoas se adaptem à corrupção, ou talvez outros fatores, como economia e segurança, desempenhem um papel mais significativo em sua felicidade. Em última análise, a relação entre felicidade e corrupção é complexa, e as respostas podem variar dependendo do contexto.\n",
    "\n",
    "Portanto, a questão persiste: **será que a corrupção realmente impede a felicidade? Ou será que a felicidade pode ser encontrada em meio à corrupção?**"
   ]
  },
  {
   "cell_type": "markdown",
   "metadata": {},
   "source": [
    "vamos utilizar da base de dados Happiness and Corruption 2015-2020\n",
    "\n",
    "https://www.kaggle.com/datasets/eliasturk/world-happiness-based-on-cpi-20152020\n",
    "\n",
    "para chegar em alguma conclusão sobre o tema"
   ]
  },
  {
   "cell_type": "markdown",
   "metadata": {},
   "source": [
    "## QUESTÃO 0"
   ]
  },
  {
   "cell_type": "markdown",
   "metadata": {},
   "source": [
    "Carregue os dados do arquivo \"happiness_corruption.csv\" em um DataFrame e mostre as primeiras 5 linhas do DataFrame \n",
    "\n",
    "baixe a base pelo link abaixo: https://www.kaggle.com/datasets/eliasturk/world-happiness-based-on-cpi-20152020"
   ]
  },
  {
   "cell_type": "code",
   "execution_count": 2,
   "metadata": {},
   "outputs": [
    {
     "data": {
      "text/html": [
       "<div>\n",
       "<style scoped>\n",
       "    .dataframe tbody tr th:only-of-type {\n",
       "        vertical-align: middle;\n",
       "    }\n",
       "\n",
       "    .dataframe tbody tr th {\n",
       "        vertical-align: top;\n",
       "    }\n",
       "\n",
       "    .dataframe thead th {\n",
       "        text-align: right;\n",
       "    }\n",
       "</style>\n",
       "<table border=\"1\" class=\"dataframe\">\n",
       "  <thead>\n",
       "    <tr style=\"text-align: right;\">\n",
       "      <th></th>\n",
       "      <th>Country</th>\n",
       "      <th>happiness_score</th>\n",
       "      <th>gdp_per_capita</th>\n",
       "      <th>family</th>\n",
       "      <th>health</th>\n",
       "      <th>freedom</th>\n",
       "      <th>generosity</th>\n",
       "      <th>government_trust</th>\n",
       "      <th>dystopia_residual</th>\n",
       "      <th>continent</th>\n",
       "      <th>Year</th>\n",
       "      <th>social_support</th>\n",
       "      <th>cpi_score</th>\n",
       "    </tr>\n",
       "  </thead>\n",
       "  <tbody>\n",
       "    <tr>\n",
       "      <th>0</th>\n",
       "      <td>Norway</td>\n",
       "      <td>7.5370</td>\n",
       "      <td>1.616463</td>\n",
       "      <td>1.533524</td>\n",
       "      <td>0.796667</td>\n",
       "      <td>0.635423</td>\n",
       "      <td>0.362012</td>\n",
       "      <td>0.315964</td>\n",
       "      <td>2.277027</td>\n",
       "      <td>Europe</td>\n",
       "      <td>2015</td>\n",
       "      <td>0.000000</td>\n",
       "      <td>88</td>\n",
       "    </tr>\n",
       "    <tr>\n",
       "      <th>1</th>\n",
       "      <td>Denmark</td>\n",
       "      <td>7.5220</td>\n",
       "      <td>1.482383</td>\n",
       "      <td>1.551122</td>\n",
       "      <td>0.792566</td>\n",
       "      <td>0.626007</td>\n",
       "      <td>0.355280</td>\n",
       "      <td>0.400770</td>\n",
       "      <td>2.313707</td>\n",
       "      <td>Europe</td>\n",
       "      <td>2015</td>\n",
       "      <td>0.000000</td>\n",
       "      <td>91</td>\n",
       "    </tr>\n",
       "    <tr>\n",
       "      <th>2</th>\n",
       "      <td>Iceland</td>\n",
       "      <td>7.5040</td>\n",
       "      <td>1.480633</td>\n",
       "      <td>1.610574</td>\n",
       "      <td>0.833552</td>\n",
       "      <td>0.627163</td>\n",
       "      <td>0.475540</td>\n",
       "      <td>0.153527</td>\n",
       "      <td>2.322715</td>\n",
       "      <td>Europe</td>\n",
       "      <td>2015</td>\n",
       "      <td>0.000000</td>\n",
       "      <td>79</td>\n",
       "    </tr>\n",
       "    <tr>\n",
       "      <th>3</th>\n",
       "      <td>Switzerland</td>\n",
       "      <td>7.4940</td>\n",
       "      <td>1.564980</td>\n",
       "      <td>1.516912</td>\n",
       "      <td>0.858131</td>\n",
       "      <td>0.620071</td>\n",
       "      <td>0.290549</td>\n",
       "      <td>0.367007</td>\n",
       "      <td>2.276716</td>\n",
       "      <td>Europe</td>\n",
       "      <td>2015</td>\n",
       "      <td>0.000000</td>\n",
       "      <td>86</td>\n",
       "    </tr>\n",
       "    <tr>\n",
       "      <th>4</th>\n",
       "      <td>Finland</td>\n",
       "      <td>7.4690</td>\n",
       "      <td>1.443572</td>\n",
       "      <td>1.540247</td>\n",
       "      <td>0.809158</td>\n",
       "      <td>0.617951</td>\n",
       "      <td>0.245483</td>\n",
       "      <td>0.382612</td>\n",
       "      <td>2.430182</td>\n",
       "      <td>Europe</td>\n",
       "      <td>2015</td>\n",
       "      <td>0.000000</td>\n",
       "      <td>90</td>\n",
       "    </tr>\n",
       "    <tr>\n",
       "      <th>...</th>\n",
       "      <td>...</td>\n",
       "      <td>...</td>\n",
       "      <td>...</td>\n",
       "      <td>...</td>\n",
       "      <td>...</td>\n",
       "      <td>...</td>\n",
       "      <td>...</td>\n",
       "      <td>...</td>\n",
       "      <td>...</td>\n",
       "      <td>...</td>\n",
       "      <td>...</td>\n",
       "      <td>...</td>\n",
       "      <td>...</td>\n",
       "    </tr>\n",
       "    <tr>\n",
       "      <th>787</th>\n",
       "      <td>Botswana</td>\n",
       "      <td>3.4789</td>\n",
       "      <td>0.997549</td>\n",
       "      <td>0.000000</td>\n",
       "      <td>0.494102</td>\n",
       "      <td>0.509089</td>\n",
       "      <td>0.033407</td>\n",
       "      <td>0.101786</td>\n",
       "      <td>0.257241</td>\n",
       "      <td>Africa</td>\n",
       "      <td>2020</td>\n",
       "      <td>1.085695</td>\n",
       "      <td>60</td>\n",
       "    </tr>\n",
       "    <tr>\n",
       "      <th>788</th>\n",
       "      <td>Tanzania</td>\n",
       "      <td>3.4762</td>\n",
       "      <td>0.457163</td>\n",
       "      <td>0.000000</td>\n",
       "      <td>0.442678</td>\n",
       "      <td>0.509343</td>\n",
       "      <td>0.271541</td>\n",
       "      <td>0.203881</td>\n",
       "      <td>0.718963</td>\n",
       "      <td>Africa</td>\n",
       "      <td>2020</td>\n",
       "      <td>0.872675</td>\n",
       "      <td>38</td>\n",
       "    </tr>\n",
       "    <tr>\n",
       "      <th>789</th>\n",
       "      <td>Rwanda</td>\n",
       "      <td>3.3123</td>\n",
       "      <td>0.343243</td>\n",
       "      <td>0.000000</td>\n",
       "      <td>0.572383</td>\n",
       "      <td>0.604088</td>\n",
       "      <td>0.235705</td>\n",
       "      <td>0.485542</td>\n",
       "      <td>0.548445</td>\n",
       "      <td>Africa</td>\n",
       "      <td>2020</td>\n",
       "      <td>0.522876</td>\n",
       "      <td>54</td>\n",
       "    </tr>\n",
       "    <tr>\n",
       "      <th>790</th>\n",
       "      <td>Zimbabwe</td>\n",
       "      <td>3.2992</td>\n",
       "      <td>0.425564</td>\n",
       "      <td>0.000000</td>\n",
       "      <td>0.375038</td>\n",
       "      <td>0.377405</td>\n",
       "      <td>0.151349</td>\n",
       "      <td>0.080929</td>\n",
       "      <td>0.841031</td>\n",
       "      <td>Africa</td>\n",
       "      <td>2020</td>\n",
       "      <td>1.047835</td>\n",
       "      <td>24</td>\n",
       "    </tr>\n",
       "    <tr>\n",
       "      <th>791</th>\n",
       "      <td>Afghanistan</td>\n",
       "      <td>2.5669</td>\n",
       "      <td>0.300706</td>\n",
       "      <td>0.000000</td>\n",
       "      <td>0.266052</td>\n",
       "      <td>0.000000</td>\n",
       "      <td>0.135235</td>\n",
       "      <td>0.001226</td>\n",
       "      <td>1.507236</td>\n",
       "      <td>Asia</td>\n",
       "      <td>2020</td>\n",
       "      <td>0.356434</td>\n",
       "      <td>19</td>\n",
       "    </tr>\n",
       "  </tbody>\n",
       "</table>\n",
       "<p>792 rows × 13 columns</p>\n",
       "</div>"
      ],
      "text/plain": [
       "         Country  happiness_score  gdp_per_capita    family    health  \\\n",
       "0         Norway           7.5370        1.616463  1.533524  0.796667   \n",
       "1        Denmark           7.5220        1.482383  1.551122  0.792566   \n",
       "2        Iceland           7.5040        1.480633  1.610574  0.833552   \n",
       "3    Switzerland           7.4940        1.564980  1.516912  0.858131   \n",
       "4        Finland           7.4690        1.443572  1.540247  0.809158   \n",
       "..           ...              ...             ...       ...       ...   \n",
       "787     Botswana           3.4789        0.997549  0.000000  0.494102   \n",
       "788     Tanzania           3.4762        0.457163  0.000000  0.442678   \n",
       "789       Rwanda           3.3123        0.343243  0.000000  0.572383   \n",
       "790     Zimbabwe           3.2992        0.425564  0.000000  0.375038   \n",
       "791  Afghanistan           2.5669        0.300706  0.000000  0.266052   \n",
       "\n",
       "      freedom  generosity  government_trust  dystopia_residual continent  \\\n",
       "0    0.635423    0.362012          0.315964           2.277027    Europe   \n",
       "1    0.626007    0.355280          0.400770           2.313707    Europe   \n",
       "2    0.627163    0.475540          0.153527           2.322715    Europe   \n",
       "3    0.620071    0.290549          0.367007           2.276716    Europe   \n",
       "4    0.617951    0.245483          0.382612           2.430182    Europe   \n",
       "..        ...         ...               ...                ...       ...   \n",
       "787  0.509089    0.033407          0.101786           0.257241    Africa   \n",
       "788  0.509343    0.271541          0.203881           0.718963    Africa   \n",
       "789  0.604088    0.235705          0.485542           0.548445    Africa   \n",
       "790  0.377405    0.151349          0.080929           0.841031    Africa   \n",
       "791  0.000000    0.135235          0.001226           1.507236      Asia   \n",
       "\n",
       "     Year  social_support  cpi_score  \n",
       "0    2015        0.000000         88  \n",
       "1    2015        0.000000         91  \n",
       "2    2015        0.000000         79  \n",
       "3    2015        0.000000         86  \n",
       "4    2015        0.000000         90  \n",
       "..    ...             ...        ...  \n",
       "787  2020        1.085695         60  \n",
       "788  2020        0.872675         38  \n",
       "789  2020        0.522876         54  \n",
       "790  2020        1.047835         24  \n",
       "791  2020        0.356434         19  \n",
       "\n",
       "[792 rows x 13 columns]"
      ]
     },
     "metadata": {},
     "output_type": "display_data"
    }
   ],
   "source": [
    "import pandas as pd\n",
    "\n",
    "full_df = pd.read_csv(\"Dados_worldHappiness.csv\")\n",
    "display(full_df)"
   ]
  },
  {
   "cell_type": "markdown",
   "metadata": {},
   "source": [
    "## QUESTÃO 1\n"
   ]
  },
  {
   "cell_type": "markdown",
   "metadata": {},
   "source": [
    "**Exploração Inicial dos Dados**\n",
    "\n",
    "a) Verifique o número de linhas e colunas no DataFrame. **lembre-se do método .shape**\n"
   ]
  },
  {
   "cell_type": "code",
   "execution_count": 3,
   "metadata": {},
   "outputs": [
    {
     "data": {
      "text/plain": [
       "(792, 13)"
      ]
     },
     "execution_count": 3,
     "metadata": {},
     "output_type": "execute_result"
    }
   ],
   "source": [
    "full_df.shape"
   ]
  },
  {
   "cell_type": "markdown",
   "metadata": {},
   "source": [
    "b) Liste as colunas presentes no DataFrame. **lembre-se do método .columns**\n"
   ]
  },
  {
   "cell_type": "code",
   "execution_count": 4,
   "metadata": {},
   "outputs": [
    {
     "data": {
      "text/plain": [
       "Index(['Country', 'happiness_score', 'gdp_per_capita', 'family', 'health',\n",
       "       'freedom', 'generosity', 'government_trust', 'dystopia_residual',\n",
       "       'continent', 'Year', 'social_support', 'cpi_score'],\n",
       "      dtype='object')"
      ]
     },
     "execution_count": 4,
     "metadata": {},
     "output_type": "execute_result"
    }
   ],
   "source": [
    "full_df.columns"
   ]
  },
  {
   "cell_type": "markdown",
   "metadata": {},
   "source": [
    "c) Verifique se há valores nulos em cada coluna."
   ]
  },
  {
   "cell_type": "code",
   "execution_count": 5,
   "metadata": {},
   "outputs": [
    {
     "data": {
      "text/html": [
       "<div>\n",
       "<style scoped>\n",
       "    .dataframe tbody tr th:only-of-type {\n",
       "        vertical-align: middle;\n",
       "    }\n",
       "\n",
       "    .dataframe tbody tr th {\n",
       "        vertical-align: top;\n",
       "    }\n",
       "\n",
       "    .dataframe thead th {\n",
       "        text-align: right;\n",
       "    }\n",
       "</style>\n",
       "<table border=\"1\" class=\"dataframe\">\n",
       "  <thead>\n",
       "    <tr style=\"text-align: right;\">\n",
       "      <th></th>\n",
       "      <th>happiness_score</th>\n",
       "      <th>gdp_per_capita</th>\n",
       "      <th>family</th>\n",
       "      <th>health</th>\n",
       "      <th>freedom</th>\n",
       "      <th>generosity</th>\n",
       "      <th>government_trust</th>\n",
       "      <th>dystopia_residual</th>\n",
       "      <th>Year</th>\n",
       "      <th>social_support</th>\n",
       "      <th>cpi_score</th>\n",
       "    </tr>\n",
       "  </thead>\n",
       "  <tbody>\n",
       "    <tr>\n",
       "      <th>count</th>\n",
       "      <td>792.000000</td>\n",
       "      <td>792.000000</td>\n",
       "      <td>792.000000</td>\n",
       "      <td>792.000000</td>\n",
       "      <td>792.000000</td>\n",
       "      <td>792.000000</td>\n",
       "      <td>792.000000</td>\n",
       "      <td>792.000000</td>\n",
       "      <td>792.000000</td>\n",
       "      <td>792.000000</td>\n",
       "      <td>792.000000</td>\n",
       "    </tr>\n",
       "    <tr>\n",
       "      <th>mean</th>\n",
       "      <td>5.473310</td>\n",
       "      <td>0.929217</td>\n",
       "      <td>0.504998</td>\n",
       "      <td>0.648691</td>\n",
       "      <td>0.427016</td>\n",
       "      <td>0.212440</td>\n",
       "      <td>0.125720</td>\n",
       "      <td>1.379277</td>\n",
       "      <td>2017.500000</td>\n",
       "      <td>0.609302</td>\n",
       "      <td>44.327020</td>\n",
       "    </tr>\n",
       "    <tr>\n",
       "      <th>std</th>\n",
       "      <td>1.124726</td>\n",
       "      <td>0.385774</td>\n",
       "      <td>0.552736</td>\n",
       "      <td>0.232261</td>\n",
       "      <td>0.148003</td>\n",
       "      <td>0.121660</td>\n",
       "      <td>0.109032</td>\n",
       "      <td>1.075276</td>\n",
       "      <td>1.708904</td>\n",
       "      <td>0.640754</td>\n",
       "      <td>19.508833</td>\n",
       "    </tr>\n",
       "    <tr>\n",
       "      <th>min</th>\n",
       "      <td>2.566900</td>\n",
       "      <td>0.000000</td>\n",
       "      <td>0.000000</td>\n",
       "      <td>0.000000</td>\n",
       "      <td>0.000000</td>\n",
       "      <td>0.000000</td>\n",
       "      <td>0.000000</td>\n",
       "      <td>0.000000</td>\n",
       "      <td>2015.000000</td>\n",
       "      <td>0.000000</td>\n",
       "      <td>11.000000</td>\n",
       "    </tr>\n",
       "    <tr>\n",
       "      <th>25%</th>\n",
       "      <td>4.590750</td>\n",
       "      <td>0.644242</td>\n",
       "      <td>0.000000</td>\n",
       "      <td>0.510070</td>\n",
       "      <td>0.325433</td>\n",
       "      <td>0.125784</td>\n",
       "      <td>0.052862</td>\n",
       "      <td>0.000000</td>\n",
       "      <td>2016.000000</td>\n",
       "      <td>0.000000</td>\n",
       "      <td>30.000000</td>\n",
       "    </tr>\n",
       "    <tr>\n",
       "      <th>50%</th>\n",
       "      <td>5.485500</td>\n",
       "      <td>0.994544</td>\n",
       "      <td>0.000000</td>\n",
       "      <td>0.685397</td>\n",
       "      <td>0.439621</td>\n",
       "      <td>0.197000</td>\n",
       "      <td>0.089000</td>\n",
       "      <td>1.731948</td>\n",
       "      <td>2017.500000</td>\n",
       "      <td>0.176214</td>\n",
       "      <td>38.000000</td>\n",
       "    </tr>\n",
       "    <tr>\n",
       "      <th>75%</th>\n",
       "      <td>6.300500</td>\n",
       "      <td>1.228677</td>\n",
       "      <td>1.040410</td>\n",
       "      <td>0.815641</td>\n",
       "      <td>0.546280</td>\n",
       "      <td>0.273250</td>\n",
       "      <td>0.154250</td>\n",
       "      <td>2.236894</td>\n",
       "      <td>2019.000000</td>\n",
       "      <td>1.268250</td>\n",
       "      <td>57.000000</td>\n",
       "    </tr>\n",
       "    <tr>\n",
       "      <th>max</th>\n",
       "      <td>7.808700</td>\n",
       "      <td>2.096000</td>\n",
       "      <td>1.610574</td>\n",
       "      <td>1.141000</td>\n",
       "      <td>0.724000</td>\n",
       "      <td>0.838075</td>\n",
       "      <td>0.551910</td>\n",
       "      <td>3.602140</td>\n",
       "      <td>2020.000000</td>\n",
       "      <td>1.644000</td>\n",
       "      <td>91.000000</td>\n",
       "    </tr>\n",
       "  </tbody>\n",
       "</table>\n",
       "</div>"
      ],
      "text/plain": [
       "       happiness_score  gdp_per_capita      family      health     freedom  \\\n",
       "count       792.000000      792.000000  792.000000  792.000000  792.000000   \n",
       "mean          5.473310        0.929217    0.504998    0.648691    0.427016   \n",
       "std           1.124726        0.385774    0.552736    0.232261    0.148003   \n",
       "min           2.566900        0.000000    0.000000    0.000000    0.000000   \n",
       "25%           4.590750        0.644242    0.000000    0.510070    0.325433   \n",
       "50%           5.485500        0.994544    0.000000    0.685397    0.439621   \n",
       "75%           6.300500        1.228677    1.040410    0.815641    0.546280   \n",
       "max           7.808700        2.096000    1.610574    1.141000    0.724000   \n",
       "\n",
       "       generosity  government_trust  dystopia_residual         Year  \\\n",
       "count  792.000000        792.000000         792.000000   792.000000   \n",
       "mean     0.212440          0.125720           1.379277  2017.500000   \n",
       "std      0.121660          0.109032           1.075276     1.708904   \n",
       "min      0.000000          0.000000           0.000000  2015.000000   \n",
       "25%      0.125784          0.052862           0.000000  2016.000000   \n",
       "50%      0.197000          0.089000           1.731948  2017.500000   \n",
       "75%      0.273250          0.154250           2.236894  2019.000000   \n",
       "max      0.838075          0.551910           3.602140  2020.000000   \n",
       "\n",
       "       social_support   cpi_score  \n",
       "count      792.000000  792.000000  \n",
       "mean         0.609302   44.327020  \n",
       "std          0.640754   19.508833  \n",
       "min          0.000000   11.000000  \n",
       "25%          0.000000   30.000000  \n",
       "50%          0.176214   38.000000  \n",
       "75%          1.268250   57.000000  \n",
       "max          1.644000   91.000000  "
      ]
     },
     "execution_count": 5,
     "metadata": {},
     "output_type": "execute_result"
    }
   ],
   "source": [
    "full_df.describe()"
   ]
  },
  {
   "cell_type": "code",
   "execution_count": 6,
   "metadata": {},
   "outputs": [
    {
     "data": {
      "text/html": [
       "<div>\n",
       "<style scoped>\n",
       "    .dataframe tbody tr th:only-of-type {\n",
       "        vertical-align: middle;\n",
       "    }\n",
       "\n",
       "    .dataframe tbody tr th {\n",
       "        vertical-align: top;\n",
       "    }\n",
       "\n",
       "    .dataframe thead th {\n",
       "        text-align: right;\n",
       "    }\n",
       "</style>\n",
       "<table border=\"1\" class=\"dataframe\">\n",
       "  <thead>\n",
       "    <tr style=\"text-align: right;\">\n",
       "      <th></th>\n",
       "      <th>Country</th>\n",
       "      <th>happiness_score</th>\n",
       "      <th>gdp_per_capita</th>\n",
       "      <th>family</th>\n",
       "      <th>health</th>\n",
       "      <th>freedom</th>\n",
       "      <th>generosity</th>\n",
       "      <th>government_trust</th>\n",
       "      <th>dystopia_residual</th>\n",
       "      <th>continent</th>\n",
       "      <th>Year</th>\n",
       "      <th>social_support</th>\n",
       "      <th>cpi_score</th>\n",
       "    </tr>\n",
       "  </thead>\n",
       "  <tbody>\n",
       "    <tr>\n",
       "      <th>0</th>\n",
       "      <td>False</td>\n",
       "      <td>False</td>\n",
       "      <td>False</td>\n",
       "      <td>False</td>\n",
       "      <td>False</td>\n",
       "      <td>False</td>\n",
       "      <td>False</td>\n",
       "      <td>False</td>\n",
       "      <td>False</td>\n",
       "      <td>False</td>\n",
       "      <td>False</td>\n",
       "      <td>False</td>\n",
       "      <td>False</td>\n",
       "    </tr>\n",
       "    <tr>\n",
       "      <th>1</th>\n",
       "      <td>False</td>\n",
       "      <td>False</td>\n",
       "      <td>False</td>\n",
       "      <td>False</td>\n",
       "      <td>False</td>\n",
       "      <td>False</td>\n",
       "      <td>False</td>\n",
       "      <td>False</td>\n",
       "      <td>False</td>\n",
       "      <td>False</td>\n",
       "      <td>False</td>\n",
       "      <td>False</td>\n",
       "      <td>False</td>\n",
       "    </tr>\n",
       "    <tr>\n",
       "      <th>2</th>\n",
       "      <td>False</td>\n",
       "      <td>False</td>\n",
       "      <td>False</td>\n",
       "      <td>False</td>\n",
       "      <td>False</td>\n",
       "      <td>False</td>\n",
       "      <td>False</td>\n",
       "      <td>False</td>\n",
       "      <td>False</td>\n",
       "      <td>False</td>\n",
       "      <td>False</td>\n",
       "      <td>False</td>\n",
       "      <td>False</td>\n",
       "    </tr>\n",
       "    <tr>\n",
       "      <th>3</th>\n",
       "      <td>False</td>\n",
       "      <td>False</td>\n",
       "      <td>False</td>\n",
       "      <td>False</td>\n",
       "      <td>False</td>\n",
       "      <td>False</td>\n",
       "      <td>False</td>\n",
       "      <td>False</td>\n",
       "      <td>False</td>\n",
       "      <td>False</td>\n",
       "      <td>False</td>\n",
       "      <td>False</td>\n",
       "      <td>False</td>\n",
       "    </tr>\n",
       "    <tr>\n",
       "      <th>4</th>\n",
       "      <td>False</td>\n",
       "      <td>False</td>\n",
       "      <td>False</td>\n",
       "      <td>False</td>\n",
       "      <td>False</td>\n",
       "      <td>False</td>\n",
       "      <td>False</td>\n",
       "      <td>False</td>\n",
       "      <td>False</td>\n",
       "      <td>False</td>\n",
       "      <td>False</td>\n",
       "      <td>False</td>\n",
       "      <td>False</td>\n",
       "    </tr>\n",
       "    <tr>\n",
       "      <th>...</th>\n",
       "      <td>...</td>\n",
       "      <td>...</td>\n",
       "      <td>...</td>\n",
       "      <td>...</td>\n",
       "      <td>...</td>\n",
       "      <td>...</td>\n",
       "      <td>...</td>\n",
       "      <td>...</td>\n",
       "      <td>...</td>\n",
       "      <td>...</td>\n",
       "      <td>...</td>\n",
       "      <td>...</td>\n",
       "      <td>...</td>\n",
       "    </tr>\n",
       "    <tr>\n",
       "      <th>787</th>\n",
       "      <td>False</td>\n",
       "      <td>False</td>\n",
       "      <td>False</td>\n",
       "      <td>False</td>\n",
       "      <td>False</td>\n",
       "      <td>False</td>\n",
       "      <td>False</td>\n",
       "      <td>False</td>\n",
       "      <td>False</td>\n",
       "      <td>False</td>\n",
       "      <td>False</td>\n",
       "      <td>False</td>\n",
       "      <td>False</td>\n",
       "    </tr>\n",
       "    <tr>\n",
       "      <th>788</th>\n",
       "      <td>False</td>\n",
       "      <td>False</td>\n",
       "      <td>False</td>\n",
       "      <td>False</td>\n",
       "      <td>False</td>\n",
       "      <td>False</td>\n",
       "      <td>False</td>\n",
       "      <td>False</td>\n",
       "      <td>False</td>\n",
       "      <td>False</td>\n",
       "      <td>False</td>\n",
       "      <td>False</td>\n",
       "      <td>False</td>\n",
       "    </tr>\n",
       "    <tr>\n",
       "      <th>789</th>\n",
       "      <td>False</td>\n",
       "      <td>False</td>\n",
       "      <td>False</td>\n",
       "      <td>False</td>\n",
       "      <td>False</td>\n",
       "      <td>False</td>\n",
       "      <td>False</td>\n",
       "      <td>False</td>\n",
       "      <td>False</td>\n",
       "      <td>False</td>\n",
       "      <td>False</td>\n",
       "      <td>False</td>\n",
       "      <td>False</td>\n",
       "    </tr>\n",
       "    <tr>\n",
       "      <th>790</th>\n",
       "      <td>False</td>\n",
       "      <td>False</td>\n",
       "      <td>False</td>\n",
       "      <td>False</td>\n",
       "      <td>False</td>\n",
       "      <td>False</td>\n",
       "      <td>False</td>\n",
       "      <td>False</td>\n",
       "      <td>False</td>\n",
       "      <td>False</td>\n",
       "      <td>False</td>\n",
       "      <td>False</td>\n",
       "      <td>False</td>\n",
       "    </tr>\n",
       "    <tr>\n",
       "      <th>791</th>\n",
       "      <td>False</td>\n",
       "      <td>False</td>\n",
       "      <td>False</td>\n",
       "      <td>False</td>\n",
       "      <td>False</td>\n",
       "      <td>False</td>\n",
       "      <td>False</td>\n",
       "      <td>False</td>\n",
       "      <td>False</td>\n",
       "      <td>False</td>\n",
       "      <td>False</td>\n",
       "      <td>False</td>\n",
       "      <td>False</td>\n",
       "    </tr>\n",
       "  </tbody>\n",
       "</table>\n",
       "<p>792 rows × 13 columns</p>\n",
       "</div>"
      ],
      "text/plain": [
       "     Country  happiness_score  gdp_per_capita  family  health  freedom  \\\n",
       "0      False            False           False   False   False    False   \n",
       "1      False            False           False   False   False    False   \n",
       "2      False            False           False   False   False    False   \n",
       "3      False            False           False   False   False    False   \n",
       "4      False            False           False   False   False    False   \n",
       "..       ...              ...             ...     ...     ...      ...   \n",
       "787    False            False           False   False   False    False   \n",
       "788    False            False           False   False   False    False   \n",
       "789    False            False           False   False   False    False   \n",
       "790    False            False           False   False   False    False   \n",
       "791    False            False           False   False   False    False   \n",
       "\n",
       "     generosity  government_trust  dystopia_residual  continent   Year  \\\n",
       "0         False             False              False      False  False   \n",
       "1         False             False              False      False  False   \n",
       "2         False             False              False      False  False   \n",
       "3         False             False              False      False  False   \n",
       "4         False             False              False      False  False   \n",
       "..          ...               ...                ...        ...    ...   \n",
       "787       False             False              False      False  False   \n",
       "788       False             False              False      False  False   \n",
       "789       False             False              False      False  False   \n",
       "790       False             False              False      False  False   \n",
       "791       False             False              False      False  False   \n",
       "\n",
       "     social_support  cpi_score  \n",
       "0             False      False  \n",
       "1             False      False  \n",
       "2             False      False  \n",
       "3             False      False  \n",
       "4             False      False  \n",
       "..              ...        ...  \n",
       "787           False      False  \n",
       "788           False      False  \n",
       "789           False      False  \n",
       "790           False      False  \n",
       "791           False      False  \n",
       "\n",
       "[792 rows x 13 columns]"
      ]
     },
     "execution_count": 6,
     "metadata": {},
     "output_type": "execute_result"
    }
   ],
   "source": [
    "full_df.isnull()"
   ]
  },
  {
   "cell_type": "markdown",
   "metadata": {},
   "source": [
    "## QUESTÃO 2"
   ]
  },
  {
   "cell_type": "markdown",
   "metadata": {},
   "source": [
    "a) Remova as colunas não relevantes que não serão usadas na análise, como \"generosity\" (generosidade), \"family\"(familia),\n",
    "\"health\"( saúde), \"freedom\" (liberdade), \"dystopia_residual\"(distopia residual), \"social_support\" (suporte social) e \"cpi_score\""
   ]
  },
  {
   "cell_type": "code",
   "execution_count": 7,
   "metadata": {},
   "outputs": [
    {
     "data": {
      "text/html": [
       "<div>\n",
       "<style scoped>\n",
       "    .dataframe tbody tr th:only-of-type {\n",
       "        vertical-align: middle;\n",
       "    }\n",
       "\n",
       "    .dataframe tbody tr th {\n",
       "        vertical-align: top;\n",
       "    }\n",
       "\n",
       "    .dataframe thead th {\n",
       "        text-align: right;\n",
       "    }\n",
       "</style>\n",
       "<table border=\"1\" class=\"dataframe\">\n",
       "  <thead>\n",
       "    <tr style=\"text-align: right;\">\n",
       "      <th></th>\n",
       "      <th>Country</th>\n",
       "      <th>happiness_score</th>\n",
       "      <th>gdp_per_capita</th>\n",
       "      <th>government_trust</th>\n",
       "      <th>continent</th>\n",
       "      <th>Year</th>\n",
       "    </tr>\n",
       "  </thead>\n",
       "  <tbody>\n",
       "    <tr>\n",
       "      <th>0</th>\n",
       "      <td>Norway</td>\n",
       "      <td>7.5370</td>\n",
       "      <td>1.616463</td>\n",
       "      <td>0.315964</td>\n",
       "      <td>Europe</td>\n",
       "      <td>2015</td>\n",
       "    </tr>\n",
       "    <tr>\n",
       "      <th>1</th>\n",
       "      <td>Denmark</td>\n",
       "      <td>7.5220</td>\n",
       "      <td>1.482383</td>\n",
       "      <td>0.400770</td>\n",
       "      <td>Europe</td>\n",
       "      <td>2015</td>\n",
       "    </tr>\n",
       "    <tr>\n",
       "      <th>2</th>\n",
       "      <td>Iceland</td>\n",
       "      <td>7.5040</td>\n",
       "      <td>1.480633</td>\n",
       "      <td>0.153527</td>\n",
       "      <td>Europe</td>\n",
       "      <td>2015</td>\n",
       "    </tr>\n",
       "    <tr>\n",
       "      <th>3</th>\n",
       "      <td>Switzerland</td>\n",
       "      <td>7.4940</td>\n",
       "      <td>1.564980</td>\n",
       "      <td>0.367007</td>\n",
       "      <td>Europe</td>\n",
       "      <td>2015</td>\n",
       "    </tr>\n",
       "    <tr>\n",
       "      <th>4</th>\n",
       "      <td>Finland</td>\n",
       "      <td>7.4690</td>\n",
       "      <td>1.443572</td>\n",
       "      <td>0.382612</td>\n",
       "      <td>Europe</td>\n",
       "      <td>2015</td>\n",
       "    </tr>\n",
       "    <tr>\n",
       "      <th>...</th>\n",
       "      <td>...</td>\n",
       "      <td>...</td>\n",
       "      <td>...</td>\n",
       "      <td>...</td>\n",
       "      <td>...</td>\n",
       "      <td>...</td>\n",
       "    </tr>\n",
       "    <tr>\n",
       "      <th>787</th>\n",
       "      <td>Botswana</td>\n",
       "      <td>3.4789</td>\n",
       "      <td>0.997549</td>\n",
       "      <td>0.101786</td>\n",
       "      <td>Africa</td>\n",
       "      <td>2020</td>\n",
       "    </tr>\n",
       "    <tr>\n",
       "      <th>788</th>\n",
       "      <td>Tanzania</td>\n",
       "      <td>3.4762</td>\n",
       "      <td>0.457163</td>\n",
       "      <td>0.203881</td>\n",
       "      <td>Africa</td>\n",
       "      <td>2020</td>\n",
       "    </tr>\n",
       "    <tr>\n",
       "      <th>789</th>\n",
       "      <td>Rwanda</td>\n",
       "      <td>3.3123</td>\n",
       "      <td>0.343243</td>\n",
       "      <td>0.485542</td>\n",
       "      <td>Africa</td>\n",
       "      <td>2020</td>\n",
       "    </tr>\n",
       "    <tr>\n",
       "      <th>790</th>\n",
       "      <td>Zimbabwe</td>\n",
       "      <td>3.2992</td>\n",
       "      <td>0.425564</td>\n",
       "      <td>0.080929</td>\n",
       "      <td>Africa</td>\n",
       "      <td>2020</td>\n",
       "    </tr>\n",
       "    <tr>\n",
       "      <th>791</th>\n",
       "      <td>Afghanistan</td>\n",
       "      <td>2.5669</td>\n",
       "      <td>0.300706</td>\n",
       "      <td>0.001226</td>\n",
       "      <td>Asia</td>\n",
       "      <td>2020</td>\n",
       "    </tr>\n",
       "  </tbody>\n",
       "</table>\n",
       "<p>792 rows × 6 columns</p>\n",
       "</div>"
      ],
      "text/plain": [
       "         Country  happiness_score  gdp_per_capita  government_trust continent  \\\n",
       "0         Norway           7.5370        1.616463          0.315964    Europe   \n",
       "1        Denmark           7.5220        1.482383          0.400770    Europe   \n",
       "2        Iceland           7.5040        1.480633          0.153527    Europe   \n",
       "3    Switzerland           7.4940        1.564980          0.367007    Europe   \n",
       "4        Finland           7.4690        1.443572          0.382612    Europe   \n",
       "..           ...              ...             ...               ...       ...   \n",
       "787     Botswana           3.4789        0.997549          0.101786    Africa   \n",
       "788     Tanzania           3.4762        0.457163          0.203881    Africa   \n",
       "789       Rwanda           3.3123        0.343243          0.485542    Africa   \n",
       "790     Zimbabwe           3.2992        0.425564          0.080929    Africa   \n",
       "791  Afghanistan           2.5669        0.300706          0.001226      Asia   \n",
       "\n",
       "     Year  \n",
       "0    2015  \n",
       "1    2015  \n",
       "2    2015  \n",
       "3    2015  \n",
       "4    2015  \n",
       "..    ...  \n",
       "787  2020  \n",
       "788  2020  \n",
       "789  2020  \n",
       "790  2020  \n",
       "791  2020  \n",
       "\n",
       "[792 rows x 6 columns]"
      ]
     },
     "metadata": {},
     "output_type": "display_data"
    }
   ],
   "source": [
    "dados_df = full_df.drop([\"generosity\", \"family\", \"health\", \"freedom\", \n",
    "                         \"dystopia_residual\", \"social_support\", \"cpi_score\"], axis=1)\n",
    "\n",
    "display(dados_df)\n"
   ]
  },
  {
   "cell_type": "markdown",
   "metadata": {},
   "source": [
    "b) \n",
    "Renomeie as colunas para torná-las mais descritivas. Por exemplo, renomeie \"Score\" para \"Pontuacao_Felicidade\", \"Country\" para \"Países\", \"GDP per capita\" para \"PIB_Per_Capita\", \"continent\" para \"Continentes\", \"Year\" para \"ano\" e government_trust para \"confian_gov\"."
   ]
  },
  {
   "cell_type": "code",
   "execution_count": 8,
   "metadata": {},
   "outputs": [
    {
     "data": {
      "text/html": [
       "<div>\n",
       "<style scoped>\n",
       "    .dataframe tbody tr th:only-of-type {\n",
       "        vertical-align: middle;\n",
       "    }\n",
       "\n",
       "    .dataframe tbody tr th {\n",
       "        vertical-align: top;\n",
       "    }\n",
       "\n",
       "    .dataframe thead th {\n",
       "        text-align: right;\n",
       "    }\n",
       "</style>\n",
       "<table border=\"1\" class=\"dataframe\">\n",
       "  <thead>\n",
       "    <tr style=\"text-align: right;\">\n",
       "      <th></th>\n",
       "      <th>Países</th>\n",
       "      <th>Pontuação</th>\n",
       "      <th>PIB_per_Capita</th>\n",
       "      <th>Confin_Gov</th>\n",
       "      <th>Continente</th>\n",
       "      <th>Ano</th>\n",
       "    </tr>\n",
       "  </thead>\n",
       "  <tbody>\n",
       "    <tr>\n",
       "      <th>0</th>\n",
       "      <td>Norway</td>\n",
       "      <td>7.5370</td>\n",
       "      <td>1.616463</td>\n",
       "      <td>0.315964</td>\n",
       "      <td>Europe</td>\n",
       "      <td>2015</td>\n",
       "    </tr>\n",
       "    <tr>\n",
       "      <th>1</th>\n",
       "      <td>Denmark</td>\n",
       "      <td>7.5220</td>\n",
       "      <td>1.482383</td>\n",
       "      <td>0.400770</td>\n",
       "      <td>Europe</td>\n",
       "      <td>2015</td>\n",
       "    </tr>\n",
       "    <tr>\n",
       "      <th>2</th>\n",
       "      <td>Iceland</td>\n",
       "      <td>7.5040</td>\n",
       "      <td>1.480633</td>\n",
       "      <td>0.153527</td>\n",
       "      <td>Europe</td>\n",
       "      <td>2015</td>\n",
       "    </tr>\n",
       "    <tr>\n",
       "      <th>3</th>\n",
       "      <td>Switzerland</td>\n",
       "      <td>7.4940</td>\n",
       "      <td>1.564980</td>\n",
       "      <td>0.367007</td>\n",
       "      <td>Europe</td>\n",
       "      <td>2015</td>\n",
       "    </tr>\n",
       "    <tr>\n",
       "      <th>4</th>\n",
       "      <td>Finland</td>\n",
       "      <td>7.4690</td>\n",
       "      <td>1.443572</td>\n",
       "      <td>0.382612</td>\n",
       "      <td>Europe</td>\n",
       "      <td>2015</td>\n",
       "    </tr>\n",
       "    <tr>\n",
       "      <th>...</th>\n",
       "      <td>...</td>\n",
       "      <td>...</td>\n",
       "      <td>...</td>\n",
       "      <td>...</td>\n",
       "      <td>...</td>\n",
       "      <td>...</td>\n",
       "    </tr>\n",
       "    <tr>\n",
       "      <th>787</th>\n",
       "      <td>Botswana</td>\n",
       "      <td>3.4789</td>\n",
       "      <td>0.997549</td>\n",
       "      <td>0.101786</td>\n",
       "      <td>Africa</td>\n",
       "      <td>2020</td>\n",
       "    </tr>\n",
       "    <tr>\n",
       "      <th>788</th>\n",
       "      <td>Tanzania</td>\n",
       "      <td>3.4762</td>\n",
       "      <td>0.457163</td>\n",
       "      <td>0.203881</td>\n",
       "      <td>Africa</td>\n",
       "      <td>2020</td>\n",
       "    </tr>\n",
       "    <tr>\n",
       "      <th>789</th>\n",
       "      <td>Rwanda</td>\n",
       "      <td>3.3123</td>\n",
       "      <td>0.343243</td>\n",
       "      <td>0.485542</td>\n",
       "      <td>Africa</td>\n",
       "      <td>2020</td>\n",
       "    </tr>\n",
       "    <tr>\n",
       "      <th>790</th>\n",
       "      <td>Zimbabwe</td>\n",
       "      <td>3.2992</td>\n",
       "      <td>0.425564</td>\n",
       "      <td>0.080929</td>\n",
       "      <td>Africa</td>\n",
       "      <td>2020</td>\n",
       "    </tr>\n",
       "    <tr>\n",
       "      <th>791</th>\n",
       "      <td>Afghanistan</td>\n",
       "      <td>2.5669</td>\n",
       "      <td>0.300706</td>\n",
       "      <td>0.001226</td>\n",
       "      <td>Asia</td>\n",
       "      <td>2020</td>\n",
       "    </tr>\n",
       "  </tbody>\n",
       "</table>\n",
       "<p>792 rows × 6 columns</p>\n",
       "</div>"
      ],
      "text/plain": [
       "          Países  Pontuação  PIB_per_Capita  Confin_Gov Continente   Ano\n",
       "0         Norway     7.5370        1.616463    0.315964     Europe  2015\n",
       "1        Denmark     7.5220        1.482383    0.400770     Europe  2015\n",
       "2        Iceland     7.5040        1.480633    0.153527     Europe  2015\n",
       "3    Switzerland     7.4940        1.564980    0.367007     Europe  2015\n",
       "4        Finland     7.4690        1.443572    0.382612     Europe  2015\n",
       "..           ...        ...             ...         ...        ...   ...\n",
       "787     Botswana     3.4789        0.997549    0.101786     Africa  2020\n",
       "788     Tanzania     3.4762        0.457163    0.203881     Africa  2020\n",
       "789       Rwanda     3.3123        0.343243    0.485542     Africa  2020\n",
       "790     Zimbabwe     3.2992        0.425564    0.080929     Africa  2020\n",
       "791  Afghanistan     2.5669        0.300706    0.001226       Asia  2020\n",
       "\n",
       "[792 rows x 6 columns]"
      ]
     },
     "metadata": {},
     "output_type": "display_data"
    }
   ],
   "source": [
    "dados_df.rename(columns={\"happiness_score\": \"Pontuação\", \n",
    "                         \"Country\": \"Países\", \n",
    "                         \"gdp_per_capita\": \"PIB_per_Capita\", \n",
    "                         \"government_trust\": \"Confin_Gov\",\n",
    "                         \"continent\": \"Continente\",\n",
    "                         \"Year\": \"Ano\"}, inplace=True)\n",
    "display(dados_df)"
   ]
  },
  {
   "cell_type": "markdown",
   "metadata": {},
   "source": [
    "## QUESTÃO 3\n",
    "\n"
   ]
  },
  {
   "cell_type": "markdown",
   "metadata": {},
   "source": [
    "**Estatísticas Descritivas**\n",
    "\n",
    "Calcule estatísticas descritivas para as colunas relevantes: \"Score\" (pontuação de felicidade), \"GDP per capita\" (PIB per capita) e \"Corruption Perception\" (percepção de corrupção) e . Mostre a média, mediana, desvio padrão, mínimo e máximo para cada uma dessas colunas."
   ]
  },
  {
   "cell_type": "code",
   "execution_count": 17,
   "metadata": {},
   "outputs": [
    {
     "data": {
      "text/html": [
       "<div>\n",
       "<style scoped>\n",
       "    .dataframe tbody tr th:only-of-type {\n",
       "        vertical-align: middle;\n",
       "    }\n",
       "\n",
       "    .dataframe tbody tr th {\n",
       "        vertical-align: top;\n",
       "    }\n",
       "\n",
       "    .dataframe thead th {\n",
       "        text-align: right;\n",
       "    }\n",
       "</style>\n",
       "<table border=\"1\" class=\"dataframe\">\n",
       "  <thead>\n",
       "    <tr style=\"text-align: right;\">\n",
       "      <th></th>\n",
       "      <th>Pontuação</th>\n",
       "      <th>PIB_per_Capita</th>\n",
       "      <th>Confin_Gov</th>\n",
       "      <th>Ano</th>\n",
       "    </tr>\n",
       "  </thead>\n",
       "  <tbody>\n",
       "    <tr>\n",
       "      <th>count</th>\n",
       "      <td>792.000000</td>\n",
       "      <td>792.000000</td>\n",
       "      <td>792.000000</td>\n",
       "      <td>792.000000</td>\n",
       "    </tr>\n",
       "    <tr>\n",
       "      <th>mean</th>\n",
       "      <td>5.473310</td>\n",
       "      <td>0.929217</td>\n",
       "      <td>0.125720</td>\n",
       "      <td>2017.500000</td>\n",
       "    </tr>\n",
       "    <tr>\n",
       "      <th>std</th>\n",
       "      <td>1.124726</td>\n",
       "      <td>0.385774</td>\n",
       "      <td>0.109032</td>\n",
       "      <td>1.708904</td>\n",
       "    </tr>\n",
       "    <tr>\n",
       "      <th>min</th>\n",
       "      <td>2.566900</td>\n",
       "      <td>0.000000</td>\n",
       "      <td>0.000000</td>\n",
       "      <td>2015.000000</td>\n",
       "    </tr>\n",
       "    <tr>\n",
       "      <th>25%</th>\n",
       "      <td>4.590750</td>\n",
       "      <td>0.644242</td>\n",
       "      <td>0.052862</td>\n",
       "      <td>2016.000000</td>\n",
       "    </tr>\n",
       "    <tr>\n",
       "      <th>50%</th>\n",
       "      <td>5.485500</td>\n",
       "      <td>0.994544</td>\n",
       "      <td>0.089000</td>\n",
       "      <td>2017.500000</td>\n",
       "    </tr>\n",
       "    <tr>\n",
       "      <th>75%</th>\n",
       "      <td>6.300500</td>\n",
       "      <td>1.228677</td>\n",
       "      <td>0.154250</td>\n",
       "      <td>2019.000000</td>\n",
       "    </tr>\n",
       "    <tr>\n",
       "      <th>max</th>\n",
       "      <td>7.808700</td>\n",
       "      <td>2.096000</td>\n",
       "      <td>0.551910</td>\n",
       "      <td>2020.000000</td>\n",
       "    </tr>\n",
       "  </tbody>\n",
       "</table>\n",
       "</div>"
      ],
      "text/plain": [
       "        Pontuação  PIB_per_Capita  Confin_Gov          Ano\n",
       "count  792.000000      792.000000  792.000000   792.000000\n",
       "mean     5.473310        0.929217    0.125720  2017.500000\n",
       "std      1.124726        0.385774    0.109032     1.708904\n",
       "min      2.566900        0.000000    0.000000  2015.000000\n",
       "25%      4.590750        0.644242    0.052862  2016.000000\n",
       "50%      5.485500        0.994544    0.089000  2017.500000\n",
       "75%      6.300500        1.228677    0.154250  2019.000000\n",
       "max      7.808700        2.096000    0.551910  2020.000000"
      ]
     },
     "execution_count": 17,
     "metadata": {},
     "output_type": "execute_result"
    }
   ],
   "source": [
    "dados_df.describe()"
   ]
  },
  {
   "cell_type": "markdown",
   "metadata": {},
   "source": [
    "## QUESTÃO 4"
   ]
  },
  {
   "cell_type": "markdown",
   "metadata": {},
   "source": [
    "Vamos usar somente o ano de 2019 para facilitar a análise."
   ]
  },
  {
   "cell_type": "markdown",
   "metadata": {},
   "source": [
    "a) Incluir no dataframe apenas as linhas do ano de 2019"
   ]
  },
  {
   "cell_type": "code",
   "execution_count": 10,
   "metadata": {},
   "outputs": [],
   "source": [
    "#seu codigo começa aqui\n"
   ]
  },
  {
   "cell_type": "markdown",
   "metadata": {},
   "source": [
    "b) Criar um novo DataFrame com países que têm pontuação de felicidade acima da média global ( do exercicio anterior)"
   ]
  },
  {
   "cell_type": "code",
   "execution_count": 11,
   "metadata": {},
   "outputs": [],
   "source": [
    "\n",
    "#seu codigo começa aqui"
   ]
  },
  {
   "cell_type": "markdown",
   "metadata": {},
   "source": [
    "# QUESTÃO 5"
   ]
  },
  {
   "cell_type": "markdown",
   "metadata": {},
   "source": [
    "**Classificação**\n",
    "\n",
    "Classifique o DataFrame resultante do Exercício 4 pela coluna \"Score\" em ordem decrescente. Mostre os 10 países com as maiores pontuações de felicidade. Isso é útil para responder a perguntas como:\n",
    "\n",
    "Quais países têm os maiores níveis de felicidade? A classificação em ordem decrescente fornece uma lista dos países com as maiores pontuações de felicidade, destacando aqueles que estão no topo da lista.\n",
    "\n",
    "Houve alguma mudança significativa na classificação da felicidade ao longo do tempo? Comparando a classificação em diferentes anos, é possível identificar se houve mudanças significativas na pontuação de felicidade de países específicos.\n",
    "\n",
    "Quais países são modelos de sucesso em termos de felicidade? A classificação ajuda a identificar países que são frequentemente citados como exemplos de sucesso em termos de bem-estar e qualidade de vida."
   ]
  },
  {
   "cell_type": "code",
   "execution_count": 12,
   "metadata": {},
   "outputs": [],
   "source": [
    "#SEU CÓDIGO COMEÇA AQUI##\n",
    "\n"
   ]
  },
  {
   "cell_type": "markdown",
   "metadata": {},
   "source": [
    "## QUESTÃO 6"
   ]
  },
  {
   "cell_type": "markdown",
   "metadata": {},
   "source": [
    "**Agrupando Dados por Região**\n",
    "\n",
    "Agrupe os dados por região (coluna \"Region\") e calcule a média das pontuações de felicidade para cada região. Ordene as regiões pela média de pontuação de felicidade em ordem decrescente."
   ]
  },
  {
   "cell_type": "code",
   "execution_count": 13,
   "metadata": {},
   "outputs": [],
   "source": [
    "### Seu código começa aqui  lembre do groupy.by\n"
   ]
  },
  {
   "cell_type": "markdown",
   "metadata": {},
   "source": [
    "## QUESTÃO 7"
   ]
  },
  {
   "cell_type": "markdown",
   "metadata": {},
   "source": [
    "**Lidando com Dados Ausentes**\n",
    "\n",
    "Verifique se há dados ausentes no DataFrame e, se houver, retire a linha inteira em questão. Certifique-se de que o DataFrame não possui mais dados ausentes após o preenchimento."
   ]
  },
  {
   "cell_type": "code",
   "execution_count": 14,
   "metadata": {},
   "outputs": [],
   "source": [
    "#seu código começa aqui\n",
    "\n"
   ]
  },
  {
   "cell_type": "markdown",
   "metadata": {},
   "source": [
    "# Questão 8"
   ]
  },
  {
   "cell_type": "markdown",
   "metadata": {},
   "source": [
    "Agora você tem uma base de dados limpa e com informações relevantes para responder algumas questões.\n",
    "\n",
    "- Países mais ricos são mais felizes? \n",
    "- Países com maior confiança no governo (menos experiencias com corrupção) são mais felizes?\n",
    "- Aonde se localizam os países mais felizes? Europa? Ásia?....\n"
   ]
  },
  {
   "cell_type": "markdown",
   "metadata": {},
   "source": [
    "**Países com maior confiança no governo são mais felizes?**\n",
    "\n",
    "a) Calcule a média da coluna \"Confianca_Gov\" para obter um valor médio que será usado como ponto de corte."
   ]
  },
  {
   "cell_type": "code",
   "execution_count": 15,
   "metadata": {},
   "outputs": [],
   "source": [
    "#seu codigo começa aqui"
   ]
  },
  {
   "cell_type": "markdown",
   "metadata": {},
   "source": [
    "b) Com base na média calculada, crie uma nova coluna no DataFrame que atribuirá um rótulo (\"alta\" ou \"baixa\") a cada país de acordo com sua confiança no governo em relação à média."
   ]
  },
  {
   "cell_type": "code",
   "execution_count": 16,
   "metadata": {},
   "outputs": [
    {
     "ename": "SyntaxError",
     "evalue": "invalid syntax (194010966.py, line 5)",
     "output_type": "error",
     "traceback": [
      "\u001b[1;36m  Cell \u001b[1;32mIn[16], line 5\u001b[1;36m\u001b[0m\n\u001b[1;33m    def\u001b[0m\n\u001b[1;37m        ^\u001b[0m\n\u001b[1;31mSyntaxError\u001b[0m\u001b[1;31m:\u001b[0m invalid syntax\n"
     ]
    }
   ],
   "source": [
    "#seu codigo começa aqui\n",
    "\n",
    "# Função para atribuir os rótulos \"alta\" ou \"baixa\" com base na média\n",
    "\n",
    "def \n",
    "\n",
    "\n",
    "\n",
    "# Aplique a função para criar a nova coluna de rótulos\n",
    "\n",
    "data['Rotulo_Confianca'] = data['Confianca_Gov'].apply(rotulo_confianca)  #O método apply é usado para aplicar uma função a cada valor da coluna \"Confianca_Gov\". Neste caso, a função rotulo_confianca é aplicada a cada valor individual da coluna.\n",
    "\n",
    "# Exiba as primeiras linhas do DataFrame com a nova coluna\n",
    "\n",
    "print(data.head())"
   ]
  },
  {
   "cell_type": "markdown",
   "metadata": {},
   "source": [
    "c) Após dividir os países em grupos, calcule a média da pontuação de felicidade para cada grupo separadamente.\n"
   ]
  },
  {
   "cell_type": "code",
   "execution_count": null,
   "metadata": {},
   "outputs": [],
   "source": [
    "#seu codigo começa aqui\n"
   ]
  },
  {
   "cell_type": "markdown",
   "metadata": {},
   "source": [
    "d) Use um gráfico de barras para representar a relação entre o nível de confiança no governo e a média da pontuação de felicidade. Cada barra no gráfico representa um grupo (alta ou baixa) e a altura da barra representa a média da pontuação de felicidade para esse grupo."
   ]
  },
  {
   "cell_type": "code",
   "execution_count": null,
   "metadata": {},
   "outputs": [],
   "source": [
    "# seu codigo começa aqui\n",
    "\n",
    "plt.figure(figsize=(10, 6))\n",
    "media_por_grupo.plot(kind='bar', color='skyblue') ## bar = grafico em barras  ## skyblue é a cor do grafico\n",
    "plt.title('')  ## dê um titulo \n",
    "plt.xlabel('')  ## o que você quer no eixo x\n",
    "plt.ylabel('')    ## o que você quer no eixo y\n",
    "plt.xticks(rotation=0)\n",
    "plt.show()"
   ]
  },
  {
   "cell_type": "markdown",
   "metadata": {},
   "source": [
    "e) qual é a conclusão de **Países com maior confiança no governo são mais felizes?**"
   ]
  },
  {
   "cell_type": "markdown",
   "metadata": {},
   "source": [
    "RESPOSTA..............."
   ]
  },
  {
   "cell_type": "markdown",
   "metadata": {},
   "source": [
    "## QUESTÃO 9"
   ]
  },
  {
   "cell_type": "markdown",
   "metadata": {},
   "source": [
    "**Países mais ricos são mais felizes?**"
   ]
  },
  {
   "cell_type": "markdown",
   "metadata": {},
   "source": [
    "a) Crie um gráfico de dispersão (scatter plot) que mostre a relação entre a pontuação de felicidade e o PIB per capita. Coloque a pontuação de felicidade no eixo vertical (y) e o PIB per capita no eixo horizontal (x). Adicione rótulos aos eixos e um título informativo ao gráfico."
   ]
  },
  {
   "cell_type": "code",
   "execution_count": null,
   "metadata": {},
   "outputs": [],
   "source": [
    "import matplotlib.pyplot as plt\n",
    "\n",
    "# Defina os dados para os eixos x e y\n",
    "x = data['']\n",
    "y = data['']\n",
    "\n",
    "# Crie o gráfico de dispersão\n",
    "plt.figure(figsize=(10, 6))  # Define o tamanho da figura\n",
    "plt.scatter(x, y, alpha=0.5)  # Cria o scatter plot com transparência\n",
    "\n",
    "# Adicione rótulos aos eixos\n",
    "plt.xlabel('')\n",
    "plt.ylabel('')\n",
    "plt.title('')\n",
    "\n",
    "# Exiba o gráfico\n",
    "plt.show()"
   ]
  },
  {
   "cell_type": "markdown",
   "metadata": {},
   "source": [
    "b) Qual é a conclusão de **Países mais ricos são mais felizes?**"
   ]
  },
  {
   "cell_type": "markdown",
   "metadata": {},
   "source": [
    "RESPOSTA  ............"
   ]
  },
  {
   "cell_type": "markdown",
   "metadata": {},
   "source": [
    "## QUESTÃO 10"
   ]
  },
  {
   "cell_type": "markdown",
   "metadata": {},
   "source": [
    "**Aonde se localizam os países mais felizes? Europa? Ásia?....**"
   ]
  },
  {
   "cell_type": "markdown",
   "metadata": {},
   "source": [
    "a) Calcule a média da pontuação de felicidade (Score) em todo o DataFrame.\n"
   ]
  },
  {
   "cell_type": "code",
   "execution_count": null,
   "metadata": {},
   "outputs": [],
   "source": [
    "##seu codigo começa aqui\n"
   ]
  },
  {
   "cell_type": "markdown",
   "metadata": {},
   "source": [
    "b) Crie dois DataFrames separados: um com os países com pontuação de felicidade acima da média e outro com os países com pontuação abaixo da média."
   ]
  },
  {
   "cell_type": "code",
   "execution_count": null,
   "metadata": {},
   "outputs": [],
   "source": [
    "\n",
    "##seu codigo começa aqui"
   ]
  },
  {
   "cell_type": "markdown",
   "metadata": {},
   "source": [
    "c) Para cada um dos dois DataFrames criados no item b, crie subgrupos calculando a contagem de países por continente (coluna \"Region\"). dica: .value_counts()"
   ]
  },
  {
   "cell_type": "code",
   "execution_count": null,
   "metadata": {},
   "outputs": [],
   "source": [
    "\n",
    "##seu codigo começa aqui"
   ]
  },
  {
   "cell_type": "markdown",
   "metadata": {},
   "source": [
    "d) Calcule a porcentagem que cada continente representa em relação ao total de países em cada grupo."
   ]
  },
  {
   "cell_type": "code",
   "execution_count": null,
   "metadata": {},
   "outputs": [],
   "source": [
    "## lembre-se :porcentagem_acima_da_media = (contagem_acima_da_media / len(acima_da_media)) * 100\n",
    "\n",
    "##seu codigo começa aqui"
   ]
  },
  {
   "cell_type": "markdown",
   "metadata": {},
   "source": [
    "e) Crie gráficos de barras que mostrem a porcentagem de cada continente nos grupos de alta felicidade e baixa felicidade."
   ]
  },
  {
   "cell_type": "code",
   "execution_count": null,
   "metadata": {},
   "outputs": [],
   "source": [
    "\n",
    "##seu codigo começa aqui\n",
    "\n",
    "import matplotlib.pyplot as plt\n",
    "\n",
    "# Gráfico de barras para o grupo de alta felicidade\n",
    "\n",
    "plt.figure(figsize=(10, 6))\n",
    "plt.bar(porcentagem_acima_da_media.index, porcentagem_acima_da_media)\n",
    "plt.title('')\n",
    "plt.xlabel('Continente')\n",
    "plt.ylabel('Porcentagem')\n",
    "plt.xticks(rotation=45)\n",
    "\n",
    "# Exibir o gráfico\n",
    "plt.show()\n",
    "\n",
    "# Gráfico de barras para o grupo de baixa felicidade\n",
    "\n",
    "### faça a mesma coisa do grafico acima porem para o grupo de baixa felicidade\n",
    "\n"
   ]
  },
  {
   "cell_type": "markdown",
   "metadata": {},
   "source": [
    "f)  Qual é a conclusão da questão: **Aonde se localizam os países mais felizes? Europa? Ásia?....**"
   ]
  },
  {
   "cell_type": "markdown",
   "metadata": {},
   "source": [
    "RESPOSTA ..........."
   ]
  },
  {
   "cell_type": "markdown",
   "metadata": {},
   "source": [
    "APÓS A LISTA VOCÊ CONSEGUE ENXERGAR ALGUMA CONCLUSÃO SOBRE A QUESTÃO INICIAL DO TEMA?"
   ]
  }
 ],
 "metadata": {
  "kernelspec": {
   "display_name": "Python 3 (ipykernel)",
   "language": "python",
   "name": "python3"
  },
  "language_info": {
   "codemirror_mode": {
    "name": "ipython",
    "version": 3
   },
   "file_extension": ".py",
   "mimetype": "text/x-python",
   "name": "python",
   "nbconvert_exporter": "python",
   "pygments_lexer": "ipython3",
   "version": "3.12.0"
  }
 },
 "nbformat": 4,
 "nbformat_minor": 2
}
