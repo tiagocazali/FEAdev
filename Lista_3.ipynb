{
 "cells": [
  {
   "cell_type": "markdown",
   "metadata": {},
   "source": [
    "# Fala devs, blz?? \n",
    "\n",
    "Esta será nossa terceira lista de exercícios para você testar seu conhecimento acerca do conteúdo do MÓDULO 3:\n",
    "\n",
    "-Funções"
   ]
  },
  {
   "cell_type": "markdown",
   "metadata": {},
   "source": [
    "## INSTRUÇÕES:\n",
    "\n",
    "A lista deve ser realizada pelo Jupyter Notebook.\n",
    "\n",
    "Nâo é necessário entregar a lista para afins de certificado dentro da plataforma, entretanto para alunos da USP que queiram participar do processo seletivo ou conseguir créditos AAC (apenas FEANOS) é necessária a entrega de TODAS as listas.\n",
    "\n",
    "A entrega das listas ou pelo menos sua excecução é recomendada a fim de exercitar todo o conhecimento adquirido do curso.\n",
    "\n",
    "O DESAFIO é para realmente te desafiar, por isso não desista de tentar e de continuar com o curso, ao longo das listas você verá que cada vez mais você terá ferramentas para completá-lo.\n",
    "\n",
    "Caso haja alguma dúvida acerca da lista participe das monitorias que serão oferecidas as quintas e sábados das 17h as 18h pelo DISCORD. Caso seu problema não seje resolvido envie uma mensagem para contato.feadev@gmail.com\n",
    "\n",
    "O gabarito será disponibilizado na plataforma após o término de periodo de envio\n",
    "\n"
   ]
  },
  {
   "cell_type": "code",
   "execution_count": null,
   "metadata": {},
   "outputs": [],
   "source": [
    "## vamos começar??"
   ]
  },
  {
   "cell_type": "markdown",
   "metadata": {},
   "source": [
    "## QUESTÃO 0"
   ]
  },
  {
   "cell_type": "markdown",
   "metadata": {},
   "source": [
    "Final do ano chegando e você já quer garantir sua viagem para a Europa, Crie uma função que converta valores euro para real. Considere que 1 euro equivale a 5.33 reais.\n",
    "\n",
    "Sabendo que hotel + comida + transporte + lazer darão entorno de 4500 euros, quantos reais você deverá guardar na sua poupança para garantir as férias."
   ]
  },
  {
   "cell_type": "code",
   "execution_count": null,
   "metadata": {},
   "outputs": [],
   "source": [
    "def converter_para_real(valor_em_Euro):\n",
    "    return valor_em_Euro * 5.33\n",
    "\n",
    "print(f\"Para viajar pela Europa, você precisa de R$ {converter_para_real(4500)}\")\n",
    "    "
   ]
  },
  {
   "cell_type": "markdown",
   "metadata": {},
   "source": [
    "## QUESTÃO 1\n"
   ]
  },
  {
   "cell_type": "markdown",
   "metadata": {},
   "source": [
    "Uma função em Python é uma sequência de códigos que possui nome próprio, executa tarefas específicas e evita repetição de código, podendo ser chamada pelo seu nome. Há funções já determinadas como print() e input(), entretanto, nesta lista de exercícios criaremos nossas próprias funções! \n"
   ]
  },
  {
   "cell_type": "markdown",
   "metadata": {},
   "source": [
    "Você adicionou o curso de Python da FEA.Dev em seu currículo e foi contratado como estagiário da empresa HelloWorld. Parabéns! Sua tarefa na empresa é automatizar o máximo de processos possíveis e, para isso, precisará criar muitas funções facilitadoras.\n",
    "\n",
    "Começaremos com dois exemplos básicos apenas como demonstração."
   ]
  },
  {
   "cell_type": "code",
   "execution_count": null,
   "metadata": {},
   "outputs": [],
   "source": [
    "def slogan():\n",
    "    print('hello, world!')\n",
    "\n",
    "#função com parâmetros e retornando um valor\n",
    "def soma(a, b):\n",
    "    print (a + b)\n",
    "\n",
    "\n",
    "\n",
    "slogan()\n",
    "soma(5, 7) #5 e 7 são argumentos da função soma"
   ]
  },
  {
   "cell_type": "markdown",
   "metadata": {},
   "source": [
    "**a)Parâmetros Opcionais:**\n",
    "\n",
    "Observando o departamento de contabilidade da HelloWorld, você percebeu que os funcionários passam o dia multiplicando valores e, como um bom programador, resolveu tornar esse processo mais eficiente. Desenvolva a função mult, que retorna a multiplicação dos parâmetros \"a\", \"b\", \"c\" e \"d\". Porém, a função não precisa necessariamente receber os 4 argumentos. Caso um parâmetro não receba um argumento, ele deve valer 1."
   ]
  },
  {
   "cell_type": "code",
   "execution_count": 2,
   "metadata": {},
   "outputs": [
    {
     "name": "stdout",
     "output_type": "stream",
     "text": [
      "4\n",
      "12\n",
      "48\n"
     ]
    }
   ],
   "source": [
    "def mult (a=1, b=1, c=1, d=1):\n",
    "    return a*b*c*d\n",
    "\n",
    "print(mult(2,2))\n",
    "print(mult(2,2,3))\n",
    "print(mult(3,2,2,4))"
   ]
  },
  {
   "cell_type": "markdown",
   "metadata": {},
   "source": [
    "**b)Return X Print:**\n",
    "\n",
    "Antes de tudo, rode todas as células do jupyter. \n",
    "\n",
    "O CEO da HelloWorld está desesperado, pois não consegue solucionar um erro de código que está impedindo a empresa de continuar funcionando. Assim, ele te ligou para ajudá-lo a corrigir tal erro.\n",
    "Rode o código abaixo para identificar o erro.\n",
    "(não altere o código, o erro foi planejado)"
   ]
  },
  {
   "cell_type": "code",
   "execution_count": null,
   "metadata": {},
   "outputs": [],
   "source": [
    "mult(soma(5, 5), 10)"
   ]
  },
  {
   "cell_type": "markdown",
   "metadata": {},
   "source": [
    "Reescreva a função soma para que o erro não ocorra. Lembre-se da diferença entre retornar um valor e imprimir um valor."
   ]
  },
  {
   "cell_type": "code",
   "execution_count": 3,
   "metadata": {},
   "outputs": [
    {
     "data": {
      "text/plain": [
       "100"
      ]
     },
     "execution_count": 3,
     "metadata": {},
     "output_type": "execute_result"
    }
   ],
   "source": [
    "def soma (a=0, b=0):\n",
    "    return a+b\n",
    "\n",
    "mult(soma(5, 5), 10)"
   ]
  },
  {
   "cell_type": "markdown",
   "metadata": {},
   "source": [
    "## QUESTÃO 2\n",
    "\n"
   ]
  },
  {
   "cell_type": "markdown",
   "metadata": {},
   "source": [
    "Você está desenvolvendo um jogo de adivinhação muito simples, no qual o jogador tenta adivinhar um número secreto entre 1 e 100.\n",
    "\n",
    "**Instrução:**\n",
    "\n",
    "O programa gerará aleatoriamente um número entre 1 e 100 que o jogador deve adivinhar.\n",
    "\n",
    "O jogador poderá inserir um palpite (um número inteiro) e pressionar \"Enter\".\n",
    "\n",
    "O programa fornecerá feedback sobre o palpite do jogador, dizendo se o palpite é muito alto, muito baixo ou correto em relação ao número secreto.\n",
    "\n",
    "O jogador continuará a adivinhar até acertar o número secreto.\n",
    "\n",
    "O programa informará quantas tentativas foram necessárias para acertar o número."
   ]
  },
  {
   "cell_type": "markdown",
   "metadata": {},
   "source": [
    "**Exemplo**\n",
    "\n",
    "Bem-vindo ao Jogo de Adivinhação! Tente adivinhar o número secreto entre 1 e 100.\n",
    "\n",
    "Digite o seu palpite: 50 O número é maior. Tente novamente.\n",
    "\n",
    "Digite o seu palpite: 25 O número é maior. Tente novamente.\n",
    "\n",
    "Digite o seu palpite: 37 O número é menor. Tente novamente.\n",
    "\n",
    "Digite o seu palpite: 42 Parabéns! Você acertou o número secreto 42 em 4 tentativas.\n"
   ]
  },
  {
   "cell_type": "code",
   "execution_count": null,
   "metadata": {},
   "outputs": [],
   "source": [
    "from random import randint\n",
    "print(\"=== BEM VINDO! ===\")\n",
    "print(\"Novo numero secreto gerado!\")\n",
    "print(\"Pode começar a chutar! -- Se quiser desistir, digite 0\")\n",
    "\n",
    "num_secreto = randint(1,100)\n",
    "tentativas = 0\n",
    "while True:\n",
    "    tentativas += 1\n",
    "    palpite = int(input(\"Digite seu Palpite: \"))\n",
    "    \n",
    "    if palpite == 0: \n",
    "        print(f\"Até mais! O numero era: {num_secreto}\")\n",
    "        break\n",
    "\n",
    "    if palpite == num_secreto:\n",
    "        print(f\"PARABENS! VOCÊ ACERTOU {tentativas} TENTATIVAS!\")\n",
    "        break\n",
    "    \n",
    "    elif palpite > num_secreto:\n",
    "        print(\"O numero é menor. Tente de novo!\")\n",
    "\n",
    "    else:\n",
    "        print(\"O numero é MAIOR. tente de novo.\")\n",
    "\n"
   ]
  },
  {
   "cell_type": "markdown",
   "metadata": {},
   "source": [
    "## QUESTÃO 3"
   ]
  },
  {
   "cell_type": "markdown",
   "metadata": {},
   "source": [
    "**Jogo da Forca**\n",
    "\n",
    "Você está criando um jogo da forca em Python, um jogo popular de adivinhação de palavras. Neste jogo, um jogador tenta adivinhar uma palavra, letra por letra, antes que o enforcado seja completamente desenhado.\n",
    "\n",
    "**Instrução:**\n",
    "\n",
    "Crie uma função chamada verificar_letra que aceite dois argumentos: uma palavra secreta e uma letra. A função deve verificar se a letra está presente na palavra secreta. Se a letra estiver na palavra secreta, a função deve retornar True, caso contrário, deve retornar False.\n",
    "\n",
    "Apenas 1 letra."
   ]
  },
  {
   "cell_type": "code",
   "execution_count": null,
   "metadata": {},
   "outputs": [],
   "source": [
    "def verificar_letra(palavra, letra):\n",
    "    return letra in palavra\n",
    "\n",
    "verificar_letra(\"casa\", \"b\")"
   ]
  },
  {
   "cell_type": "markdown",
   "metadata": {},
   "source": [
    "# QUESTÃO 4"
   ]
  },
  {
   "cell_type": "markdown",
   "metadata": {},
   "source": [
    "Você está desenvolvendo uma função que embaralha as letras de uma palavra para criar palavras embaralhadas.\n",
    "\n",
    "**Instrução:**\n",
    "\n",
    "Crie uma função chamada embaralhar_palavra que aceite uma palavra como argumento e retorne a mesma palavra com suas letras embaralhadas. Independentemente da entrada ser em maiúsculas ou minúsculas, a saída deve estar sempre em letras minúsculas.\n",
    "\n",
    "A palavra deve ser: embaralhados"
   ]
  },
  {
   "cell_type": "code",
   "execution_count": 10,
   "metadata": {},
   "outputs": [
    {
     "data": {
      "text/plain": [
       "'mrashbdeolaa'"
      ]
     },
     "execution_count": 10,
     "metadata": {},
     "output_type": "execute_result"
    }
   ],
   "source": [
    "def embaralhar_palavra(palavra): \n",
    "    from random import randint\n",
    "\n",
    "    lista_de_letras = list(palavra.lower())\n",
    "\n",
    "    for index in range(len(lista_de_letras)):\n",
    "        aux = randint(0, len(lista_de_letras) -1)\n",
    "        lista_de_letras[index], lista_de_letras[aux] = lista_de_letras[aux], lista_de_letras[index]\n",
    "\n",
    "    return \"\".join(lista_de_letras)\n",
    "    \n",
    "\n",
    "embaralhar_palavra(\"Embaralhados\")"
   ]
  },
  {
   "cell_type": "markdown",
   "metadata": {},
   "source": [
    "## QUESTÃO 5"
   ]
  },
  {
   "cell_type": "markdown",
   "metadata": {},
   "source": [
    "Você está desenvolvendo uma função chamada eh_numero_par que verifica se um número é par ou ímpar. Esta função ajudará a determinar se um número dado é divisível por 2.\n",
    "\n",
    "**Instruções:**\n",
    "\n",
    "Crie uma função chamada eh_numero_par que aceite um número como argumento.\n",
    "\n",
    "Dentro da função, verifique se o número é divisível por 2. Se for divisível por 2, retorne True. Caso contrário, retorne False."
   ]
  },
  {
   "cell_type": "code",
   "execution_count": null,
   "metadata": {},
   "outputs": [],
   "source": [
    "### Seu código começa aqui\n",
    "\n",
    "def eh_numero_par(numero):\n",
    "    return numero %2 == 0\n",
    "\n",
    "eh_numero_par(-41)"
   ]
  },
  {
   "cell_type": "markdown",
   "metadata": {},
   "source": [
    "## QUESTÃO 6"
   ]
  },
  {
   "cell_type": "markdown",
   "metadata": {},
   "source": [
    "Você está desenvolvendo um sistema para uma sorveteria que permite aos clientes escolherem seus sabores de sorvete favoritos e montar seus próprios sorvetes. Crie uma função que ajude os clientes a escolher os sabores de sorvete.\n",
    "\n",
    "Crie uma função chamada escolher_sabores que aceite uma lista de sabores de sorvete como argumento. A função deve escolher aleatoriamente um sabor de sorvete da lista e retorná-lo."
   ]
  },
  {
   "cell_type": "code",
   "execution_count": null,
   "metadata": {},
   "outputs": [],
   "source": [
    "sabores_disponíveis = [\"Baunilha\", \"Chocolate\", \"Morango\", \"Creme\", \"Café\", \"Chocolate com menta\", \"Milho\"]\n",
    "\n",
    "def escolher_sabores(lista_de_sabores):\n",
    "    from random import randint\n",
    "\n",
    "    num_aleatorio = randint(0, len(lista_de_sabores)-1)\n",
    "    print(f\"O Sabor escolhido foi: {lista_de_sabores[num_aleatorio]}\")\n",
    "\n",
    "\n",
    "escolher_sabores(sabores_disponíveis)\n"
   ]
  },
  {
   "cell_type": "markdown",
   "metadata": {},
   "source": [
    "# Questão 7"
   ]
  },
  {
   "cell_type": "markdown",
   "metadata": {},
   "source": [
    "Você está desenvolvendo uma aplicação de gerenciamento de eventos para auxiliar pessoas a planejarem seus compromissos mensais. Para isso, é essencial criar uma função que gera um calendário mensal para que os usuários possam visualizar os dias da semana e planejar seus eventos.\n",
    "\n",
    "Crie uma função chamada gerar_calendario_mensal que aceita dois argumentos: o ano e o mês para o qual você deseja gerar um calendário. A função deve retornar uma representação do calendário do mês especificado, exibindo os dias da semana e os números dos dias do mês."
   ]
  },
  {
   "cell_type": "code",
   "execution_count": null,
   "metadata": {},
   "outputs": [],
   "source": [
    "#####SEU CODIGO COMECA AQUI#####\n",
    "import calendar #lembre-se da lista passada\n",
    "\n",
    "def gerar_calendario(mes, ano):\n",
    "    calendario = calendar.month(ano, mes)\n",
    "    print(calendario)\n",
    "\n",
    "gerar_calendario(1, 2023)"
   ]
  },
  {
   "cell_type": "markdown",
   "metadata": {},
   "source": [
    "# Questão 8"
   ]
  },
  {
   "cell_type": "markdown",
   "metadata": {},
   "source": [
    "É outubrooooo!!!!! \n",
    "Você está se preparando para o Halloween e deseja criar um programa para contar a quantidade de doces que você coletou durante o \"doces ou travessuras\". Crie uma função que simule a contagem de doces."
   ]
  },
  {
   "cell_type": "markdown",
   "metadata": {},
   "source": [
    "Crie uma função chamada contar_doces que aceite uma lista de tipos de doces como argumento. A função deve contar quantas vezes cada tipo de doce aparece na lista e retornar um dicionário onde as chaves são os tipos de doces e os valores são as quantidades correspondentes."
   ]
  },
  {
   "cell_type": "code",
   "execution_count": 60,
   "metadata": {},
   "outputs": [
    {
     "name": "stdout",
     "output_type": "stream",
     "text": [
      "{'chocolate': 2, 'pirulito': 3, 'caramelo': 1, 'bombom': 1}\n"
     ]
    }
   ],
   "source": [
    "doces_coletados = [\"chocolate\", \"chocolate\", \"pirulito\", \"caramelo\", \"pirulito\", \"pirulito\", \"bombom\"]\n",
    "\n",
    "lista_de_doces = {}\n",
    "\n",
    "def contar_doces(lista):\n",
    "    for cada_doce in lista:\n",
    "        if cada_doce in lista_de_doces:\n",
    "            lista_de_doces[cada_doce] += 1\n",
    "        else:\n",
    "            lista_de_doces[cada_doce] = 1\n",
    "\n",
    "    print(lista_de_doces)\n",
    "\n",
    "contar_doces(doces_coletados)\n",
    "\n"
   ]
  },
  {
   "cell_type": "markdown",
   "metadata": {},
   "source": [
    "# DESAFIO"
   ]
  },
  {
   "cell_type": "markdown",
   "metadata": {},
   "source": [
    "Quem não gosta de jogar um bingo na igreja e ganhar uns potes de plásticos maneiros???\n",
    "Vamos jogar no Python? Crie um jogo de bingo onde a pessoa deve pressionar \"Enter\" para sortear cada número. Os números sorteados estão limitados a um intervalo de 1 a 20.\n",
    "\n",
    "Instruções:\n",
    "\n",
    "Crie uma função chamada sortear_bingo que não aceita argumentos.\n",
    "\n",
    "Inicialize uma lista vazia chamada numeros_sorteados para acompanhar os números sorteados.\n",
    "\n",
    "Inicialize uma cartela de bingo com números de 1 a 20. A cartela pode ser uma lista de 2 listas com 5 números cada. Cada número deve ser único na cartela.\n",
    "\n",
    "Utilize um loop para simular o sorteio de números de 1 a 20. Certifique-se de que os números sorteados sejam únicos.\n",
    "\n",
    "Exiba cada número sorteado na tela e a cartela do jogador.\n",
    "\n",
    "Peça à pessoa que pressione \"Enter\" para sortear o próximo número a cada rodada.\n",
    "\n",
    "Marque o número sorteado na cartela do jogador.\n",
    "\n",
    "Continue o sorteio até que todos os números de 1 a 20 tenham sido sorteados. Quando isso acontecer, exiba \"Bingo!\"."
   ]
  },
  {
   "cell_type": "markdown",
   "metadata": {},
   "source": [
    "sua cartela será:"
   ]
  },
  {
   "cell_type": "code",
   "execution_count": 1,
   "metadata": {},
   "outputs": [
    {
     "name": "stdout",
     "output_type": "stream",
     "text": [
      "===  Vamos Jogar Bingo ===\n",
      "\n",
      "Essa é sua cartela dessa jogada: \n",
      "[1, 8, 10]\n",
      "[5, 3, 7]\n",
      "[2, 6, 9]\n",
      "\n",
      "Vamos Começar! Boa sorte!\n",
      "======\n",
      "\n",
      "Aperte ENTER para sortear um numero: (q para sair)\n"
     ]
    },
    {
     "name": "stdout",
     "output_type": "stream",
     "text": [
      "Numero sorteado: 14\n",
      "Numeros sorteados Até agora: [14]\n",
      "Sua cartela agora está assim: \n",
      "[1, 8, 10]\n",
      "[5, 3, 7]\n",
      "[2, 6, 9]\n",
      "======\n",
      "\n",
      "Aperte ENTER para sortear um numero: (q para sair)\n",
      "Numero sorteado: 9\n",
      "Sorte! Numero 9 marcado na sua cartela!\n",
      "Numeros sorteados Até agora: [14, 9]\n",
      "Sua cartela agora está assim: \n",
      "[1, 8, 10]\n",
      "[5, 3, 7]\n",
      "[2, 6, 'X']\n",
      "======\n",
      "\n",
      "Aperte ENTER para sortear um numero: (q para sair)\n",
      "Numero sorteado: 10\n",
      "Sorte! Numero 10 marcado na sua cartela!\n",
      "Numeros sorteados Até agora: [14, 9, 10]\n",
      "Sua cartela agora está assim: \n",
      "[1, 8, 'X']\n",
      "[5, 3, 7]\n",
      "[2, 6, 'X']\n",
      "======\n",
      "\n",
      "Aperte ENTER para sortear um numero: (q para sair)\n",
      "Numero sorteado: 6\n",
      "Sorte! Numero 6 marcado na sua cartela!\n",
      "Numeros sorteados Até agora: [14, 9, 10, 6]\n",
      "Sua cartela agora está assim: \n",
      "[1, 8, 'X']\n",
      "[5, 3, 7]\n",
      "[2, 'X', 'X']\n",
      "======\n",
      "\n",
      "Aperte ENTER para sortear um numero: (q para sair)\n",
      "Numero sorteado: 1\n",
      "Sorte! Numero 1 marcado na sua cartela!\n",
      "Numeros sorteados Até agora: [14, 9, 10, 6, 1]\n",
      "Sua cartela agora está assim: \n",
      "['X', 8, 'X']\n",
      "[5, 3, 7]\n",
      "[2, 'X', 'X']\n",
      "======\n",
      "\n",
      "Aperte ENTER para sortear um numero: (q para sair)\n",
      "Numero sorteado: 13\n",
      "Numeros sorteados Até agora: [14, 9, 10, 6, 1, 13]\n",
      "Sua cartela agora está assim: \n",
      "['X', 8, 'X']\n",
      "[5, 3, 7]\n",
      "[2, 'X', 'X']\n",
      "======\n",
      "\n",
      "Aperte ENTER para sortear um numero: (q para sair)\n",
      "Numero sorteado: 19\n",
      "Numeros sorteados Até agora: [14, 9, 10, 6, 1, 13, 19]\n",
      "Sua cartela agora está assim: \n",
      "['X', 8, 'X']\n",
      "[5, 3, 7]\n",
      "[2, 'X', 'X']\n",
      "======\n",
      "\n",
      "Aperte ENTER para sortear um numero: (q para sair)\n",
      "Numero sorteado: 15\n",
      "Numeros sorteados Até agora: [14, 9, 10, 6, 1, 13, 19, 15]\n",
      "Sua cartela agora está assim: \n",
      "['X', 8, 'X']\n",
      "[5, 3, 7]\n",
      "[2, 'X', 'X']\n",
      "======\n",
      "\n",
      "Aperte ENTER para sortear um numero: (q para sair)\n",
      "Numero sorteado: 12\n",
      "Numeros sorteados Até agora: [14, 9, 10, 6, 1, 13, 19, 15, 12]\n",
      "Sua cartela agora está assim: \n",
      "['X', 8, 'X']\n",
      "[5, 3, 7]\n",
      "[2, 'X', 'X']\n",
      "======\n",
      "\n",
      "Aperte ENTER para sortear um numero: (q para sair)\n",
      "Numero sorteado: 20\n",
      "Numeros sorteados Até agora: [14, 9, 10, 6, 1, 13, 19, 15, 12, 20]\n",
      "Sua cartela agora está assim: \n",
      "['X', 8, 'X']\n",
      "[5, 3, 7]\n",
      "[2, 'X', 'X']\n",
      "======\n",
      "\n",
      "Aperte ENTER para sortear um numero: (q para sair)\n",
      "Numero sorteado: 5\n",
      "Sorte! Numero 5 marcado na sua cartela!\n",
      "Numeros sorteados Até agora: [14, 9, 10, 6, 1, 13, 19, 15, 12, 20, 5]\n",
      "Sua cartela agora está assim: \n",
      "['X', 8, 'X']\n",
      "['X', 3, 7]\n",
      "[2, 'X', 'X']\n",
      "======\n",
      "\n",
      "Aperte ENTER para sortear um numero: (q para sair)\n",
      "Numero sorteado: 18\n",
      "Numeros sorteados Até agora: [14, 9, 10, 6, 1, 13, 19, 15, 12, 20, 5, 18]\n",
      "Sua cartela agora está assim: \n",
      "['X', 8, 'X']\n",
      "['X', 3, 7]\n",
      "[2, 'X', 'X']\n",
      "======\n",
      "\n",
      "Aperte ENTER para sortear um numero: (q para sair)\n",
      "Numero sorteado: 8\n",
      "Sorte! Numero 8 marcado na sua cartela!\n",
      "Numeros sorteados Até agora: [14, 9, 10, 6, 1, 13, 19, 15, 12, 20, 5, 18, 8]\n",
      "Sua cartela agora está assim: \n",
      "['X', 'X', 'X']\n",
      "['X', 3, 7]\n",
      "[2, 'X', 'X']\n",
      "======\n",
      "\n",
      "Aperte ENTER para sortear um numero: (q para sair)\n",
      "Numero sorteado: 7\n",
      "Sorte! Numero 7 marcado na sua cartela!\n",
      "Numeros sorteados Até agora: [14, 9, 10, 6, 1, 13, 19, 15, 12, 20, 5, 18, 8, 7]\n",
      "Sua cartela agora está assim: \n",
      "['X', 'X', 'X']\n",
      "['X', 3, 'X']\n",
      "[2, 'X', 'X']\n",
      "======\n",
      "\n",
      "Aperte ENTER para sortear um numero: (q para sair)\n",
      "Numero sorteado: 4\n",
      "Numeros sorteados Até agora: [14, 9, 10, 6, 1, 13, 19, 15, 12, 20, 5, 18, 8, 7, 4]\n",
      "Sua cartela agora está assim: \n",
      "['X', 'X', 'X']\n",
      "['X', 3, 'X']\n",
      "[2, 'X', 'X']\n",
      "======\n",
      "\n",
      "Aperte ENTER para sortear um numero: (q para sair)\n",
      "Numero sorteado: 2\n",
      "Sorte! Numero 2 marcado na sua cartela!\n",
      "Numeros sorteados Até agora: [14, 9, 10, 6, 1, 13, 19, 15, 12, 20, 5, 18, 8, 7, 4, 2]\n",
      "Sua cartela agora está assim: \n",
      "['X', 'X', 'X']\n",
      "['X', 3, 'X']\n",
      "['X', 'X', 'X']\n",
      "======\n",
      "\n",
      "Aperte ENTER para sortear um numero: (q para sair)\n",
      "Numero sorteado: 16\n",
      "Numeros sorteados Até agora: [14, 9, 10, 6, 1, 13, 19, 15, 12, 20, 5, 18, 8, 7, 4, 2, 16]\n",
      "Sua cartela agora está assim: \n",
      "['X', 'X', 'X']\n",
      "['X', 3, 'X']\n",
      "['X', 'X', 'X']\n",
      "======\n",
      "\n",
      "Aperte ENTER para sortear um numero: (q para sair)\n",
      "Numero sorteado: 3\n",
      "Sorte! Numero 3 marcado na sua cartela!\n",
      "Numeros sorteados Até agora: [14, 9, 10, 6, 1, 13, 19, 15, 12, 20, 5, 18, 8, 7, 4, 2, 16, 3]\n",
      "Sua cartela agora está assim: \n",
      "['X', 'X', 'X']\n",
      "['X', 'X', 'X']\n",
      "['X', 'X', 'X']\n",
      "BINGO!!!!\n",
      "PARABENS! O jogo acabou!\n"
     ]
    }
   ],
   "source": [
    "##seu codigo começa aqui\n",
    "from random import randint\n",
    "\n",
    "cartela_jogador = [\n",
    "    [1,8,10],\n",
    "    [5,3,7],\n",
    "    [2,6,9],\n",
    "]\n",
    "\n",
    "num_sorteados = []\n",
    "\n",
    "def jogo_do_bingo():\n",
    "    \"\"\"Essa é a função principal do Jogo.\n",
    "       Ela que será executada e chamará todas as outras!\"\"\"\n",
    "    \n",
    "    #Imprime uma apresentação apenas 1 vez\n",
    "    print(\"===  Vamos Jogar Bingo ===\")\n",
    "    print(\"\\nEssa é sua cartela dessa jogada: \")\n",
    "    imprimir_cartela(cartela_jogador)\n",
    "    print(\"\\nVamos Começar! Boa sorte!\")\n",
    "    \n",
    "    #Loop Principal do jogo\n",
    "    continua = True\n",
    "    while continua:\n",
    "        \n",
    "        #pede para apertar ENTER para sortear um numero, se apertar \"q\", termina o jogo\n",
    "        print(\"======\\n\")\n",
    "        x = input(print(\"Aperte ENTER para sortear um numero: (q para sair)\"))\n",
    "        \n",
    "        if x == \"q\":\n",
    "            continua = False\n",
    "            break\n",
    "        \n",
    "        \n",
    "        else:\n",
    "            #Sorteia um numero e pega esse numero sorteado\n",
    "            sorteado = sortear_bingo()\n",
    "\n",
    "            #Marca esse numero na cartela do Jogador\n",
    "            marcar_numero(sorteado, cartela_jogador)\n",
    "\n",
    "            #Mostra todos os numeros sorteados até agora\n",
    "            print(f\"Numeros sorteados Até agora: {num_sorteados}\")\n",
    "\n",
    "            #mostra como esta a Cartela atual\n",
    "            print(\"Sua cartela agora está assim: \")\n",
    "            imprimir_cartela(cartela_jogador)\n",
    "\n",
    "            #Verifica se ele fez Bingo, se SIM, termina o jogo\n",
    "            if verificar_bingo(cartela_jogador):\n",
    "                print(\"PARABENS! O jogo acabou!\")\n",
    "                break\n",
    "        \n",
    "        #Segurança: Checa se a variavel \"num_sorteado\" já tem os 20 numeros, e para o programa\n",
    "        if len(num_sorteados) == 20:\n",
    "            break\n",
    "\n",
    "\n",
    "def sortear_bingo():\n",
    "    \"\"\"Faz o serteio de um numero aleatório entre 1 e 20\n",
    "    Faz uso da variável GLOGAL \"num_sorteados\" \"\"\"\n",
    "\n",
    "    #Vefifica se já não foram sorteados os 20 numeros\n",
    "    while len(num_sorteados)<20:\n",
    "        \n",
    "        #Sorteia um numero entre 1 e 20\n",
    "        temp = randint(1, 20)\n",
    "\n",
    "        #Se o numero sorteado NÃO estiver em num_sorteados, usa ele!\n",
    "        if temp not in num_sorteados:\n",
    "            num_sorteados.append(temp)\n",
    "            print(f\"Numero sorteado: {temp}\")\n",
    "\n",
    "            return temp\n",
    "            break\n",
    "        \n",
    "\n",
    "def imprimir_cartela(cartela):\n",
    "    \"\"\"Essa função imprime a cartela do jogador\"\"\"\n",
    "\n",
    "    for cada_linha in cartela:\n",
    "        print(cada_linha)\n",
    "\n",
    "\n",
    "def marcar_numero(numero, cartela):\n",
    "    \"\"\"Essa função procura o numero sorteado na cartela do jogador e marca com X se achar\"\"\"\n",
    "\n",
    "    for linha in range(3):\n",
    "        for num in range(3):\n",
    "            if cartela[linha][num] == numero:\n",
    "                cartela[linha][num] = \"X\"\n",
    "                print(f\"Sorte! Numero {numero} marcado na sua cartela!\")\n",
    "\n",
    "\n",
    "def verificar_bingo(cartela):\n",
    "    \"\"\"Verifica se todos os 9 numeros da cartela foram marcados (\"X\")\"\"\"\n",
    "    \n",
    "    aux = 0 #Irá contar quantos X tem na cartela\n",
    "    for linha in range(3):\n",
    "        for cada in range(3):\n",
    "            if cartela[linha][cada] == \"X\":\n",
    "                aux += 1\n",
    "    \n",
    "    #Verifica se foram encontrado 9 \"X\" e grita BINGO!\n",
    "    if aux == 9:\n",
    "        print(\"BINGO!!!!\")\n",
    "        return True\n",
    "\n",
    "\n",
    "#INICIA O JOGO\n",
    "jogo_do_bingo()\n"
   ]
  }
 ],
 "metadata": {
  "kernelspec": {
   "display_name": "Python 3 (ipykernel)",
   "language": "python",
   "name": "python3"
  },
  "language_info": {
   "codemirror_mode": {
    "name": "ipython",
    "version": 3
   },
   "file_extension": ".py",
   "mimetype": "text/x-python",
   "name": "python",
   "nbconvert_exporter": "python",
   "pygments_lexer": "ipython3",
   "version": "3.12.0"
  }
 },
 "nbformat": 4,
 "nbformat_minor": 2
}
