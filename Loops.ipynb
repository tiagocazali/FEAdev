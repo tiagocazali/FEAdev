{
 "cells": [
  {
   "cell_type": "markdown",
   "metadata": {},
   "source": [
    "# Relembrando\n",
    "\n",
    "# Operadoes de comparação\n",
    "\n",
    "- \\> : maior que\n",
    "- < : menor que\n",
    "- \\>= : maior ou igual a\n",
    "- <= : menor ou igual a\n",
    "- == : igual a\n",
    "- != : diferente de\n",
    "\n",
    "# Operadores lógicos\n",
    "\n",
    "- and\n",
    "- or\n",
    "- not\n",
    "\n",
    "# Operadores de assiciação\n",
    "\n",
    "- in\n",
    "- not in\n",
    "\n",
    "# Introdução aos loops\n",
    "\n",
    "Lopops são estruturas de controle que pwermitem que você execute um bloco de código repetidamente."
   ]
  },
  {
   "cell_type": "code",
   "execution_count": 1,
   "metadata": {},
   "outputs": [
    {
     "name": "stdout",
     "output_type": "stream",
     "text": [
      "1\n",
      "2\n",
      "3\n",
      "4\n",
      "5\n"
     ]
    }
   ],
   "source": [
    "# print numeros de 0 a 5\n",
    "\n",
    "print(1)\n",
    "print(2)\n",
    "print(3)\n",
    "print(4)\n",
    "print(5)"
   ]
  },
  {
   "cell_type": "markdown",
   "metadata": {},
   "source": [
    "# PseudoCode: `WHILE`"
   ]
  },
  {
   "cell_type": "code",
   "execution_count": null,
   "metadata": {},
   "outputs": [],
   "source": [
    "enquanto condição verídica:                 ----->              while condição:\n",
    "    código a ser executado em repetição                            código a ser executado em repetição"
   ]
  },
  {
   "cell_type": "code",
   "execution_count": 2,
   "metadata": {},
   "outputs": [
    {
     "name": "stdout",
     "output_type": "stream",
     "text": [
      "Que ótimo!\n"
     ]
    }
   ],
   "source": [
    "#pegar input de usuário (WHILE infinito + break)\n",
    "while True:\n",
    "    resposta = input(\"Você está gostando do curso?\").lower()\n",
    "    #if resposta == \"sim\": #forma básica\n",
    "    if resposta in [\"sim\", \"s\"]:\n",
    "    #if resposta == \"sim\" or resposta ==\"s\": #forma não muito inteligente\n",
    "        print(\"Que ótimo!\")\n",
    "        break\n",
    "    #elif resposta == \"não\":\n",
    "    #elif resposta == \"não\" or == \"s\":\n",
    "    elif resposta in [\"não\", \"n\", \"nao\"]:\n",
    "        print(\"Que pena :'(\")\n",
    "        break"
   ]
  },
  {
   "cell_type": "code",
   "execution_count": 3,
   "metadata": {},
   "outputs": [
    {
     "name": "stdout",
     "output_type": "stream",
     "text": [
      "0\n",
      "1\n",
      "2\n",
      "3\n",
      "4\n",
      "5\n"
     ]
    }
   ],
   "source": [
    "# print de numeros de 0 a 5 com while\n",
    "contador = 0\n",
    "while contador < 6:\n",
    "    print(contador)\n",
    "    #contador = contador + 1 #forma básica\n",
    "    contador += 1"
   ]
  },
  {
   "cell_type": "markdown",
   "metadata": {},
   "source": [
    "# operadores de atribuição\n",
    "\n",
    "Operador | Equivalente\n",
    "---------|------------\n",
    "|+=       | x = x + y|\n",
    "|-=       | x =  x - y|\n",
    "|*=       | x = x * y|\n",
    "|/=       | x = x / y|\n",
    "|%=       | x= x% y|"
   ]
  },
  {
   "cell_type": "markdown",
   "metadata": {},
   "source": [
    "# PseudoCode: `FOR`"
   ]
  },
  {
   "cell_type": "code",
   "execution_count": null,
   "metadata": {},
   "outputs": [],
   "source": [
    "para cada elemento em uma sequência:                 ----->              for elemento in sequencia:\n",
    "    código a ser executado para cada elemento                                   código a ser executado para cada elemento"
   ]
  },
  {
   "cell_type": "code",
   "execution_count": 4,
   "metadata": {},
   "outputs": [
    {
     "name": "stdout",
     "output_type": "stream",
     "text": [
      "0\n",
      "1\n",
      "2\n",
      "3\n",
      "4\n",
      "5\n"
     ]
    }
   ],
   "source": [
    "# Print de números de 0 a 5 com for\n",
    "num = [0, 1, 2, 3, 4, 5]\n",
    "for numero in num:\n",
    "    print (numero)"
   ]
  },
  {
   "cell_type": "code",
   "execution_count": 5,
   "metadata": {},
   "outputs": [
    {
     "name": "stdout",
     "output_type": "stream",
     "text": [
      "0\n",
      "1\n",
      "2\n",
      "3\n",
      "4\n",
      "5\n"
     ]
    }
   ],
   "source": [
    "# range()\n",
    "for numero in range(6): #o ultimo numero não é impresso, para em 5\n",
    "    print(numero)"
   ]
  },
  {
   "cell_type": "code",
   "execution_count": 6,
   "metadata": {},
   "outputs": [
    {
     "name": "stdout",
     "output_type": "stream",
     "text": [
      "2\n",
      "3\n",
      "4\n",
      "5\n"
     ]
    }
   ],
   "source": [
    "# range()\n",
    "for numero in range(2, 6): #o ultimo numero não é impresso, para em 5\n",
    "    print(numero)"
   ]
  },
  {
   "cell_type": "code",
   "execution_count": 7,
   "metadata": {},
   "outputs": [
    {
     "name": "stdout",
     "output_type": "stream",
     "text": [
      "2\n",
      "4\n",
      "6\n",
      "8\n"
     ]
    }
   ],
   "source": [
    "# range()\n",
    "for numero in range(2, 10, 2):\n",
    "    print(numero)"
   ]
  },
  {
   "cell_type": "code",
   "execution_count": 8,
   "metadata": {},
   "outputs": [
    {
     "name": "stdout",
     "output_type": "stream",
     "text": [
      "Alice\n",
      "Bob\n",
      "Charlie\n"
     ]
    }
   ],
   "source": [
    "#zip\n",
    "nomes = [\"Alice\", \"Bob\", \"Charlie\"]\n",
    "idades = [25, 20, 35]\n",
    "for nome in nomes:\n",
    "    print(nome)\n"
   ]
  },
  {
   "cell_type": "code",
   "execution_count": 9,
   "metadata": {},
   "outputs": [
    {
     "name": "stdout",
     "output_type": "stream",
     "text": [
      "Meu nome é Alice e tenho 25 anos\n",
      "Meu nome é Bob e tenho 20 anos\n",
      "Meu nome é Charlie e tenho 35 anos\n"
     ]
    }
   ],
   "source": [
    "#zip\n",
    "nomes = [\"Alice\", \"Bob\", \"Charlie\"]\n",
    "idades = [25, 20, 35]\n",
    "for nome, idade in zip(nomes, idades):\n",
    "    print(f\"Meu nome é {nome} e tenho {idade} anos\")"
   ]
  },
  {
   "cell_type": "code",
   "execution_count": 10,
   "metadata": {},
   "outputs": [
    {
     "name": "stdout",
     "output_type": "stream",
     "text": [
      "('Alice', 25)\n",
      "('Bob', 20)\n",
      "('Charlie', 35)\n"
     ]
    }
   ],
   "source": [
    "#zip\n",
    "nomes = [\"Alice\", \"Bob\", \"Charlie\"]\n",
    "idades = [25, 20, 35]\n",
    "for nome in zip(nomes, idades):\n",
    "    print(nome)"
   ]
  },
  {
   "cell_type": "code",
   "execution_count": 3,
   "metadata": {},
   "outputs": [
    {
     "name": "stdout",
     "output_type": "stream",
     "text": [
      "Alice\n",
      "Bob\n",
      "Charlie\n"
     ]
    }
   ],
   "source": [
    "#zip\n",
    "nomes = [\"Alice\", \"Bob\", \"Charlie\"]\n",
    "idades = [25, 20, 35]\n",
    "for nome, idade in zip(nomes, idades):\n",
    "    print(nome)"
   ]
  },
  {
   "cell_type": "code",
   "execution_count": 4,
   "metadata": {},
   "outputs": [
    {
     "name": "stdout",
     "output_type": "stream",
     "text": [
      "Alice 25\n",
      "Bob 20\n",
      "Charlie 35\n"
     ]
    }
   ],
   "source": [
    "# Iterar um dicionário {key: value}\n",
    "pessoas = dict(zip(nomes, idades))\n",
    "\n",
    "for chave in pessoas:\n",
    "    print(chave, pessoas[chave])\n"
   ]
  },
  {
   "cell_type": "code",
   "execution_count": 5,
   "metadata": {},
   "outputs": [
    {
     "name": "stdout",
     "output_type": "stream",
     "text": [
      "Alice 25\n",
      "Bob 20\n",
      "Charlie 35\n"
     ]
    }
   ],
   "source": [
    "# Iterar um dicionário {key: value}\n",
    "pessoas = dict(zip(nomes, idades))\n",
    "\n",
    "for chave, valor in pessoas.items():\n",
    "    print(chave, valor)"
   ]
  },
  {
   "cell_type": "code",
   "execution_count": 6,
   "metadata": {},
   "outputs": [
    {
     "name": "stdout",
     "output_type": "stream",
     "text": [
      "('Alice', 25)\n",
      "('Bob', 20)\n",
      "('Charlie', 35)\n"
     ]
    }
   ],
   "source": [
    "# Iterar um dicionário {key: value}\n",
    "pessoas = dict(zip(nomes, idades))\n",
    "\n",
    "for chave in pessoas.items():\n",
    "    print(chave)"
   ]
  },
  {
   "cell_type": "code",
   "execution_count": 7,
   "metadata": {},
   "outputs": [
    {
     "name": "stdout",
     "output_type": "stream",
     "text": [
      "25\n",
      "20\n",
      "35\n"
     ]
    }
   ],
   "source": [
    "# Iterar um dicionário {key: value}\n",
    "pessoas = dict(zip(nomes, idades))\n",
    "\n",
    "for valor in pessoas.values():\n",
    "    print(valor)"
   ]
  },
  {
   "cell_type": "code",
   "execution_count": 16,
   "metadata": {},
   "outputs": [
    {
     "name": "stdout",
     "output_type": "stream",
     "text": [
      "Alice\n",
      "Bob\n",
      "Charlie\n"
     ]
    }
   ],
   "source": [
    "# Iterar um dicionário {key: value}\n",
    "pessoas = dict(zip(nomes, idades))\n",
    "\n",
    "for valor in pessoas.keys():\n",
    "    print(valor)"
   ]
  },
  {
   "cell_type": "code",
   "execution_count": 17,
   "metadata": {},
   "outputs": [
    {
     "name": "stdout",
     "output_type": "stream",
     "text": [
      "0\n",
      "1\n",
      "2\n"
     ]
    }
   ],
   "source": [
    "#len\n",
    "frutas = [\"maça\", \"banana\", \"laranja\"]\n",
    "\n",
    "for indice in range(len(frutas)):\n",
    "    print(indice)"
   ]
  },
  {
   "cell_type": "code",
   "execution_count": 18,
   "metadata": {},
   "outputs": [
    {
     "name": "stdout",
     "output_type": "stream",
     "text": [
      "(0, 'maça')\n",
      "(1, 'banana')\n",
      "(2, 'laranja')\n"
     ]
    }
   ],
   "source": [
    "#enumerate\n",
    "frutas = [\"maça\", \"banana\", \"laranja\"]\n",
    "\n",
    "for indice in enumerate(frutas):\n",
    "   print(indice)"
   ]
  },
  {
   "cell_type": "code",
   "execution_count": 19,
   "metadata": {},
   "outputs": [
    {
     "name": "stdout",
     "output_type": "stream",
     "text": [
      "0\n",
      "1\n",
      "1\n",
      "2\n",
      "3\n",
      "4\n",
      "4\n",
      "4\n",
      "5\n"
     ]
    }
   ],
   "source": [
    "#set - exemplo sem a função aplicada\n",
    "nums = [0, 1, 1, 2, 3, 4, 4, 4, 5]\n",
    "\n",
    "for num in nums:\n",
    "    print(num)\n"
   ]
  },
  {
   "cell_type": "code",
   "execution_count": 20,
   "metadata": {},
   "outputs": [
    {
     "name": "stdout",
     "output_type": "stream",
     "text": [
      "0\n",
      "1\n",
      "2\n",
      "3\n",
      "4\n",
      "5\n"
     ]
    }
   ],
   "source": [
    "#set\n",
    "nums = [0, 1, 1, 2, 3, 4, 4, 4, 5]\n",
    "\n",
    "for num in set(nums):\n",
    "    print(num)"
   ]
  },
  {
   "cell_type": "code",
   "execution_count": 21,
   "metadata": {},
   "outputs": [
    {
     "name": "stdout",
     "output_type": "stream",
     "text": [
      "0\n",
      "1\n",
      "2\n",
      "3\n",
      "4\n",
      "5\n"
     ]
    }
   ],
   "source": [
    "#set\n",
    "\n",
    "nums = {0, 1, 1, 2, 3, 4, 5}\n",
    "for num in nums:\n",
    "    print(num)"
   ]
  },
  {
   "cell_type": "markdown",
   "metadata": {},
   "source": [
    "# Mario\n",
    "\n",
    " ![Alt text](image.png)\n",
    "\n",
    " # Desafio: Fazer uma piramide do Mario com \"`#`\" e com input do usuário\n",
    "\n",
    " Exemplo de output:\n",
    "\n",
    "      #\n",
    "     ##\n",
    "    ###"
   ]
  },
  {
   "cell_type": "code",
   "execution_count": 22,
   "metadata": {},
   "outputs": [
    {
     "name": "stdout",
     "output_type": "stream",
     "text": [
      "    #\n",
      "   ##\n",
      "  ###\n",
      " ####\n",
      "#####\n"
     ]
    }
   ],
   "source": [
    "x = int(input(\"Tamanho piramide\"))\n",
    "for i in range(1, x + 1):\n",
    "    x -= 1\n",
    "    print(\" \" * x, end=\"\")\n",
    "    print(\"#\" * i)"
   ]
  },
  {
   "cell_type": "code",
   "execution_count": 8,
   "metadata": {},
   "outputs": [
    {
     "name": "stdout",
     "output_type": "stream",
     "text": [
      "    #\n",
      "   ##\n",
      "  ###\n",
      " ####\n",
      "#####\n"
     ]
    }
   ],
   "source": [
    "x = int(input(\"Tamanho piramide\"))\n",
    "for i in range(1, x + 1):\n",
    "    x -= 1\n",
    "    y = \" \" * x + \"#\" * i\n",
    "    print(y)"
   ]
  },
  {
   "cell_type": "markdown",
   "metadata": {},
   "source": [
    "# Mario\n",
    "\n",
    "![Alt text](image-6.png)\n",
    "\n",
    "# Desafio: Fazer uma piramide do Mario com \"`#`\" e com input do usuário\n",
    "\n",
    " Exemplo de output:\n",
    "\n",
    "      # #\n",
    "     ## ##\n",
    "    ### ###"
   ]
  },
  {
   "cell_type": "code",
   "execution_count": 25,
   "metadata": {},
   "outputs": [
    {
     "name": "stdout",
     "output_type": "stream",
     "text": [
      "         # #         \n",
      "        ## ##        \n",
      "       ### ###       \n",
      "      #### ####      \n",
      "     ##### #####     \n",
      "    ###### ######    \n",
      "   ####### #######   \n",
      "  ######## ########  \n",
      " ######### ######### \n",
      "########## ##########\n"
     ]
    }
   ],
   "source": [
    "x = int(input(\"Tamanho piramide\"))\n",
    "for i in range(1, x + 1):\n",
    "    x -= 1\n",
    "    print(\" \" * x, end=\"\")\n",
    "    print(\"#\" * i, end=\"\")\n",
    "    print(\" \", end=\"\")\n",
    "    print(\"#\" * i, end=\"\")\n",
    "    print(\" \" * x)\n"
   ]
  }
 ],
 "metadata": {
  "kernelspec": {
   "display_name": "Python 3",
   "language": "python",
   "name": "python3"
  },
  "language_info": {
   "codemirror_mode": {
    "name": "ipython",
    "version": 3
   },
   "file_extension": ".py",
   "mimetype": "text/x-python",
   "name": "python",
   "nbconvert_exporter": "python",
   "pygments_lexer": "ipython3",
   "version": "3.11.5"
  }
 },
 "nbformat": 4,
 "nbformat_minor": 2
}
