{
 "cells": [
  {
   "cell_type": "markdown",
   "metadata": {},
   "source": [
    "### Fala devs, blz?? \n",
    "\n",
    "Esta será nossa quarta lista de exercícios para você testar seu conhecimento acerca do conteúdo do MÓDULO 2:\n",
    "\n",
    "-Introdução a bibliotecas \n",
    "\n",
    "-Numpy\n"
   ]
  },
  {
   "cell_type": "markdown",
   "metadata": {},
   "source": [
    "## INSTRUÇÕES:\n",
    "\n",
    "A lista deve ser realizada pelo Jupyter Notebook.\n",
    "\n",
    "Nâo é necessário entregar a lista para afins de certificado dentro da plataforma, entretanto para alunos da USP que queiram participar do processo seletivo ou conseguir créditos AAC (apenas FEANOS) é necessária a entrega de TODAS as listas.\n",
    "\n",
    "A entrega das listas ou pelo menos sua excecução é recomendada a fim de exercitar todo o conhecimento adquirido do curso.\n",
    "\n",
    "O DESAFIO é para realmente te desafiar, por isso não desista de tentar e de continuar com o curso, ao longo das listas você verá que cada vez mais você terá ferramentas para completá-lo.\n",
    "\n",
    "Caso haja alguma dúvida acerca da lista participe das monitorias que serão oferecidas as quintas e sábados das 17h as 18h pelo DISCORD. Caso seu problema não seje resolvido envie uma mensagem para contato.feadev@gmail.com\n",
    "\n",
    "O gabarito será disponibilizado na plataforma após o término de periodo de envio\n",
    "\n"
   ]
  },
  {
   "cell_type": "markdown",
   "metadata": {},
   "source": [
    "## QUESTÃO 0"
   ]
  },
  {
   "cell_type": "markdown",
   "metadata": {},
   "source": [
    "**Simulação de um Cassino**\n",
    "\n",
    "Você está desenvolvendo um programa de simulação de cassino em Python. Importe a biblioteca random para criar uma função que simule um jogo de roleta. A função deve retornar o número onde a bola da roleta parou.\n",
    "#Numeros de 0 a 36 representando a rolera"
   ]
  },
  {
   "cell_type": "code",
   "execution_count": 3,
   "metadata": {},
   "outputs": [
    {
     "data": {
      "text/plain": [
       "14"
      ]
     },
     "execution_count": 3,
     "metadata": {},
     "output_type": "execute_result"
    }
   ],
   "source": [
    "from random import randint\n",
    "\n",
    "def sorteio_da_roleta():\n",
    "    sorteado = randint(0,36)\n",
    "    return sorteado\n",
    "\n",
    "sorteio_da_roleta()"
   ]
  },
  {
   "cell_type": "markdown",
   "metadata": {},
   "source": [
    "Além disso, adicione um jogo de cartas ao seu cassino. Crie uma função chamada simular_jogo_de_cartas() que simule um jogo de cartas, como blackjack. A função deve retornar um valor aleatório representando a pontuação do jogador no jogo de cartas, que pode ser de 1 a 21."
   ]
  },
  {
   "cell_type": "code",
   "execution_count": 6,
   "metadata": {},
   "outputs": [
    {
     "data": {
      "text/plain": [
       "11"
      ]
     },
     "execution_count": 6,
     "metadata": {},
     "output_type": "execute_result"
    }
   ],
   "source": [
    "from random import randint\n",
    "\n",
    "def simular_jogo_de_cartas():\n",
    "    sorteado = randint(1,21)\n",
    "    return sorteado\n",
    "\n",
    "simular_jogo_de_cartas()"
   ]
  },
  {
   "cell_type": "markdown",
   "metadata": {},
   "source": [
    "## QUESTÃO 1\n"
   ]
  },
  {
   "cell_type": "markdown",
   "metadata": {},
   "source": [
    "O verão está chegando e você já quer colocar uma caixa d´água na sua casa para usar como piscina. Na loja de materiais de construção, o atendente informa que as caixas são vendidas em relação a área que a comporta, Sabendo que você tem um espaço para uma piscina de 5 metros de raio, calcule a área do círculo, e descubra qual caixa comprar. \n",
    "\n",
    "Lembre-se de que a fórmula para calcular a área de um círculo é A = π * r^2."
   ]
  },
  {
   "cell_type": "code",
   "execution_count": 1,
   "metadata": {},
   "outputs": [
    {
     "name": "stdout",
     "output_type": "stream",
     "text": [
      "Sua caixa ideal é: 78.54\n"
     ]
    }
   ],
   "source": [
    "import math\n",
    "\n",
    "pi = math.pi\n",
    "r = 5\n",
    "\n",
    "area = pi*(pow(r,2))\n",
    "\n",
    "print(f\"Sua caixa ideal é: {area:.2f}\")"
   ]
  },
  {
   "cell_type": "markdown",
   "metadata": {},
   "source": [
    "## QUESTÃO 2\n",
    "\n"
   ]
  },
  {
   "cell_type": "markdown",
   "metadata": {},
   "source": [
    "Duvido você fazer um código que tenha como OUTPUT a data exata que você está fazendo essa questão. Vamos descobrir se você é do tipo de pessoa que aproveita o dia para fazer as tarefas ou madruga para completa-las"
   ]
  },
  {
   "cell_type": "code",
   "execution_count": 18,
   "metadata": {},
   "outputs": [
    {
     "name": "stdout",
     "output_type": "stream",
     "text": [
      "2023-10-26 17:38:11.541813\n"
     ]
    }
   ],
   "source": [
    "from datetime import datetime\n",
    "\n",
    "atual = datetime.now()\n",
    "\n",
    "print(atual)"
   ]
  },
  {
   "cell_type": "markdown",
   "metadata": {},
   "source": [
    "## QUESTÃO 3"
   ]
  },
  {
   "cell_type": "markdown",
   "metadata": {},
   "source": [
    "Você está fazendo uma rifa beneficiente para ajudar uma instituição de caridade do bairro. Está na hora de sortear quem é o grande vencedor de uma ALEXA 3º geração.\n",
    "\n",
    "Instruções:\n",
    "\n",
    "lista de nomes: nomes = [\"Alice\", \"Bob\", \"Carlos\", \"Diana\", \"Eva\",\"Henrique\", \"Isadora\", \"Leandro\", \"Patricia\",\"Julia\", \"Alex\"].\n",
    "\n",
    "Importe a biblioteca random.\n",
    "\n",
    "Use random.choice() para escolher aleatoriamente um nome da lista.\n",
    "\n",
    "Exiba o nome escolhido na tela."
   ]
  },
  {
   "cell_type": "code",
   "execution_count": 25,
   "metadata": {},
   "outputs": [
    {
     "name": "stdout",
     "output_type": "stream",
     "text": [
      "O Ganhador é: Carlos\n"
     ]
    }
   ],
   "source": [
    "from random import choice\n",
    "\n",
    "nomes = [\"Alice\", \"Bob\", \"Carlos\", \"Diana\", \"Eva\",\"Henrique\", \"Isadora\", \"Leandro\", \"Patricia\",\"Julia\", \"Alex\"]\n",
    "ganhador = choice(nomes)\n",
    "\n",
    "print(f\"O Ganhador é: {ganhador}\")"
   ]
  },
  {
   "cell_type": "markdown",
   "metadata": {},
   "source": [
    "## QUESTÃO 4"
   ]
  },
  {
   "cell_type": "markdown",
   "metadata": {},
   "source": [
    "Os Módulos 6 e 7 abordarão Pandas, entretanto vamos aquecer!!!\n",
    "Use o Pandas para ler os dados do arquivo CSV que está anexado à lista e criar um DataFrame. (Arquivo: books2019.csv)\n",
    "Além disso, vizualize somente as 5 primeiras linhas."
   ]
  },
  {
   "cell_type": "code",
   "execution_count": 6,
   "metadata": {},
   "outputs": [
    {
     "ename": "AttributeError",
     "evalue": "'DataFrame' object has no attribute 'show'",
     "output_type": "error",
     "traceback": [
      "\u001b[1;31m---------------------------------------------------------------------------\u001b[0m",
      "\u001b[1;31mAttributeError\u001b[0m                            Traceback (most recent call last)",
      "\u001b[1;32m~\\AppData\\Local\\Temp\\ipykernel_792\\3414157061.py\u001b[0m in \u001b[0;36m?\u001b[1;34m()\u001b[0m\n\u001b[0;32m      1\u001b[0m \u001b[1;32mimport\u001b[0m \u001b[0mpandas\u001b[0m \u001b[1;32mas\u001b[0m \u001b[0mpd\u001b[0m\u001b[1;33m\u001b[0m\u001b[1;33m\u001b[0m\u001b[0m\n\u001b[0;32m      2\u001b[0m \u001b[1;33m\u001b[0m\u001b[0m\n\u001b[0;32m      3\u001b[0m \u001b[0mtabela\u001b[0m \u001b[1;33m=\u001b[0m \u001b[0mpd\u001b[0m\u001b[1;33m.\u001b[0m\u001b[0mread_csv\u001b[0m\u001b[1;33m(\u001b[0m\u001b[1;34m\"books2019.csv\"\u001b[0m\u001b[1;33m,\u001b[0m \u001b[0msep\u001b[0m \u001b[1;33m=\u001b[0m \u001b[1;34m\",\"\u001b[0m\u001b[1;33m)\u001b[0m\u001b[1;33m\u001b[0m\u001b[1;33m\u001b[0m\u001b[0m\n\u001b[1;32m----> 4\u001b[1;33m \u001b[0mtabela\u001b[0m\u001b[1;33m.\u001b[0m\u001b[0mshow\u001b[0m\u001b[1;33m(\u001b[0m\u001b[1;33m)\u001b[0m\u001b[1;33m\u001b[0m\u001b[1;33m\u001b[0m\u001b[0m\n\u001b[0m",
      "\u001b[1;32mc:\\Program Files\\Python312\\Lib\\site-packages\\pandas\\core\\generic.py\u001b[0m in \u001b[0;36m?\u001b[1;34m(self, name)\u001b[0m\n\u001b[0;32m   6200\u001b[0m             \u001b[1;32mand\u001b[0m \u001b[0mname\u001b[0m \u001b[1;32mnot\u001b[0m \u001b[1;32min\u001b[0m \u001b[0mself\u001b[0m\u001b[1;33m.\u001b[0m\u001b[0m_accessors\u001b[0m\u001b[1;33m\u001b[0m\u001b[1;33m\u001b[0m\u001b[0m\n\u001b[0;32m   6201\u001b[0m             \u001b[1;32mand\u001b[0m \u001b[0mself\u001b[0m\u001b[1;33m.\u001b[0m\u001b[0m_info_axis\u001b[0m\u001b[1;33m.\u001b[0m\u001b[0m_can_hold_identifiers_and_holds_name\u001b[0m\u001b[1;33m(\u001b[0m\u001b[0mname\u001b[0m\u001b[1;33m)\u001b[0m\u001b[1;33m\u001b[0m\u001b[1;33m\u001b[0m\u001b[0m\n\u001b[0;32m   6202\u001b[0m         \u001b[1;33m)\u001b[0m\u001b[1;33m:\u001b[0m\u001b[1;33m\u001b[0m\u001b[1;33m\u001b[0m\u001b[0m\n\u001b[0;32m   6203\u001b[0m             \u001b[1;32mreturn\u001b[0m \u001b[0mself\u001b[0m\u001b[1;33m[\u001b[0m\u001b[0mname\u001b[0m\u001b[1;33m]\u001b[0m\u001b[1;33m\u001b[0m\u001b[1;33m\u001b[0m\u001b[0m\n\u001b[1;32m-> 6204\u001b[1;33m         \u001b[1;32mreturn\u001b[0m \u001b[0mobject\u001b[0m\u001b[1;33m.\u001b[0m\u001b[0m__getattribute__\u001b[0m\u001b[1;33m(\u001b[0m\u001b[0mself\u001b[0m\u001b[1;33m,\u001b[0m \u001b[0mname\u001b[0m\u001b[1;33m)\u001b[0m\u001b[1;33m\u001b[0m\u001b[1;33m\u001b[0m\u001b[0m\n\u001b[0m",
      "\u001b[1;31mAttributeError\u001b[0m: 'DataFrame' object has no attribute 'show'"
     ]
    }
   ],
   "source": [
    "import pandas as pd\n",
    "\n",
    "tabela = pd.read_csv(\"books2019.csv\", sep = \",\")\n",
    "tabela.show()"
   ]
  },
  {
   "cell_type": "markdown",
   "metadata": {},
   "source": [
    "## QUESTÃO 5"
   ]
  },
  {
   "cell_type": "markdown",
   "metadata": {},
   "source": [
    "**Numpy**"
   ]
  },
  {
   "cell_type": "markdown",
   "metadata": {},
   "source": [
    "a) Crie um array NumPy que contenha os números inteiros de 1 a 10."
   ]
  },
  {
   "cell_type": "code",
   "execution_count": 10,
   "metadata": {},
   "outputs": [
    {
     "name": "stdout",
     "output_type": "stream",
     "text": [
      "[0 1 2 3 4 5 6 7 8 9]\n",
      "<class 'numpy.ndarray'>\n"
     ]
    }
   ],
   "source": [
    "import numpy as np\n",
    "\n",
    "array_NumPy = np.array([x for x in range(10)])\n",
    "print(array_NumPy)\n",
    "print(type(array_NumPy))"
   ]
  },
  {
   "cell_type": "markdown",
   "metadata": {},
   "source": [
    "b)Realize operações matemáticas simples com dois arrays NumPy (1 a 5) (6 a 10) como adição, subtração, multiplicação e divisão."
   ]
  },
  {
   "cell_type": "code",
   "execution_count": 30,
   "metadata": {},
   "outputs": [
    {
     "name": "stdout",
     "output_type": "stream",
     "text": [
      "O Array 1 é: [1 2 3 4 5]\n",
      "O Array 2 é: [ 6  7  8  9 10]\n",
      "A SOMA A + B = [ 7  9 11 13 15]\n",
      "A Subtração A - B = [-5 -5 -5 -5 -5]\n",
      "A Divisão A / B = [0.16666667 0.28571429 0.375      0.44444444 0.5       ]\n",
      "A Multiplicação A * B = [ 6 14 24 36 50]\n"
     ]
    }
   ],
   "source": [
    "a = np.array([1,2,3,4,5])\n",
    "b = np.array([6,7,8,9,10])\n",
    "print (f\"O Array 1 é: {a}\")\n",
    "print (f\"O Array 2 é: {b}\")\n",
    "\n",
    "print(f\"A SOMA A + B = {a+b}\")\n",
    "print(f\"A Subtração A - B = {a-b}\")\n",
    "print(f\"A Divisão A / B = {a/b}\")\n",
    "print(f\"A Multiplicação A * B = {a*b}\")"
   ]
  },
  {
   "cell_type": "markdown",
   "metadata": {},
   "source": [
    "## QUESTÃO 6"
   ]
  },
  {
   "cell_type": "markdown",
   "metadata": {},
   "source": [
    "Você é um professor e deseja avaliar o desempenho dos alunos nas provas de matemática e ciências naturais da semana. Crie duas matrizes NumPy, uma representando as notas dos alunos em Matemática e outra em Ciências, e calcule a média de cada disciplina."
   ]
  },
  {
   "cell_type": "code",
   "execution_count": 32,
   "metadata": {},
   "outputs": [
    {
     "name": "stdout",
     "output_type": "stream",
     "text": [
      "A média de Matemática é: 7.8\n",
      "A média de Matemática é: 8.8\n"
     ]
    }
   ],
   "source": [
    "# Notas dos alunos em Matemática: 8.5, 7.2, 9.0, 6.8, 7.5\n",
    "# Notas dos alunos em Ciências: 9.2, 8.9, 7.8, 8.6, 9.5\n",
    "\n",
    "notas_mat = np.array([8.5, 7.2, 9.0, 6.8, 7.5])\n",
    "notas_cien = np.array([9.2, 8.9, 7.8, 8.6, 9.5])\n",
    "\n",
    "# o Metodo MEAN() é o responsável por calcular MÉDIA\n",
    "print(f\"A média de Matemática é: {notas_mat.mean()}\")\n",
    "print(f\"A média de Matemática é: {notas_cien.mean()}\")\n"
   ]
  },
  {
   "cell_type": "markdown",
   "metadata": {},
   "source": [
    "### DESAFIO"
   ]
  },
  {
   "cell_type": "markdown",
   "metadata": {},
   "source": [
    "Você está organizando um evento e deseja criar um gráfico visual para mostrar a quantidade de ingressos vendidos para cada categoria. Use o Matplotlib para criar um gráfico de barras simples.\n",
    "\n",
    "Instruções:\n",
    "\n",
    "Importe a biblioteca Matplotlib.\n",
    "\n",
    "Crie duas listas: uma representando as categorias de ingressos e outra representando a quantidade de ingressos vendidos em cada categoria. "
   ]
  },
  {
   "cell_type": "code",
   "execution_count": 33,
   "metadata": {},
   "outputs": [],
   "source": [
    "# categorias: VIP, Pista, Camarote, Mezanino\n",
    "# ingressos vendidos por categoria respectivamente: 120, 250, 80, 40\n",
    "\n",
    "categorias = [\"VIP\", \"Pista\", \"Camarote\", \"Mezanino\"]\n",
    "ingressos_vendidos = [120, 250, 80, 40]"
   ]
  },
  {
   "cell_type": "markdown",
   "metadata": {},
   "source": [
    "Agora \n",
    "\n",
    "Crie um gráfico de barras usando a função bar() do Matplotlib para exibir as categorias no eixo x e a quantidade de ingressos vendidos no eixo y.\n",
    "\n",
    "Adicione rótulos ao eixo x e y usando xlabel() e ylabel().\n",
    "\n",
    "Defina um título para o gráfico usando title().\n",
    "\n",
    "Exiba o gráfico usando show()"
   ]
  },
  {
   "cell_type": "code",
   "execution_count": 37,
   "metadata": {},
   "outputs": [
    {
     "data": {
      "image/png": "[encoded data removed]",
      "text/plain": [
       "<Figure size 640x480 with 1 Axes>"
      ]
     },
     "metadata": {},
     "output_type": "display_data"
    }
   ],
   "source": [
    "import matplotlib as mpl\n",
    "import matplotlib.pyplot as plt\n",
    "\n",
    "categorias = [\"VIP\", \"Pista\", \"Camarote\", \"Mezanino\"]\n",
    "ingressos_vendidos = [120, 250, 80, 40]\n",
    "\n",
    "plt.bar(categorias, ingressos_vendidos)\n",
    "plt.xlabel(\"Categoria\")\n",
    "plt.ylabel(\"Quant. Vendida\")\n",
    "plt.title(\"Venda de Ingressos!\")\n",
    "plt.show()\n",
    "\n"
   ]
  }
 ],
 "metadata": {
  "kernelspec": {
   "display_name": "Python 3 (ipykernel)",
   "language": "python",
   "name": "python3"
  },
  "language_info": {
   "codemirror_mode": {
    "name": "ipython",
    "version": 3
   },
   "file_extension": ".py",
   "mimetype": "text/x-python",
   "name": "python",
   "nbconvert_exporter": "python",
   "pygments_lexer": "ipython3",
   "version": "3.12.0"
  }
 },
 "nbformat": 4,
 "nbformat_minor": 2
}
