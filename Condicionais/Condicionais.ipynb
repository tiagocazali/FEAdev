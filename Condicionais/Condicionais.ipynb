{
 "cells": [
  {
   "cell_type": "markdown",
   "metadata": {},
   "source": [
    "# CONDICIONAIS\n",
    "\n",
    "Nessa aula iremos:\n",
    "\n",
    "1. Compreender a importância das condicionais para a programação//\n",
    "2. Entender como funcionam as condicionais\n",
    "3. Ver operadores aritméticos (+;-;*;/;//;%;**)\n",
    "4. Operadores de comparação (>;>=;<;<=;==;!=)\n",
    "5. Operadores lógicos (and, or, not)\n",
    "6. Operadores de identidade (is, is not)\n",
    "7. Operadores de associação (in, not in)\n",
    "8. Como usar condicionais com comandos if, elif, else\n",
    "9. Ver exemplos e exercício"
   ]
  },
  {
   "cell_type": "markdown",
   "metadata": {},
   "source": [
    "1. Importancia das condicionais\n",
    "\n",
    "As condicionais estão entrelaçadas com a lógica da programação, pois você executa comandos a partir de condições que são atribuídas de acordo com variáveis estabelecidas.\n",
    "\n",
    "Exemplo:"
   ]
  },
  {
   "cell_type": "code",
   "execution_count": 45,
   "metadata": {},
   "outputs": [],
   "source": [
    "#float\n",
    "\n",
    "idade = float(input(f'digite sua idade'))\n",
    "if idade >= 18:\n",
    " print('você é maior de idade')\n",
    "else:\n",
    " print('você é menor de idade')"
   ]
  },
  {
   "cell_type": "code",
   "execution_count": null,
   "metadata": {},
   "outputs": [
    {
     "name": "stdout",
     "output_type": "stream",
     "text": [
      "acesso liberado\n"
     ]
    }
   ],
   "source": [
    "#string\n",
    "\n",
    "senha= 'FeaTop123'\n",
    "senha2 = input(f'digite sua senha')\n",
    "if senha2 == senha:\n",
    "    print('acesso liberado')\n",
    "else:\n",
    "    print('acesso negado')\n"
   ]
  },
  {
   "cell_type": "code",
   "execution_count": null,
   "metadata": {},
   "outputs": [
    {
     "name": "stdout",
     "output_type": "stream",
     "text": [
      "sou boçal\n"
     ]
    }
   ],
   "source": [
    "#boleano\n",
    "\n",
    "CurtoPrograma = True\n",
    "#CurtoPrograma = False\n",
    "\n",
    "if CurtoPrograma:\n",
    "    print('sou descolado')\n",
    "else:\n",
    "    print('sou boçal')"
   ]
  },
  {
   "cell_type": "markdown",
   "metadata": {},
   "source": [
    "2. Como funcionam as condicionais\n",
    "\n",
    "É intuitivo, você pode pensar pelo português\n",
    "\n",
    "![Alt text](image.jpg)"
   ]
  },
  {
   "cell_type": "code",
   "execution_count": null,
   "metadata": {},
   "outputs": [
    {
     "name": "stdout",
     "output_type": "stream",
     "text": [
      "0\n"
     ]
    }
   ],
   "source": [
    "Estouemcasa = True\n",
    "CaixaPostal = 0\n",
    "\n",
    "if Estouemcasa == False:\n",
    "    CaixaPostal == CaixaPostal + 1\n",
    "print(CaixaPostal)"
   ]
  },
  {
   "cell_type": "code",
   "execution_count": null,
   "metadata": {},
   "outputs": [
    {
     "name": "stdout",
     "output_type": "stream",
     "text": [
      "1\n"
     ]
    }
   ],
   "source": [
    "Estouemcasa = False\n",
    "CaixaPostal = 0\n",
    "\n",
    "if Estouemcasa == False:\n",
    "    CaixaPostal = CaixaPostal + 1\n",
    "print(CaixaPostal)"
   ]
  },
  {
   "cell_type": "markdown",
   "metadata": {},
   "source": [
    "Você tem uma condicão, que seria como a oração subordinada condicional, e um comando ou bloco de comandos a serem executados caso aquela condição seja verdadeira, o que seria a oração principal. Além disso, você pode deixar comandos/blocos caso aquela condição seja False. O computaor vai verificar se a primeira condição é \"True\" e executar os comandos que estiverem identados dentro dela, senão, vai passar adiante, e, possivelmente, verificar outras condições que voccê estabelecer e executar outros comandos.\n",
    "\n",
    "![Alt text](image-0.png)"
   ]
  },
  {
   "cell_type": "markdown",
   "metadata": {},
   "source": [
    "3. Operadores aritméticos\n",
    "\n",
    "Soma -> +\n",
    "Subtração -> -\n",
    "Multiplicação -> +\n",
    "Divisão -> /\n",
    "Divisão inteira -> //\n",
    "Resto da divisão inteira -> %\n",
    "Potencialização -> **"
   ]
  },
  {
   "cell_type": "code",
   "execution_count": null,
   "metadata": {},
   "outputs": [
    {
     "name": "stdout",
     "output_type": "stream",
     "text": [
      "9\n",
      "4\n",
      "2\n",
      "27\n",
      "2.0\n"
     ]
    }
   ],
   "source": [
    "Multiplicacao = 3*3\n",
    "DiviInt= 30//7\n",
    "Resto= 30%7\n",
    "Potencia= 3**3\n",
    "Radiciacao= 4**(1/2)\n",
    "print(Multiplicacao)\n",
    "print(DiviInt)\n",
    "print(Resto)\n",
    "print(Potencia)\n",
    "print(Radiciacao)"
   ]
  },
  {
   "cell_type": "markdown",
   "metadata": {},
   "source": [
    "4. Operadores comparativos:\n",
    "\n",
    "Maior: >\n",
    "Menor: <\n",
    "Maior ou igual: >=\n",
    "Menor ou igual: <=\n",
    "Igual: ==\n",
    "Não igual: !=\n",
    "\n",
    "5. Operadores lógicos\n",
    "\n",
    "Or: ou(inclusivo, um, o outro ou os 2)\n",
    "And: E(tem que ser os dois) Not: negação(inverte o valor lógico de uma expressão)\n",
    "\n",
    "Or: União dos conjuntos\n",
    "\n",
    "![Alt text](image-1.png)\n",
    "\n",
    "And: Intersecção dos conjuntos\n",
    "\n",
    "![Alt text](image-2.png)\n",
    "\n",
    "Exemplo: Vamos selecionar o conjunto de pontos do plano cartesiano que englobam um quadrado de vértices A(0, 0); B (1, 0); C(1, 1); D(0, 1) de dois jeitos\n",
    "\n",
    "![Alt text](image-3.png)"
   ]
  },
  {
   "cell_type": "markdown",
   "metadata": {},
   "source": [
    "Usando o And"
   ]
  },
  {
   "cell_type": "code",
   "execution_count": null,
   "metadata": {},
   "outputs": [
    {
     "ename": "NameError",
     "evalue": "name 'X' is not defined",
     "output_type": "error",
     "traceback": [
      "\u001b[1;31m---------------------------------------------------------------------------\u001b[0m",
      "\u001b[1;31mNameError\u001b[0m                                 Traceback (most recent call last)",
      "\u001b[1;32mc:\\Users\\alisson.conde\\Dropbox\\Curso Python Fea.dev\\Modulo 3\\Condicionais.ipynb Cell 14\u001b[0m line \u001b[0;36m1\n\u001b[1;32m----> <a href='vscode-notebook-cell:/c%3A/Users/alisson.conde/Dropbox/Curso%20Python%20Fea.dev/Modulo%203/Condicionais.ipynb#X16sZmlsZQ%3D%3D?line=0'>1</a>\u001b[0m (\u001b[39m0\u001b[39m\u001b[39m<\u001b[39m\u001b[39m=\u001b[39mX) \u001b[39mand\u001b[39;00m (X\u001b[39m<\u001b[39m\u001b[39m=\u001b[39m\u001b[39m1\u001b[39m) \u001b[39mand\u001b[39;00m (\u001b[39m0\u001b[39m\u001b[39m<\u001b[39m\u001b[39m=\u001b[39mY) \u001b[39mand\u001b[39;00m (Y\u001b[39m<\u001b[39m\u001b[39m=\u001b[39m\u001b[39m1\u001b[39m)\n",
      "\u001b[1;31mNameError\u001b[0m: name 'X' is not defined"
     ]
    }
   ],
   "source": [
    "(0<=X) and (X<=1) and (0<=Y) and (Y<=1)"
   ]
  },
  {
   "cell_type": "markdown",
   "metadata": {},
   "source": [
    "Usando o Or e o And"
   ]
  },
  {
   "cell_type": "code",
   "execution_count": null,
   "metadata": {},
   "outputs": [
    {
     "ename": "NameError",
     "evalue": "name 'X' is not defined",
     "output_type": "error",
     "traceback": [
      "\u001b[1;31m---------------------------------------------------------------------------\u001b[0m",
      "\u001b[1;31mNameError\u001b[0m                                 Traceback (most recent call last)",
      "\u001b[1;32mc:\\Users\\alisson.conde\\Dropbox\\Curso Python Fea.dev\\Modulo 3\\Condicionais.ipynb Cell 16\u001b[0m line \u001b[0;36m1\n\u001b[1;32m----> <a href='vscode-notebook-cell:/c%3A/Users/alisson.conde/Dropbox/Curso%20Python%20Fea.dev/Modulo%203/Condicionais.ipynb#X21sZmlsZQ%3D%3D?line=0'>1</a>\u001b[0m \u001b[39mnot\u001b[39;00m ((X\u001b[39m<\u001b[39m\u001b[39m0\u001b[39m) \u001b[39mor\u001b[39;00m (X\u001b[39m>\u001b[39m\u001b[39m1\u001b[39m) \u001b[39mor\u001b[39;00m (Y\u001b[39m<\u001b[39m\u001b[39m0\u001b[39m) \u001b[39mor\u001b[39;00m (Y\u001b[39m>\u001b[39m\u001b[39m1\u001b[39m))\n",
      "\u001b[1;31mNameError\u001b[0m: name 'X' is not defined"
     ]
    }
   ],
   "source": [
    "not ((X<0) or (X>1) or (Y<0) or (Y>1))"
   ]
  },
  {
   "cell_type": "markdown",
   "metadata": {},
   "source": [
    "6. Operadores de associação (in, not in)\n",
    "\n",
    "Os operadores de associação servem para para trabalhar com um conjunto de informações, como listas, tuplas, dicionários e até strings. Eles verificam se uma variável está, ou não está em determinada sequência de valores.\n",
    "\n",
    "7. Operadores de identidade(is, is not)\n",
    "\n",
    "Os operadores deidentidade servem para verificar se 2 objetos tem a mesma identidade, ou seja, se ocupam o mesmo espaço de memória\n",
    "\n",
    "8. Uso do if, elif e else\n",
    "\n",
    "Essas funções são a forma como as condicionais são espressas/escritas no Python. Ao usar o if, você atribui uma condição \"if(condição) e depois comandos a serem executados caso a condição seja verdadeira. O modo de escrever o if no código é assim:"
   ]
  },
  {
   "cell_type": "code",
   "execution_count": null,
   "metadata": {},
   "outputs": [
    {
     "ename": "SyntaxError",
     "evalue": "invalid syntax (2046552286.py, line 2)",
     "output_type": "error",
     "traceback": [
      "\u001b[1;36m  Cell \u001b[1;32mIn[4], line 2\u001b[1;36m\u001b[0m\n\u001b[1;33m    comando 1\u001b[0m\n\u001b[1;37m            ^\u001b[0m\n\u001b[1;31mSyntaxError\u001b[0m\u001b[1;31m:\u001b[0m invalid syntax\n"
     ]
    }
   ],
   "source": [
    "if(condição):\n",
    "    comando 1\n",
    "    comando 2\n",
    "    ...\n",
    "continuação do código"
   ]
  },
  {
   "cell_type": "markdown",
   "metadata": {},
   "source": [
    "O elif pode ser visto como uma continuação do código caso aquelas condição não seja verdadeira, ou seja, você atribui outra condição, que não aquela, e o computador verifica se é veradeira e executa os comandos desejados. É possível usar mais de 1 elif, seguindo a lógica.\n",
    "A estrutura do elif é assim:"
   ]
  },
  {
   "cell_type": "code",
   "execution_count": null,
   "metadata": {},
   "outputs": [],
   "source": [
    "elif(condição):\n",
    "    comando 1\n",
    "    comando 2\n",
    "    ...\n",
    "continuação do código"
   ]
  },
  {
   "cell_type": "markdown",
   "metadata": {},
   "source": [
    "Já o else, também é opcional, mas diferente do elif, ele engloba tudo que não seja as condições antes estabelecidas pelo if e pelo elif, e executa os comandos desejados nos casos em que as outras condições não sejam verdadeiras. É possível usar o else só com o if ou com algum/vários elif. A estrutura do else é assim:"
   ]
  },
  {
   "cell_type": "code",
   "execution_count": null,
   "metadata": {},
   "outputs": [],
   "source": [
    "else:\n",
    "    comando 1\n",
    "    comando 2\n",
    "    ...\n",
    "continuação do código"
   ]
  },
  {
   "cell_type": "markdown",
   "metadata": {},
   "source": [
    "![Alt text](if-elif-else.webp)\n",
    "\n",
    "É possível pensar no if, elif e else como conjuntos em um espaço amostral. O if é um conjunto, o(s) elif(s) outros, e o else é o conjunto complementar da soma dos conjuntos do if e elif(s) no espaço amostral.\n",
    "\n",
    "![Alt text](image-4.png)\n",
    "\n"
   ]
  },
  {
   "cell_type": "markdown",
   "metadata": {},
   "source": [
    "9. Exemplos/exercícios\n",
    "\n",
    "Exemplo:O usuário vai digitar três números a, b e c; Precisamos imprimir os números em ordem decrescente. Como escrever o código? (lembrar do uso do float(input())\n",
    "\n",
    "1º: Escreva o código uando apenasum operador de comparação por condição estabelecida\n",
    "2º: Escreva o código livremente\n",
    "\n",
    "(dica: há seis situações possíveis)"
   ]
  },
  {
   "cell_type": "code",
   "execution_count": null,
   "metadata": {},
   "outputs": [
    {
     "name": "stdout",
     "output_type": "stream",
     "text": [
      "55.2 >= 55.0 >= 12.0\n"
     ]
    }
   ],
   "source": [
    "#as situações são:\n",
    "#1. a >= b >= c\n",
    "#2. a >= c >= b\n",
    "#3. b >= a >= c\n",
    "#4. b >= c >= a\n",
    "#5. c >= b >= a\n",
    "#6. c >= a >= b\n",
    "\n",
    "a = float(input(f'digite um número'))\n",
    "b = float(input(f'digite outro número'))\n",
    "c = float(input(f'digite mais um número'))\n",
    "\n",
    "if a >= b:\n",
    "    if b >= c:\n",
    "        print(f\"{a} >= {b} >= {c}\")\n",
    "    elif a >= c:\n",
    "        print(f\"{a} >= {c} >= {b}\")\n",
    "    else:\n",
    "        print(f\"{c} >= {a} >= {b}\")\n",
    "else:\n",
    "    if a >= c:\n",
    "        print(f\"{b} >= {a} >= {c}\")\n",
    "    elif b >= c:\n",
    "        print(f\"{b} >= {c} >= {a}\")\n",
    "    else:\n",
    "        print(f\"{c} >= {b} >= {a}\")"
   ]
  },
  {
   "cell_type": "code",
   "execution_count": null,
   "metadata": {},
   "outputs": [
    {
     "name": "stdout",
     "output_type": "stream",
     "text": [
      "27.0 8.0 1.0\n"
     ]
    }
   ],
   "source": [
    "#Livremente\n",
    "\n",
    "a = float(input(f'digite um número'))\n",
    "b = float(input(f'digite outro número'))\n",
    "c = float(input(f'digite mais um número'))\n",
    "\n",
    "if a >= b >= c:\n",
    "    print(a, b, c)\n",
    "elif a >= c >= b:\n",
    "    print(a, c, c)\n",
    "elif b >= a >= c:\n",
    "    print(b, a, c)\n",
    "elif b >= c >= a:\n",
    "    print(b, c, a)\n",
    "elif c >= a >= b:\n",
    "    print(c, a, b)\n",
    "else:\n",
    "    print(c, b, a)"
   ]
  },
  {
   "cell_type": "markdown",
   "metadata": {},
   "source": [
    "Exemplo do quadrado, mas agora aplicado as condicionais. Suponha que o usuário está jogando um videogame e ele tem que adivinhar um ponto de coordenodas x e y no plano cartesiano que pertença ao quadrado de vértices A(0, 0); B(1, 1); C(1, 1) D(0, 1). Se ele acertar, a mensagem que irá sair é que o ponto pertence ao quadrado, senão, que o ponto não pertence. Escreva o código para essa situação."
   ]
  },
  {
   "cell_type": "code",
   "execution_count": null,
   "metadata": {},
   "outputs": [
    {
     "name": "stdout",
     "output_type": "stream",
     "text": [
      "o ponto pertence ao quadrado\n"
     ]
    }
   ],
   "source": [
    "X = float(input(f'advinhe um valor do ponto no eixo X'))\n",
    "Y = float(input(f'advinhe um valor do ponto no eixo Y'))\n",
    "if (0<=X) and (X<=1) and (0<=Y) and (Y<=1):\n",
    "    print(f'o ponto pertence ao quadrado')\n",
    "else:\n",
    "   print(f'o ponto não pertence ao quadrado')"
   ]
  },
  {
   "cell_type": "markdown",
   "metadata": {},
   "source": [
    "Considere as alíquotas e deduções e monte um código para calcular o imposto de renda a depender da renda mensal.\n",
    "\n",
    "![Alt Text](image-5.png)\n",
    "\n"
   ]
  },
  {
   "cell_type": "code",
   "execution_count": null,
   "metadata": {},
   "outputs": [
    {
     "name": "stdout",
     "output_type": "stream",
     "text": [
      "Seu IR mensal é: R$ 274115.04\n"
     ]
    }
   ],
   "source": [
    "#slicitar ao usuário que insira sua renda mensal\n",
    "renda_mensal = float(input(\"Digite sua renda mensal em reais:\"))\n",
    "\n",
    "#defiir as faixas de renda mensais e as respectivas alícitas\n",
    "faixas_de_renda_mensal = [2112.00, 2826.65, 3751.05, 4668.68]\n",
    "aliquotas_mensais = [0.075, 0.15, 0.225, 0.275]\n",
    "deducao_por_faixa =[158.40, 370.40, 651.73, 884.96]\n",
    "\n",
    "#Inicializar o IR\n",
    "imposto_de_renda_mensal = 0\n",
    "\n",
    "#verificar em qual faixa de renda mensal o usuário se encontra\n",
    "if renda_mensal <= faixas_de_renda_mensal[0]:\n",
    "    imposto_de_renda_mensal = 0\n",
    "elif renda_mensal <= faixas_de_renda_mensal [1]:\n",
    "    imposto_de_renda_mensal = renda_mensal * aliquotas_mensais[0] - deducao_por_faixa[0]\n",
    "elif renda_mensal <= faixas_de_renda_mensal [2]:\n",
    "    imposto_de_renda_mensal = renda_mensal * aliquotas_mensais[1] - deducao_por_faixa[1]\n",
    "elif renda_mensal <= faixas_de_renda_mensal [3]:\n",
    "    imposto_de_renda_mensal = renda_mensal * aliquotas_mensais[2] - deducao_por_faixa[2]\n",
    "else:\n",
    "    imposto_de_renda_mensal = renda_mensal * aliquotas_mensais[3] - deducao_por_faixa[3]\n",
    "#imprimir o valor mensal do IR\n",
    "print(f\"Seu IR mensal é: R$ {imposto_de_renda_mensal:.2f}\")"
   ]
  },
  {
   "cell_type": "markdown",
   "metadata": {},
   "source": [
    "Exemplo com operadores de associação e de identidade"
   ]
  },
  {
   "cell_type": "code",
   "execution_count": null,
   "metadata": {},
   "outputs": [
    {
     "name": "stdout",
     "output_type": "stream",
     "text": [
      "Banana está na lista de frutas.\n",
      "Morango não está na lista de frutas.\n",
      "A palavra 'Python' está na frase.\n",
      "Apalavra 'Java' não está na frase.\n"
     ]
    }
   ],
   "source": [
    "#Exemplo com lista\n",
    "frutas = [\"maça\", \"banana\", \"laranja\", \"uva\"]\n",
    "\n",
    "if \"banana\" in frutas:\n",
    "    print(\"Banana está na lista de frutas.\")\n",
    "\n",
    "if \"morango\" not in frutas:\n",
    "    print(\"Morango não está na lista de frutas.\")\n",
    "\n",
    "#Exemplo com string\n",
    "frase = \"Python é uma linguagem de programação poderosa.\"\n",
    "if \"Python\" in frase:\n",
    "    print(\"A palavra 'Python' está na frase.\")\n",
    "\n",
    "if \"java\" not in frase:\n",
    "    print(\"Apalavra 'Java' não está na frase.\")\n"
   ]
  },
  {
   "cell_type": "code",
   "execution_count": 16,
   "metadata": {},
   "outputs": [
    {
     "name": "stdout",
     "output_type": "stream",
     "text": [
      "Maria está na lista de contatos com o email maria@email.com\n",
      "Carlos não está na lista de contatos.\n"
     ]
    }
   ],
   "source": [
    "#Criando um dicionário de contatos\n",
    "contatos = {\n",
    "    \"João\": \"joao@email.com\",\n",
    "    \"Maria\": \"maria@email.com\",\n",
    "    \"Pedro\": \"pedro@email.com\"\n",
    "}\n",
    "\n",
    "#Verificando se a chave está presente no dicionário\n",
    "nome = \"Maria\"\n",
    "\n",
    "if nome in contatos:\n",
    "    print(f'{nome} está na lista de contatos com o email {contatos[nome]}')\n",
    "else:\n",
    "    print(f'{nome} não está na lista de contatos.')\n",
    "\n",
    "nome = \"Carlos\"\n",
    "\n",
    "if nome not in contatos:\n",
    "    print(f'{nome} não está na lista de contatos.')"
   ]
  },
  {
   "cell_type": "code",
   "execution_count": null,
   "metadata": {},
   "outputs": [
    {
     "name": "stdout",
     "output_type": "stream",
     "text": [
      "False\n",
      "lista1 e lista2 têm identidades diferentes.\n",
      "True\n",
      "lista1 e lista2 têm a mesma identidade.\n",
      "True\n"
     ]
    }
   ],
   "source": [
    "#usando operadores de identidade\n",
    "\n",
    "#Criando duas listas com o mesmo conteúdo\n",
    "lista1 = [1, 2, 3]\n",
    "lista2 = [1, 2, 3]\n",
    "\n",
    "#Verificando se as duas listas têm a mesma identidade (also pois são variáveis diferentes):\n",
    "print(lista1 is lista2)\n",
    "if lista1 is lista2:\n",
    "    print(\"lista1 e lista2 têm a mesma identidade.\")\n",
    "else:\n",
    "    print(\"lista1 e lista2 têm identidades diferentes.\")\n",
    "\n",
    "#Verificando se as duas listas têm conteúdo igual:\n",
    "print(lista1 == lista2)\n",
    "if lista1 == lista2:\n",
    "    print(\"lista1 e lista2 têm a mesma identidade.\")\n",
    "else:\n",
    "    print(\"lista1 e lista2 têm identidades diferentes.\")\n",
    "\n",
    "#Tornando as duas a mesma coisa\n",
    "lista1 = lista2\n",
    "print(lista1 is lista2)\n"
   ]
  }
 ],
 "metadata": {
  "kernelspec": {
   "display_name": "Python 3",
   "language": "python",
   "name": "python3"
  },
  "language_info": {
   "codemirror_mode": {
    "name": "ipython",
    "version": 3
   },
   "file_extension": ".py",
   "mimetype": "text/x-python",
   "name": "python",
   "nbconvert_exporter": "python",
   "pygments_lexer": "ipython3",
   "version": "3.11.5"
  },
  "orig_nbformat": 4
 },
 "nbformat": 4,
 "nbformat_minor": 2
}
